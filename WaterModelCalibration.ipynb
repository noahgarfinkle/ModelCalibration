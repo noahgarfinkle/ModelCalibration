{
 "cells": [
  {
   "cell_type": "markdown",
   "metadata": {},
   "source": [
    "# Water Model Calibration"
   ]
  },
  {
   "cell_type": "markdown",
   "metadata": {},
   "source": [
    "## TODO\n",
    "- [x] Generate average model\n",
    "- [ ] Network statistics of pipe locations and sensor locations"
   ]
  },
  {
   "cell_type": "markdown",
   "metadata": {},
   "source": [
    "# Set Up"
   ]
  },
  {
   "cell_type": "code",
   "execution_count": 1,
   "metadata": {},
   "outputs": [],
   "source": [
    "import wntr\n",
    "import pandas as pd\n",
    "import numpy as np\n",
    "import matplotlib.pyplot as plt\n",
    "import seaborn as sns\n",
    "import scipy.stats as stats\n",
    "import scipy as sp\n",
    "import chaospy as cp\n",
    "from ipypb import track\n",
    "from matplotlib import cm\n",
    "import pickle\n",
    "import datetime as dt"
   ]
  },
  {
   "cell_type": "markdown",
   "metadata": {},
   "source": [
    "# Helper Methods"
   ]
  },
  {
   "cell_type": "code",
   "execution_count": 2,
   "metadata": {},
   "outputs": [],
   "source": [
    "def savePickle(dataDict,picklePath):\n",
    "    dataDict[\"timestamp\"] = dt.datetime.now()\n",
    "    pickle.dump( dataDict, open( picklePath, \"wb\" ) )"
   ]
  },
  {
   "cell_type": "code",
   "execution_count": 3,
   "metadata": {},
   "outputs": [],
   "source": [
    "def loadPickle(picklePath):\n",
    "    dataDict = pickle.load( open( picklePath, \"rb\" ) )\n",
    "    return dataDict"
   ]
  },
  {
   "cell_type": "code",
   "execution_count": 4,
   "metadata": {},
   "outputs": [],
   "source": [
    "def extractDataFrame(wn,objType=\"Pipe\"):\n",
    "    objsDict = {}\n",
    "    try:\n",
    "        objIter = wn.pipes()\n",
    "        if objType == \"Junction\":\n",
    "            objIter = wn.junctions()\n",
    "        elif objType == \"Tank\":\n",
    "            objIter = wn.tanks()\n",
    "        elif objType == \"Reservoir\":\n",
    "            objIter = wn.reservoirs()\n",
    "        for obj in objIter:\n",
    "            obj = obj[1]\n",
    "            objDict = obj.todict()\n",
    "            for k,v in objDict.items():\n",
    "                if k in objsDict.keys():\n",
    "                    objsDict[k].append(v)\n",
    "                else:\n",
    "                    objsDict[k] = [v]\n",
    "        objsDF = pd.DataFrame(objsDict)\n",
    "        return objsDF\n",
    "    except:\n",
    "        return objsDict"
   ]
  },
  {
   "cell_type": "code",
   "execution_count": 5,
   "metadata": {},
   "outputs": [],
   "source": [
    "class ResultHelper():\n",
    "    def __init__(self,results,convertResultsToHours=True):\n",
    "        self.results = results\n",
    "        \n",
    "        # programatically set nodes\n",
    "        for nodeKey in results.node.keys():\n",
    "            self.__dict__[nodeKey] = results.node[nodeKey].T\n",
    "        \n",
    "        # progrmatically set links\n",
    "        for linkKey in results.link.keys():\n",
    "            self.__dict__[linkKey] = results.link[linkKey].T\n",
    "        \n",
    "        if convertResultsToHours:\n",
    "            self.convertResultsToHours()\n",
    "            \n",
    "    def help(self):\n",
    "        return list(self.__dict__.keys())\n",
    "        \n",
    "    def convertResultsToHours(self):\n",
    "        for prop,value in self.__dict__.items():\n",
    "            if type(value) == pd.DataFrame:\n",
    "                value.columns = [float(seconds)/3600.0 for seconds in value.columns]\n",
    "                \n",
    "    def returnResult(self,resultType,resultLocationID,time):\n",
    "        if resultType in self.__dict__.keys():\n",
    "            resultDF = self.__dict__[resultType]\n",
    "            if resultLocationID in resultDF.index:\n",
    "                if time in resultDF.columns:\n",
    "                    return self.__dict__[resultType].loc[resultLocationID][time]\n",
    "                else:\n",
    "                    print(f\"{time} is not a valid time\")\n",
    "            else:\n",
    "                print(f\"{resultLocationID} is not a valid element in the network\")\n",
    "        else:\n",
    "            print(f\"{resultType} is not a valid property for ResultAnalyzer\")\n",
    "            return None"
   ]
  },
  {
   "cell_type": "code",
   "execution_count": 6,
   "metadata": {},
   "outputs": [],
   "source": [
    "class Sensor():\n",
    "    def __init__(self,sensorType,name,sensorSTD,dictOfPropertyValues):\n",
    "        self.sensorType = sensorType\n",
    "        self.name = name\n",
    "        self.sensorSTD = sensorSTD\n",
    "        self.dictOfPropertyValues = dictOfPropertyValues\n",
    "        self.dictOfPropertyModelEstimates = {k:[] for k in dictOfPropertyValues.keys()}\n",
    "        \n",
    "    def calculateProbability(self,resultHelper):\n",
    "        p = 1.0\n",
    "        for sensorObservationTime,sensorObservationValue in self.dictOfPropertyValues.items():\n",
    "            modelResult = resultHelper.returnResult(self.sensorType,self.name,sensorObservationTime)\n",
    "            self.dictOfPropertyModelEstimates[sensorObservationTime].append(modelResult)\n",
    "            distribution = stats.norm(sensorObservationValue,self.sensorSTD)\n",
    "            p *= distribution.pdf(modelResult)\n",
    "        return p\n",
    "    \n",
    "    def calculateProbability_Summed(self,resultHelper):\n",
    "        p = 0.0\n",
    "        for sensorObservationTime,sensorObservationValue in self.dictOfPropertyValues.items():\n",
    "            modelResult = resultHelper.returnResult(self.sensorType,self.name,sensorObservationTime)\n",
    "            self.dictOfPropertyModelEstimates[sensorObservationTime].append(modelResult)\n",
    "            distribution = stats.norm(modelResult,self.sensorSTD)\n",
    "            p += distribution.pdf(sensorObservationValue)\n",
    "        return p        \n",
    "    \n",
    "    def calculateProbability_Summed_Log(self,resultHelper):\n",
    "        p = 0.0\n",
    "        for sensorObservationTime,sensorObservationValue in self.dictOfPropertyValues.items():\n",
    "            modelResult = resultHelper.returnResult(self.sensorType,self.name,sensorObservationTime)\n",
    "            self.dictOfPropertyModelEstimates[sensorObservationTime].append(modelResult)\n",
    "            distribution = stats.norm(modelResult,self.sensorSTD)\n",
    "            p += np.log(distribution.pdf(sensorObservationValue))\n",
    "        return p       "
   ]
  },
  {
   "cell_type": "code",
   "execution_count": 7,
   "metadata": {},
   "outputs": [],
   "source": [
    "class WaterNetworkHelper():\n",
    "    def __init__(self,wn,name=\"Water Network\"):\n",
    "        self.wn = wn\n",
    "        self.updatePipes()\n",
    "        self.name = name\n",
    "        \n",
    "    def updatePipes(self):\n",
    "        self.pipes = extractDataFrame(self.wn).set_index(\"name\")\n",
    "        self.nodes = extractDataFrame(self.wn,\"Junction\").set_index(\"name\")\n",
    "        self.tanks = extractDataFrame(self.wn,\"Tank\").set_index(\"name\")\n",
    "        self.reservoirs = extractDataFrame(self.wn,\"Reservoir\").set_index(\"name\")\n",
    "        \n",
    "    def setPipeDiameter(self,pipeID,newDiameter):\n",
    "        pipe = self.wn.get_link(pipeID)\n",
    "        pipe.diameter = newDiameter\n",
    "        self.updatePipes()\n",
    "    \n",
    "    def setPipeRoughness(self,pipeID,newRoughness):\n",
    "        pipe = self.wn.get_link(pipeID)\n",
    "        pipe.roughness = newRoughness\n",
    "        self.updatePipes()\n",
    "    \n",
    "    def setPipeStatus(self,pipeID,newStatus):\n",
    "        pipe = self.wn.get_link(pipeID)\n",
    "        pipe.status = newStatus\n",
    "        self.updatePipes()\n",
    "            \n",
    "    def runSimulation(self):\n",
    "        sim = wntr.sim.EpanetSimulator(self.wn)\n",
    "        results = ResultHelper(sim.run_sim())\n",
    "        return results        \n",
    "    \n",
    "    def plotNetwork(self,figsize=(10,10),link_attribute=None,node_attribute=None):\n",
    "        fig,ax = plt.subplots(figsize=figsize)\n",
    "        wntr.graphics.plot_network(self.wn, title=self.name,ax=ax,node_attribute=node_attribute,link_attribute=link_attribute)"
   ]
  },
  {
   "cell_type": "code",
   "execution_count": 27,
   "metadata": {},
   "outputs": [],
   "source": [
    "class Calibrator():\n",
    "    def __init__(self,elementName,elementProperty,distribution,trueValue=None):\n",
    "        self.elementName = elementName\n",
    "        self.elementProperty = elementProperty\n",
    "        self.prior = distribution # type of distribution\n",
    "        self.values = []\n",
    "        self.proposedValues = []\n",
    "        self.trueValue = trueValue\n",
    "        \n",
    "    def generateProposal(self):\n",
    "        return self.prior.rvs()\n",
    "    \n",
    "    def generateTransition(self,currentValue=None,σ=None):\n",
    "        if not currentValue:\n",
    "            currentValue = self.values[-1]\n",
    "        if not σ:\n",
    "            σ = self.prior.std()\n",
    "        # simple gaussian case\n",
    "        dist = stats.norm(currentValue,σ)\n",
    "        return dist.rvs()\n",
    "    \n",
    "    def calculateProbability(self,value):\n",
    "        return self.prior.pdf(value)\n",
    "    \n",
    "    def calculateProbability_Transition(self,value):\n",
    "        dist = stats.norm(self.values[-1],self.prior.std())\n",
    "        return dist.pdf(value)\n",
    "    \n",
    "    def fitDistribution(self,dist=stats.norm):\n",
    "        params = dist.fit(calibrator.values)\n",
    "        return params\n",
    "        \n",
    "    def setValue(self,waterNetworkHelper,newValue):\n",
    "        if self.elementProperty == \"diameter\":\n",
    "            waterNetworkHelper.setPipeDiameter(self.elementName,newValue)\n",
    "        elif self.elementProperty == \"roughness\":\n",
    "            waterNetworkHelper.setPipeRoughness(self.elementName,newValue)\n",
    "        elif self.elementProperty == \"status\":\n",
    "            waterNetworkHelper.setPipeStatus(self.elementName,newValue)\n",
    "            \n",
    "    def setValueToResult(self,waterNetworkHelper,resultMetric=\"mean\",burnin=0.0):\n",
    "        resultWithBurnin = self.values[int(burnin*len(self.values)):]\n",
    "        result = np.mean(resultWithBurnin)\n",
    "        if resultMetric == \"median\":\n",
    "            result = np.median(resultWithBurnin)\n",
    "        \n",
    "        self.setValue(waterNetworkHelper,result)\n",
    "            \n",
    "    def plot(self,trueValue,burnin=0.0,ax=None):\n",
    "        columnName = f\"{self.elementName} {self.elementProperty}\"\n",
    "        valuesSubset = self.values[int(burnin*len(self.values)):len(self.values)+1]\n",
    "        calibratorDFToPlot = pd.DataFrame({columnName:valuesSubset})\n",
    "        if not ax:\n",
    "            fig,ax = plt.subplots(figsize=(10,10))\n",
    "        calibratorDFToPlot.plot(kind=\"hist\",ax=ax,legend=False,density=True)\n",
    "        ax.axvline(trueValue,color=\"red\",ls=\"--\",label=\"True Value\")\n",
    "        ax.set_title(f'{columnName}\\nCalibrated Mean: {calibratorDFToPlot[columnName].mean():.1f}, Calibrated Median: {calibratorDFToPlot[columnName].median():.1f}\\nTrue Value: {trueValue:.1f}\\nPrior Mean: {self.prior.mean():.1f}')\n",
    "        ax.set_xlabel(self.elementProperty)\n",
    "        \n",
    "        # add the prior distribution\n",
    "        priorEstimates = []\n",
    "        \n",
    "        lspace = np.linspace(0,220,10000)\n",
    "        ns = self.prior.pdf(lspace)\n",
    "        sns.lineplot(lspace,ns,ax=ax,color=\"orange\",alpha=0.2,label=\"Prior\")\n",
    "        ax.fill_between(lspace,ns, color=\"orange\", alpha=0.1)\n",
    "        \n",
    "#         for i in range(0,10000):\n",
    "#             priorEstimates.append(self.generateProposal())\n",
    "#         priorEstimatesDF = pd.DataFrame({\"Prior\":priorEstimates})\n",
    "#         priorEstimatesDF.plot(kind=\"hist\",ax=ax,color=\"orange\",alpha=0.1,label=\"Prior\",density=True)\n",
    "        return ax\n",
    "\n",
    "    def plotRollingAverage(self,trueValue,burnin=0.0,ax=None,pointAlpha=0.1):\n",
    "        if not ax:\n",
    "            fig,ax = plt.subplots(figsize=(10,5))\n",
    "            \n",
    "        rollingAverages = []\n",
    "        for i in range(1,len(self.values)):\n",
    "            rollingAverages.append(np.mean(self.values[0:i]))\n",
    "        sns.lineplot(range(1,len(self.values)),rollingAverages,ax=ax)\n",
    "        ax.set_title(f\"{self.elementName} {self.elementProperty} Rolling Average\")\n",
    "        ax.set_xlabel(\"Iteration\")\n",
    "        ax.set_ylabel(self.elementProperty)\n",
    "        ax.axhline(trueValue,ls=\"--\",alpha=0.1,color=\"red\")\n",
    "        sns.scatterplot(range(0,len(self.proposedValues)),self.proposedValues,marker=\"x\",color=\"grey\",alpha=pointAlpha,ax=ax)\n",
    "        return ax\n",
    "    \n",
    "    def plotRollingSTD(self,trueValue,burnin=0.0,ax=None):\n",
    "            if not ax:\n",
    "                fig,ax = plt.subplots(figsize=(10,5))\n",
    "\n",
    "            rollingStds = []\n",
    "            for i in range(1,len(self.values)):\n",
    "                rollingStds.append(np.std(self.values[0:i]))\n",
    "            sns.lineplot(range(1,len(self.values)),rollingStds,ax=ax)\n",
    "            ax.set_title(f\"{self.elementName} {self.elementProperty} Rolling Standard Deviation\")\n",
    "            ax.set_xlabel(\"Iteration\")\n",
    "            ax.set_ylabel(self.elementProperty)\n",
    "            return ax"
   ]
  },
  {
   "cell_type": "markdown",
   "metadata": {},
   "source": [
    "# Methods for Markov Chain Monte Carlo"
   ]
  },
  {
   "cell_type": "code",
   "execution_count": 9,
   "metadata": {},
   "outputs": [],
   "source": [
    "def π_Transition(listOfCalibrators):\n",
    "    estimatesDict = {}\n",
    "    for calibrator in listOfCalibrators:\n",
    "        rv = calibrator.generateTransition()\n",
    "        estimatesDict[calibrator] = rv\n",
    "    return estimatesDict             "
   ]
  },
  {
   "cell_type": "code",
   "execution_count": 10,
   "metadata": {},
   "outputs": [],
   "source": [
    "\"\"\"\n",
    "This function generates the random numbers for the parameters being tested\n",
    "\"\"\"\n",
    "def π(listOfCalibrators):\n",
    "    estimatesDict = {}\n",
    "    for calibrator in listOfCalibrators:\n",
    "        rv = calibrator.generateProposal()\n",
    "        estimatesDict[calibrator] = rv\n",
    "    return estimatesDict     "
   ]
  },
  {
   "cell_type": "code",
   "execution_count": 11,
   "metadata": {},
   "outputs": [],
   "source": [
    "\"\"\"\n",
    "This function calculates the probability that the parameters are \n",
    "pulled from their distribution\n",
    "\"\"\"\n",
    "def π_Prior(estimatesDict):\n",
    "    p = 1.0\n",
    "    for calibrator,parameterValue in estimatesDict.items():\n",
    "#         pi = calibrator.calculateProbability(parameterValue)\n",
    "        pi = calibrator.calculateProbability_Transition(parameterValue)\n",
    "        p *= pi\n",
    "    return p"
   ]
  },
  {
   "cell_type": "code",
   "execution_count": 12,
   "metadata": {},
   "outputs": [],
   "source": [
    "\"\"\"\n",
    "This function loops through a set of observations and calculates the\n",
    "log-liklihood of each, summed\n",
    "\"\"\"\n",
    "def π_Log_Liklihood(listOfSensors,modelResult):\n",
    "    logLiklihood = 0.0\n",
    "    for sensor in listOfSensors:\n",
    "        logLiklihood += sensor.calculateProbability_Summed_Log(modelResult)\n",
    "#         logLiklihood += sensor.calculateProbability_Summed(modelResult)\n",
    "#     logLiklihood = np.log(logLiklihood)\n",
    "    return logLiklihood"
   ]
  },
  {
   "cell_type": "code",
   "execution_count": 13,
   "metadata": {},
   "outputs": [],
   "source": [
    "def setParameterValues(proposedParameters):\n",
    "    for calibrator,proposedParameterValue in proposedParameters.items():\n",
    "        calibrator.values.append(proposedParameterValue)"
   ]
  },
  {
   "cell_type": "code",
   "execution_count": 14,
   "metadata": {},
   "outputs": [],
   "source": [
    "def generateRandomCalibrators(waterNetwork,pAddCalibrator=0.05,calibrationParameter=\"roughness\"):\n",
    "    listOfCalibrators = []\n",
    "    pAddCalibrator = 0.05\n",
    "    for i,row in waterNetwork.pipes.iterrows():\n",
    "        rand = np.random.random()\n",
    "        if rand < pAddCalibrator:\n",
    "            actualRoughness = row[\"roughness\"]\n",
    "            dist = stats.norm(actualRoughness,calibratorSTD)\n",
    "            calibrator = Calibrator(i,\"roughness\",dist,trueValue=actualRoughness)\n",
    "            listOfCalibrators.append(calibrator)\n",
    "    return listOfCalibrators"
   ]
  },
  {
   "cell_type": "code",
   "execution_count": 15,
   "metadata": {},
   "outputs": [],
   "source": [
    "def generateRandomSensors(waterNetwork,pAddSensor=0.2,sensorProperty=\"flowrate\",timesToAdd=[1.00,2.25,5.00],sensorSTD=0.001):\n",
    "    listOfSensors = []\n",
    "    testResult = waterNetwork.runSimulation()\n",
    "    for i,row in testResult.flowrate.iterrows():\n",
    "        rand = np.random.random()\n",
    "        if rand < pAddSensor:\n",
    "            sensorProperty = \"flowrate\"\n",
    "            sensorName = i\n",
    "            sensorDict = {}\n",
    "            for time in testResult.pressure.columns:\n",
    "                if time in timesToAdd:\n",
    "                    sensorDict[time] = row[time]\n",
    "            sensor = Sensor(sensorProperty,sensorName,sensorSTD,sensorDict)\n",
    "            listOfSensors.append(sensor)\n",
    "    return listOfSensors"
   ]
  },
  {
   "cell_type": "code",
   "execution_count": 16,
   "metadata": {},
   "outputs": [],
   "source": [
    "def generateListOfCalibrators(waterNetwork,listOfCalibratorLocations,calibrationParameter=\"roughness\",calibratorSTD=30):\n",
    "    listOfCalibrators = []\n",
    "    for i,row in waterNetwork.pipes.iterrows():\n",
    "        if i in listOfCalibratorLocations:\n",
    "            actualRoughness = row[\"roughness\"]\n",
    "            dist = stats.norm(actualRoughness,calibratorSTD)\n",
    "            calibrator = Calibrator(i,\"roughness\",dist,trueValue=actualRoughness)\n",
    "            listOfCalibrators.append(calibrator)\n",
    "    return listOfCalibrators"
   ]
  },
  {
   "cell_type": "code",
   "execution_count": 17,
   "metadata": {},
   "outputs": [],
   "source": [
    "def generateListOfSensors(waterNetwork,listOfSensorLocations,sensorProperty=\"flowrate\",timesToAdd=[1.00,2.25,5.00],sensorSTD=0.001):\n",
    "    listOfSensors = []\n",
    "    testResult = waterNetwork.runSimulation()\n",
    "    for i,row in testResult.flowrate.iterrows():\n",
    "        if i in listOfSensorLocations:\n",
    "            sensorProperty = \"flowrate\"\n",
    "            sensorName = i\n",
    "            sensorDict = {}\n",
    "            for time in testResult.pressure.columns:\n",
    "                if time in timesToAdd:\n",
    "                    sensorDict[time] = row[time]\n",
    "            sensor = Sensor(sensorProperty,sensorName,sensorSTD,sensorDict)\n",
    "            listOfSensors.append(sensor)\n",
    "    return listOfSensors"
   ]
  },
  {
   "cell_type": "code",
   "execution_count": 18,
   "metadata": {},
   "outputs": [],
   "source": [
    "def MCMC(waterNetwork,calibrators,sensors,nIterations=1000):\n",
    "    dataDict = {}\n",
    "    iterations = []\n",
    "    acceptanceRatios = []\n",
    "    isAccepted = []\n",
    "    \n",
    "    currentParameters = π(listOfCalibrators)\n",
    "    for calibrator,proposedParameterValue in currentParameters.items():\n",
    "        calibrator.values.append(proposedParameterValue)\n",
    "        calibrator.setValue(waterNetwork,proposedParameterValue)\n",
    "    currentModelResult = waterNetwork.runSimulation()\n",
    "    \n",
    "    for i in track(range(0,nIterations)):\n",
    "        iterations.append(i)\n",
    "\n",
    "        # generate a set of proposed values as a starting point\n",
    "        proposedParameters = π_Transition(listOfCalibrators)\n",
    "        for calibrator,proposedParameterValue in proposedParameters.items():\n",
    "            calibrator.proposedValues.append(proposedParameterValue)\n",
    "            # udpate the model\n",
    "            calibrator.setValue(waterNetwork,proposedParameterValue)\n",
    "\n",
    "        # run the model\n",
    "        try:\n",
    "            modelResult = waterNetwork.runSimulation()\n",
    "\n",
    "            # calculate the acceptance probabilities\n",
    "            α_1 = 0 #np.log(π_Prior(proposedParameters))\n",
    "            α_2 = π_Log_Liklihood(listOfSensors,modelResult)\n",
    "            α_3 = 0 #np.log(π_Prior({calibrator:calibrator.values[-1] for calibrator in listOfCalibrators}))\n",
    "            α_4 = π_Log_Liklihood(listOfSensors,currentModelResult)\n",
    "            α = np.exp(α_1 + α_2 - α_3 - α_4)\n",
    "            α = min(1.0,α)\n",
    "            acceptanceRatios.append(α)\n",
    "            accepted = False\n",
    "\n",
    "            # decide if we accept\n",
    "            if α == 1: # accept\n",
    "                setParameterValues(proposedParameters)\n",
    "                currentParameters = proposedParameters\n",
    "                currentModelResult = modelResult\n",
    "                accepted = True\n",
    "            else: # draw a random number and take the probability based on α\n",
    "                rand = np.random.random()\n",
    "                if rand < α: # accept\n",
    "                    setParameterValues(proposedParameters)\n",
    "                    currentParameters = proposedParameters\n",
    "                    currentModelResult = modelResult\n",
    "                    accepted = True\n",
    "                else:\n",
    "                    setParameterValues(currentParameters)\n",
    "\n",
    "            # update our iteration\n",
    "            # update parameter histories\n",
    "            isAccepted.append(accepted)\n",
    "        except:\n",
    "            # model failed\n",
    "            pass\n",
    "\n",
    "    dataDict[\"iterations\"] = iterations\n",
    "    dataDict[\"acceptanceRatios\"] = acceptanceRatios\n",
    "    dataDict[\"isAccepted\"] = isAccepted\n",
    "    dataDict[\"calibrators\"] = listOfCalibrators\n",
    "    dataDict[\"sensors\"] = listOfSensors\n",
    "    dataDict[\"model\"] = waterNetwork\n",
    "    return dataDict"
   ]
  },
  {
   "cell_type": "code",
   "execution_count": 19,
   "metadata": {},
   "outputs": [],
   "source": [
    "def GA():\n",
    "    return None"
   ]
  },
  {
   "cell_type": "markdown",
   "metadata": {},
   "source": [
    "# MCMC Step By Step"
   ]
  },
  {
   "cell_type": "code",
   "execution_count": 20,
   "metadata": {},
   "outputs": [
    {
     "data": {
      "text/plain": [
       "(<matplotlib.collections.PathCollection at 0x279763ec148>,\n",
       " <matplotlib.collections.LineCollection at 0x279763ec9c8>)"
      ]
     },
     "execution_count": 20,
     "metadata": {},
     "output_type": "execute_result"
    },
    {
     "data": {
      "image/png": "[encoded data removed]",
      "text/plain": [
       "<Figure size 432x288 with 1 Axes>"
      ]
     },
     "metadata": {},
     "output_type": "display_data"
    },
    {
     "data": {
      "image/png": "[encoded data removed]",
      "text/plain": [
       "<Figure size 432x288 with 2 Axes>"
      ]
     },
     "metadata": {},
     "output_type": "display_data"
    }
   ],
   "source": [
    "# Set up the known network\n",
    "inp_file = 'networks/Net3.inp'\n",
    "wn_true = wntr.network.WaterNetworkModel(inp_file)\n",
    "waterNetwork = WaterNetworkHelper(wn_true)\n",
    "\n",
    "# Graph the network\n",
    "wntr.graphics.plot_network(wn_true, title=\"True Network\")\n",
    "\n",
    "# Simulate hydraulics\n",
    "sim_true = wntr.sim.EpanetSimulator(wn_true)\n",
    "results_true = sim_true.run_sim()\n",
    "\n",
    "# Plot results on the network\n",
    "pressure_at_5hr = results_true.node['pressure'].loc[5*3600, :]\n",
    "wntr.graphics.plot_network(wn_true, node_attribute=pressure_at_5hr, node_size=30, \n",
    "                        title='Pressure at 5 hours')"
   ]
  },
  {
   "cell_type": "code",
   "execution_count": 21,
   "metadata": {},
   "outputs": [
    {
     "data": {
      "text/html": [
       "<div><span class=\"Text-label\" style=\"display:inline-block; overflow:hidden; white-space:nowrap; text-overflow:ellipsis; min-width:0; max-width:15ex; vertical-align:middle; text-align:right\"></span>\n",
       "<progress style=\"width:60ex\" max=\"100\" value=\"100\" class=\"Progress-main\"/></progress>\n",
       "<span class=\"Progress-label\"><strong>100%</strong></span>\n",
       "<span class=\"Iteration-label\">100/100</span>\n",
       "<span class=\"Time-label\">[00:44<00:00, 0.44s/it]</span></div>"
      ],
      "text/plain": [
       "\u001b[A\u001b[2K\r",
       " [████████████████████████████████████████████████████████████] 100/100 [00:44<00:00, 0.44s/it]"
      ]
     },
     "metadata": {},
     "output_type": "display_data"
    },
    {
     "name": "stderr",
     "output_type": "stream",
     "text": [
      "C:\\Users\\garfink2\\AppData\\Local\\Continuum\\anaconda3\\envs\\phd\\lib\\site-packages\\ipykernel_launcher.py:32: RuntimeWarning:\n",
      "\n",
      "overflow encountered in exp\n",
      "\n"
     ]
    }
   ],
   "source": [
    "listOfCalibrators = generateListOfCalibrators(waterNetwork,[\"204\",\"225\",\"229\",\"173\"],calibrationParameter=\"roughness\",calibratorSTD=30)\n",
    "listOfSensors = generateRandomSensors(waterNetwork)\n",
    "resultsDict = MCMC(waterNetwork,listOfCalibrators,listOfSensors,nIterations=100)"
   ]
  },
  {
   "cell_type": "markdown",
   "metadata": {},
   "source": [
    "# Functions to Plot Results"
   ]
  },
  {
   "cell_type": "code",
   "execution_count": 22,
   "metadata": {},
   "outputs": [],
   "source": [
    "def generateResultingModel(waterNetwork,listOfCalibrators,burnin=0.25,resultMetric=\"mean\"):\n",
    "    for calibrator in listOfCalibrators:\n",
    "        calibrator.setValueToResult(waterNetwork,burnin=burnin,resultMetric=resultMetric)\n",
    "    results = waterNetwork.runSimulation()\n",
    "    return results"
   ]
  },
  {
   "cell_type": "code",
   "execution_count": 23,
   "metadata": {},
   "outputs": [],
   "source": [
    "resultModel = generateResultingModel(waterNetwork,listOfCalibrators)"
   ]
  },
  {
   "cell_type": "code",
   "execution_count": 24,
   "metadata": {},
   "outputs": [],
   "source": [
    "def plotDifferencesInResults(actualMdoel,calibratedModel,time=5.00):\n",
    "    fig,ax = plt.subplots(figsize=(20,5))\n",
    "    (actualModel.flowrate[time] - calibratedModel.flowrate[time]).plot(ax=ax,kind=\"bar\")\n",
    "    ax.set_title(f\"Actual Differences in Link Flow Rates at Hour {time}\\nAcceptance Rate: {np.sum(isAccepted)/len(isAccepted)}\");"
   ]
  },
  {
   "cell_type": "code",
   "execution_count": 25,
   "metadata": {},
   "outputs": [],
   "source": [
    "def plotCalibratorResults(listOfCalibrators,burnin=0.2,figsize=(22,7),savePath=None,pointAlpha=0.2):\n",
    "    for calibrator in listOfCalibrators:\n",
    "        fig,(ax1,ax2,ax3) = plt.subplots(1,3,figsize=figsize)\n",
    "        calibrator.plot(calibrator.trueValue,burnin=burnin,ax=ax1)\n",
    "        calibrator.plotRollingAverage(calibrator.trueValue,burnin=burnin,ax=ax2,pointAlpha=pointAlpha)\n",
    "        calibrator.plotRollingSTD(calibrator.trueValue,burnin=burnin,ax=ax3)\n",
    "    if savePath:\n",
    "        fig.savefig(savePath)\n",
    "    return (ax1,ax2,ax3)"
   ]
  },
  {
   "cell_type": "code",
   "execution_count": 26,
   "metadata": {},
   "outputs": [
    {
     "ename": "NameError",
     "evalue": "name 'calibrator' is not defined",
     "output_type": "error",
     "traceback": [
      "\u001b[1;31m---------------------------------------------------------------------------\u001b[0m",
      "\u001b[1;31mNameError\u001b[0m                                 Traceback (most recent call last)",
      "\u001b[1;32m<ipython-input-26-85e2b7e8ab6f>\u001b[0m in \u001b[0;36m<module>\u001b[1;34m\u001b[0m\n\u001b[1;32m----> 1\u001b[1;33m \u001b[0mplotCalibratorResults\u001b[0m\u001b[1;33m(\u001b[0m\u001b[0mlistOfCalibrators\u001b[0m\u001b[1;33m)\u001b[0m\u001b[1;33m\u001b[0m\u001b[1;33m\u001b[0m\u001b[0m\n\u001b[0m",
      "\u001b[1;32m<ipython-input-25-98158245346f>\u001b[0m in \u001b[0;36mplotCalibratorResults\u001b[1;34m(listOfCalibrators, burnin, figsize, savePath, pointAlpha)\u001b[0m\n\u001b[0;32m      2\u001b[0m     \u001b[1;32mfor\u001b[0m \u001b[0mcalibrator\u001b[0m \u001b[1;32min\u001b[0m \u001b[0mlistOfCalibrators\u001b[0m\u001b[1;33m:\u001b[0m\u001b[1;33m\u001b[0m\u001b[1;33m\u001b[0m\u001b[0m\n\u001b[0;32m      3\u001b[0m         \u001b[0mfig\u001b[0m\u001b[1;33m,\u001b[0m\u001b[1;33m(\u001b[0m\u001b[0max1\u001b[0m\u001b[1;33m,\u001b[0m\u001b[0max2\u001b[0m\u001b[1;33m,\u001b[0m\u001b[0max3\u001b[0m\u001b[1;33m)\u001b[0m \u001b[1;33m=\u001b[0m \u001b[0mplt\u001b[0m\u001b[1;33m.\u001b[0m\u001b[0msubplots\u001b[0m\u001b[1;33m(\u001b[0m\u001b[1;36m1\u001b[0m\u001b[1;33m,\u001b[0m\u001b[1;36m3\u001b[0m\u001b[1;33m,\u001b[0m\u001b[0mfigsize\u001b[0m\u001b[1;33m=\u001b[0m\u001b[0mfigsize\u001b[0m\u001b[1;33m)\u001b[0m\u001b[1;33m\u001b[0m\u001b[1;33m\u001b[0m\u001b[0m\n\u001b[1;32m----> 4\u001b[1;33m         \u001b[0mcalibrator\u001b[0m\u001b[1;33m.\u001b[0m\u001b[0mplot\u001b[0m\u001b[1;33m(\u001b[0m\u001b[0mcalibrator\u001b[0m\u001b[1;33m.\u001b[0m\u001b[0mtrueValue\u001b[0m\u001b[1;33m,\u001b[0m\u001b[0mburnin\u001b[0m\u001b[1;33m=\u001b[0m\u001b[0mburnin\u001b[0m\u001b[1;33m,\u001b[0m\u001b[0max\u001b[0m\u001b[1;33m=\u001b[0m\u001b[0max1\u001b[0m\u001b[1;33m)\u001b[0m\u001b[1;33m\u001b[0m\u001b[1;33m\u001b[0m\u001b[0m\n\u001b[0m\u001b[0;32m      5\u001b[0m         \u001b[0mcalibrator\u001b[0m\u001b[1;33m.\u001b[0m\u001b[0mplotRollingAverage\u001b[0m\u001b[1;33m(\u001b[0m\u001b[0mcalibrator\u001b[0m\u001b[1;33m.\u001b[0m\u001b[0mtrueValue\u001b[0m\u001b[1;33m,\u001b[0m\u001b[0mburnin\u001b[0m\u001b[1;33m=\u001b[0m\u001b[0mburnin\u001b[0m\u001b[1;33m,\u001b[0m\u001b[0max\u001b[0m\u001b[1;33m=\u001b[0m\u001b[0max2\u001b[0m\u001b[1;33m,\u001b[0m\u001b[0mpointAlpha\u001b[0m\u001b[1;33m=\u001b[0m\u001b[0mpointAlpha\u001b[0m\u001b[1;33m)\u001b[0m\u001b[1;33m\u001b[0m\u001b[1;33m\u001b[0m\u001b[0m\n\u001b[0;32m      6\u001b[0m         \u001b[0mcalibrator\u001b[0m\u001b[1;33m.\u001b[0m\u001b[0mplotRollingSTD\u001b[0m\u001b[1;33m(\u001b[0m\u001b[0mcalibrator\u001b[0m\u001b[1;33m.\u001b[0m\u001b[0mtrueValue\u001b[0m\u001b[1;33m,\u001b[0m\u001b[0mburnin\u001b[0m\u001b[1;33m=\u001b[0m\u001b[0mburnin\u001b[0m\u001b[1;33m,\u001b[0m\u001b[0max\u001b[0m\u001b[1;33m=\u001b[0m\u001b[0max3\u001b[0m\u001b[1;33m)\u001b[0m\u001b[1;33m\u001b[0m\u001b[1;33m\u001b[0m\u001b[0m\n",
      "\u001b[1;32m<ipython-input-8-6d999df31ea0>\u001b[0m in \u001b[0;36mplot\u001b[1;34m(self, trueValue, burnin, ax)\u001b[0m\n\u001b[0;32m     56\u001b[0m         \u001b[0max\u001b[0m\u001b[1;33m.\u001b[0m\u001b[0maxvline\u001b[0m\u001b[1;33m(\u001b[0m\u001b[0mtrueValue\u001b[0m\u001b[1;33m,\u001b[0m\u001b[0mcolor\u001b[0m\u001b[1;33m=\u001b[0m\u001b[1;34m\"red\"\u001b[0m\u001b[1;33m,\u001b[0m\u001b[0mls\u001b[0m\u001b[1;33m=\u001b[0m\u001b[1;34m\"--\"\u001b[0m\u001b[1;33m,\u001b[0m\u001b[0mlabel\u001b[0m\u001b[1;33m=\u001b[0m\u001b[1;34m\"True Value\"\u001b[0m\u001b[1;33m)\u001b[0m\u001b[1;33m\u001b[0m\u001b[1;33m\u001b[0m\u001b[0m\n\u001b[0;32m     57\u001b[0m         \u001b[0max\u001b[0m\u001b[1;33m.\u001b[0m\u001b[0mset_title\u001b[0m\u001b[1;33m(\u001b[0m\u001b[1;34mf'{columnName}\\nCalibrated Mean: {calibratorDFToPlot[columnName].mean():.1f}, Calibrated Median: {calibratorDFToPlot[columnName].median():.1f}\\nTrue Value: {trueValue:.1f}\\nPrior Mean: {self.prior.mean():.1f}'\u001b[0m\u001b[1;33m)\u001b[0m\u001b[1;33m\u001b[0m\u001b[1;33m\u001b[0m\u001b[0m\n\u001b[1;32m---> 58\u001b[1;33m         \u001b[0max\u001b[0m\u001b[1;33m.\u001b[0m\u001b[0mset_xlabel\u001b[0m\u001b[1;33m(\u001b[0m\u001b[0mcalibrator\u001b[0m\u001b[1;33m.\u001b[0m\u001b[0melementProperty\u001b[0m\u001b[1;33m)\u001b[0m\u001b[1;33m\u001b[0m\u001b[1;33m\u001b[0m\u001b[0m\n\u001b[0m\u001b[0;32m     59\u001b[0m \u001b[1;33m\u001b[0m\u001b[0m\n\u001b[0;32m     60\u001b[0m         \u001b[1;31m# add the prior distribution\u001b[0m\u001b[1;33m\u001b[0m\u001b[1;33m\u001b[0m\u001b[1;33m\u001b[0m\u001b[0m\n",
      "\u001b[1;31mNameError\u001b[0m: name 'calibrator' is not defined"
     ]
    },
    {
     "data": {
      "image/png": "[encoded data removed]",
      "text/plain": [
       "<Figure size 1584x504 with 3 Axes>"
      ]
     },
     "metadata": {
      "needs_background": "light"
     },
     "output_type": "display_data"
    }
   ],
   "source": [
    "plotCalibratorResults(listOfCalibrators)"
   ]
  },
  {
   "cell_type": "code",
   "execution_count": null,
   "metadata": {},
   "outputs": [],
   "source": []
  },
  {
   "cell_type": "code",
   "execution_count": null,
   "metadata": {},
   "outputs": [],
   "source": [
    "fig,ax = plt.subplots(figsize=(20,5))\n",
    "(testResult.flowrate[5.00] - resultingResult.flowrate[5.00]).plot(ax=ax,kind=\"bar\")\n",
    "ax.set_title(f\"Actual Differences in Link Flow Rates at Hour 5\\nAcceptance Rate: {np.sum(isAccepted)/len(isAccepted)}\");"
   ]
  },
  {
   "cell_type": "code",
   "execution_count": null,
   "metadata": {},
   "outputs": [],
   "source": [
    "res"
   ]
  },
  {
   "cell_type": "code",
   "execution_count": null,
   "metadata": {},
   "outputs": [],
   "source": [
    "resultModel = wntr.network.WaterNetworkModel(inp_file)\n",
    "resultNetwork = WaterNetworkHelper(wn_true)\n",
    "for calibrator in listOfCalibrators:\n",
    "    calibrator.setValueToResult(resultNetwork,burnin=0.25,resultMetric=\"mean\")\n",
    "resultingResult = waterNetwork.runSimulation()"
   ]
  },
  {
   "cell_type": "code",
   "execution_count": null,
   "metadata": {},
   "outputs": [],
   "source": [
    "fig,ax = plt.subplots(figsize=(20,5))\n",
    "(testResult.pressure[5.00] - currentModelResult.pressure[5.00]).plot(ax=ax,kind=\"bar\")\n",
    "ax.set_title(f\"Actual Differences in Node Pressures\\nAcceptance Rate: {np.sum(isAccepted)/len(isAccepted)}\");"
   ]
  },
  {
   "cell_type": "code",
   "execution_count": null,
   "metadata": {},
   "outputs": [],
   "source": [
    "fig,ax = plt.subplots(figsize=(20,5))\n",
    "(testResult.flowrate[5.00] - currentModelResult.flowrate[5.00]).plot(ax=ax,kind=\"bar\")\n",
    "ax.set_title(f\"Actual Differences in Link Flow Rates\\nAcceptance Rate: {np.sum(isAccepted)/len(isAccepted)}\");"
   ]
  },
  {
   "cell_type": "code",
   "execution_count": null,
   "metadata": {},
   "outputs": [],
   "source": [
    "for calibrator in listOfCalibrators:\n",
    "    print(np.std(calibrator.values))"
   ]
  },
  {
   "cell_type": "code",
   "execution_count": null,
   "metadata": {},
   "outputs": [],
   "source": [
    "savePickle({\"name\":\"10,000 iterations first try\",\"listOfSensors\":listOfSensors,\"listOfCalibrators\":listOfCalibrators},\"trial1.pkl\")"
   ]
  },
  {
   "cell_type": "code",
   "execution_count": null,
   "metadata": {},
   "outputs": [],
   "source": [
    "testResults = loadPickle(\"trial1.pkl\")"
   ]
  },
  {
   "cell_type": "code",
   "execution_count": null,
   "metadata": {},
   "outputs": [],
   "source": [
    "testResults"
   ]
  },
  {
   "cell_type": "code",
   "execution_count": null,
   "metadata": {},
   "outputs": [],
   "source": [
    "df_sensors.columns"
   ]
  },
  {
   "cell_type": "code",
   "execution_count": null,
   "metadata": {},
   "outputs": [],
   "source": [
    "df_true.T.index"
   ]
  },
  {
   "cell_type": "code",
   "execution_count": null,
   "metadata": {},
   "outputs": [],
   "source": [
    "fig,(ax,mapAx) = plt.subplots(1,2,figsize=(20,10),gridspec_kw={'width_ratios':[2,1]})\n",
    "dict_sensors = {}\n",
    "dict_trueValues = {}\n",
    "burnIn = 0.0\n",
    "for sensor in listOfSensors:\n",
    "    dict_sensors[sensor.name]=sensor.dictOfPropertyModelEstimates[5.00][int(burnIn*len(sensor.dictOfPropertyModelEstimates[5.00])):len(sensor.dictOfPropertyModelEstimates[5.00])+1]\n",
    "    dict_trueValues[sensor.name] = [sensor.dictOfPropertyValues[5.00]]\n",
    "df_sensors = pd.DataFrame(dict_sensors)\n",
    "sns.boxplot(data=df_sensors,ax=ax)\n",
    "# df_sensors.plot(kind=\"box\",ax=ax)\n",
    "df_true = pd.DataFrame(dict_trueValues)\n",
    "df_true.T.plot(ax=ax,kind=\"bar\",alpha=0.1)\n",
    "ax.set_title(f\"Sensor Ranges Compared to True Values\\n{burnIn*100:.1f}% Burn In After {n} Iterations\\nAcceptance Rate: {np.sum(isAccepted)/len(isAccepted)*100:.1f}%\")\n",
    "\n",
    "\n",
    "baseNetwork = wntr.network.WaterNetworkModel(inp_file)\n",
    "calibratorNetwork = wntr.network.WaterNetworkModel(inp_file)\n",
    "sensorNetwork = wntr.network.WaterNetworkModel(inp_file)\n",
    "\n",
    "allPipes = [pipe[0] for pipe in baseNetwork.pipes()]\n",
    "\n",
    "calibratorPipes = [calibrator.elementName for calibrator in listOfCalibrators]\n",
    "sensorPipes = [sensor.name for sensor in listOfSensors]\n",
    "\n",
    "for control in list(calibratorNetwork.controls()):\n",
    "    try:\n",
    "        calibratorNetwork.remove_control(control[0])\n",
    "        sensorNetwork.remove_control(control[0])\n",
    "    except:\n",
    "        print(f\"error removing {control[0]}\")\n",
    "        pass\n",
    "    \n",
    "for pipe in allPipes:\n",
    "    if pipe not in calibratorPipes:\n",
    "        try:\n",
    "            calibratorNetwork.remove_link(pipe)\n",
    "        except:\n",
    "            print(f\"could not remove {pipe} from calibrators\")\n",
    "    if pipe not in sensorPipes:\n",
    "        try:\n",
    "            sensorNetwork.remove_link(pipe)\n",
    "        except:\n",
    "            print(f\"could not remove {pipe} from sensors\")\n",
    "\n",
    "wntr.graphics.plot_network(baseNetwork,link_alpha=0.1,node_alpha=0.1,ax=mapAx,link_labels=False)\n",
    "wntr.graphics.plot_network(calibratorNetwork,ax=mapAx,node_alpha=0.0,link_labels=True,link_width=5,link_cmap=cm.autumn)\n",
    "wntr.graphics.plot_network(sensorNetwork,ax=mapAx,node_alpha=0.0,link_labels=False,link_width=2)\n",
    "mapAx.set_title(\"Sensor and Calibrator Arrangement\\nThick Lines are Calibrators\\nThinner Lines are Sensors\\nGrey Lines are Fixed\")"
   ]
  },
  {
   "cell_type": "code",
   "execution_count": null,
   "metadata": {},
   "outputs": [],
   "source": [
    "fig,ax = plt.subplots()\n",
    "pd.DataFrame({\"Accepted Values\":calibrator.values}).plot(kind=\"line\",ax=ax,label=\"Accepted Values\")\n",
    "pd.DataFrame({\"Proposed Values\":calibrator.proposedValues}).plot(kind=\"line\",ax=ax,color=\"grey\",alpha=0.1,label=\"Proposed Values\")\n",
    "ax.axhline(trueValues[calibrator],ls=\"--\",color=\"red\",label=\"True Value\")\n",
    "ax.legend()\n",
    "ax.set_title(f\"{calibrator.elementName} {calibrator.elementProperty}\");"
   ]
  },
  {
   "cell_type": "code",
   "execution_count": null,
   "metadata": {},
   "outputs": [],
   "source": [
    "for calibrator in listOfCalibrators:\n",
    "    burnin = 0.25\n",
    "    fig,ax = plt.subplots()\n",
    "    pd.DataFrame({\"Accepted Values\":calibrator.values}).plot(kind=\"line\",ax=ax,label=\"Accepted Values\")\n",
    "    pd.DataFrame({\"Proposed Values\":calibrator.proposedValues}).plot(kind=\"line\",ax=ax,color=\"grey\",alpha=0.1,label=\"Proposed Values\")\n",
    "    ax.axhline(trueValues[calibrator],ls=\"--\",color=\"red\",label=\"True Value\")\n",
    "    ax.set_title(f\"{calibrator.elementName} {calibrator.elementProperty}\");\n",
    "    ax.axvspan(0,int(burnin*len(calibrator.values)),alpha=0.05,color=\"red\",label=\"Burn In Discard Range\")\n",
    "    ax.legend()"
   ]
  },
  {
   "cell_type": "code",
   "execution_count": null,
   "metadata": {},
   "outputs": [],
   "source": [
    "len(calibrator.proposedValues)"
   ]
  },
  {
   "cell_type": "code",
   "execution_count": null,
   "metadata": {},
   "outputs": [],
   "source": []
  },
  {
   "cell_type": "code",
   "execution_count": null,
   "metadata": {},
   "outputs": [],
   "source": [
    "fig,ax = plt.subplots(figsize=(10,5))\n",
    "rollingAverages = []\n",
    "for i in range(1,len(calibrator.values)):\n",
    "    rollingAverages.append(np.mean(calibrator.values[0:i]))\n",
    "sns.lineplot(range(1,len(calibrator.values)),rollingAverages,ax=ax)\n",
    "ax.set_title(f\"{calibrator.elementName} {calibrator.elementProperty} Rolling Average\")\n",
    "ax.set_xlabel(\"Iteration\")\n",
    "ax.set_ylabel(calibrator.elementProperty)\n",
    "ax.axhline(trueValues[calibrator],ls=\"--\",alpha=0.5,color=\"red\")\n",
    "sns.scatterplot(range(0,len(calibrator.proposedValues)),calibrator.proposedValues,marker=\"x\",color=\"grey\",alpha=0.05)"
   ]
  },
  {
   "cell_type": "code",
   "execution_count": null,
   "metadata": {},
   "outputs": [],
   "source": [
    "for calibrator in listOfCalibrators:\n",
    "    fig,ax = plt.subplots(figsize=(10,5))\n",
    "    rollingAverages = []\n",
    "    for i in range(1,len(calibrator.values)):\n",
    "        rollingAverages.append(np.mean(calibrator.values[0:i]))\n",
    "    sns.lineplot(range(1,len(calibrator.values)),rollingAverages,ax=ax)\n",
    "    ax.set_title(f\"{calibrator.elementName} {calibrator.elementProperty} Rolling Average\")\n",
    "    ax.set_xlabel(\"Iteration\")\n",
    "    ax.set_ylabel(calibrator.elementProperty)\n",
    "    ax.axhline(trueValues[calibrator],ls=\"--\",alpha=0.5,color=\"red\")\n",
    "    sns.scatterplot(range(0,len(calibrator.proposedValues)),calibrator.proposedValues,marker=\"x\",color=\"grey\",alpha=0.05)"
   ]
  },
  {
   "cell_type": "code",
   "execution_count": null,
   "metadata": {},
   "outputs": [],
   "source": [
    "plotNetworkSetup(resultsDict)"
   ]
  },
  {
   "cell_type": "code",
   "execution_count": null,
   "metadata": {},
   "outputs": [],
   "source": [
    "def plotNetworkSetup(resultsDict,burnIn=0.25):\n",
    "    iterations = resultsDict[\"iterations\"]\n",
    "    acceptanceRatios = resultsDict[\"acceptanceRatios\"]\n",
    "    isAccepted = resultsDict[\"isAccepted\"]\n",
    "    listOfCalibrators = resultsDict[\"calibrators\"]\n",
    "    listOfSensors = resultsDict[\"sensors\"]\n",
    "    waterNetwork = resultsDict[\"model\"]\n",
    "    \n",
    "    fig,ax = plt.subplots(figsize=(20,10))\n",
    "    dict_sensors = {}\n",
    "    dict_trueValues = {}\n",
    "    for sensor in listOfSensors:\n",
    "        dict_sensors[sensor.name]=sensor.dictOfPropertyModelEstimates[5.00][int(burnIn*len(sensor.dictOfPropertyModelEstimates[5.00])):len(sensor.dictOfPropertyModelEstimates[5.00])+1]\n",
    "        dict_trueValues[sensor.name] = [sensor.dictOfPropertyValues[5.00]]\n",
    "    df_sensors = pd.DataFrame(dict_sensors)\n",
    "    sns.boxplot(data=df_sensors,ax=ax)\n",
    "    # df_sensors.plot(kind=\"box\",ax=ax)\n",
    "    df_true = pd.DataFrame(dict_trueValues)\n",
    "    df_true.T.plot(ax=ax,kind=\"bar\",alpha=0.1)\n",
    "    n=100\n",
    "    ax.set_title(f\"Sensor Ranges Compared to True Values\\n{burnIn*100:.1f}% Burn In After {n} Iterations\\nAcceptance Rate: {np.sum(isAccepted)/len(isAccepted)*100:.1f}%\")\n",
    "\n",
    "\n",
    "    baseNetwork = wntr.network.WaterNetworkModel(inp_file)\n",
    "    calibratorNetwork = wntr.network.WaterNetworkModel(inp_file)\n",
    "    sensorNetwork = wntr.network.WaterNetworkModel(inp_file)\n",
    "\n",
    "    allPipes = [pipe[0] for pipe in baseNetwork.pipes()]\n",
    "\n",
    "    calibratorPipes = [calibrator.elementName for calibrator in listOfCalibrators]\n",
    "    sensorPipes = [sensor.name for sensor in listOfSensors]\n",
    "\n",
    "    for control in list(calibratorNetwork.controls()):\n",
    "        try:\n",
    "            calibratorNetwork.remove_control(control[0])\n",
    "            sensorNetwork.remove_control(control[0])\n",
    "        except:\n",
    "            print(f\"error removing {control[0]}\")\n",
    "            pass\n",
    "\n",
    "    for pipe in allPipes:\n",
    "        if pipe not in calibratorPipes:\n",
    "            try:\n",
    "                calibratorNetwork.remove_link(pipe)\n",
    "            except:\n",
    "                print(f\"could not remove {pipe} from calibrators\")\n",
    "        if pipe not in sensorPipes:\n",
    "            try:\n",
    "                sensorNetwork.remove_link(pipe)\n",
    "            except:\n",
    "                print(f\"could not remove {pipe} from sensors\")\n",
    "\n",
    "    fig,(ax1,ax2,ax3) = plt.subplots(1,3,figsize=(20,10))\n",
    "    wntr.graphics.plot_network(baseNetwork,link_alpha=1.0,node_alpha=0.1,ax=ax1,link_labels=True)\n",
    "    wntr.graphics.plot_network(baseNetwork,link_alpha=0.05,node_alpha=0.1,ax=ax2,link_labels=False)\n",
    "    wntr.graphics.plot_network(baseNetwork,link_alpha=0.05,node_alpha=0.1,ax=ax3,link_labels=False)\n",
    "    wntr.graphics.plot_network(calibratorNetwork,ax=ax2,node_alpha=0.0,link_labels=True,link_width=5,link_cmap=cm.autumn)\n",
    "    wntr.graphics.plot_network(sensorNetwork,ax=ax3,node_alpha=0.0,link_labels=True,link_width=2)\n",
    "    fig.suptitle(\"Sensor and Calibrator Arrangement\")\n",
    "    ax1.set_title(\"Overall Network\")\n",
    "    ax2.set_title(\"Network Elements Being Calibrated\")\n",
    "    ax3.set_title(\"Sensor Locations\")"
   ]
  },
  {
   "cell_type": "code",
   "execution_count": null,
   "metadata": {},
   "outputs": [],
   "source": [
    "baseNetwork = wntr.network.WaterNetworkModel(inp_file)\n",
    "calibratorNetwork = wntr.network.WaterNetworkModel(inp_file)\n",
    "sensorNetwork = wntr.network.WaterNetworkModel(inp_file)\n",
    "\n",
    "allPipes = [pipe[0] for pipe in baseNetwork.pipes()]\n",
    "\n",
    "calibratorPipes = [calibrator.elementName for calibrator in listOfCalibrators]\n",
    "sensorPipes = [sensor.name for sensor in listOfSensors]\n",
    "\n",
    "for control in list(calibratorNetwork.controls()):\n",
    "    try:\n",
    "        calibratorNetwork.remove_control(control[0])\n",
    "        sensorNetwork.remove_control(control[0])\n",
    "    except:\n",
    "        print(f\"error removing {control[0]}\")\n",
    "        pass\n",
    "    \n",
    "for pipe in allPipes:\n",
    "    if pipe not in calibratorPipes:\n",
    "        try:\n",
    "            calibratorNetwork.remove_link(pipe)\n",
    "        except:\n",
    "            print(f\"could not remove {pipe} from calibrators\")\n",
    "    if pipe not in sensorPipes:\n",
    "        try:\n",
    "            sensorNetwork.remove_link(pipe)\n",
    "        except:\n",
    "            print(f\"could not remove {pipe} from sensors\")\n",
    "            \n",
    "fig,ax = plt.subplots(figsize=(10,10))\n",
    "wntr.graphics.plot_network(baseNetwork,link_alpha=0.1,node_alpha=0.1,ax=ax,link_labels=True)\n",
    "wntr.graphics.plot_network(calibratorNetwork,ax=ax,node_alpha=0.0,link_labels=True,link_width=5)\n",
    "wntr.graphics.plot_network(sensorNetwork,ax=ax,node_alpha=0.0,link_labels=True,link_width=2)"
   ]
  },
  {
   "cell_type": "markdown",
   "metadata": {},
   "source": [
    "# Let's do this"
   ]
  },
  {
   "cell_type": "markdown",
   "metadata": {},
   "source": [
    "For simplicity, we are treating the only system states as flow rate, and the only parameters as pipe roughness"
   ]
  },
  {
   "cell_type": "markdown",
   "metadata": {},
   "source": [
    "## Inputs"
   ]
  },
  {
   "cell_type": "code",
   "execution_count": null,
   "metadata": {},
   "outputs": [],
   "source": [
    "class Parameter():\n",
    "    def __init__(self,pipeName,value,distribution=None,isFixed=True):\n",
    "        self.pipeName = pipeName\n",
    "        self.value = value\n",
    "        self.distribution = distribution\n",
    "        self.isFixed = isFixed\n",
    "        \n",
    "    def generateValue(self):\n",
    "        return 0\n",
    "    \n",
    "    def probabilityOfValue(self):\n",
    "        return 0"
   ]
  },
  {
   "cell_type": "code",
   "execution_count": null,
   "metadata": {},
   "outputs": [],
   "source": [
    "class Model():\n",
    "    def __init__(self,wn,listOfParameters):\n",
    "        self.wn = wn\n",
    "        self.listOfParameters = listOfParameters"
   ]
  },
  {
   "cell_type": "markdown",
   "metadata": {},
   "source": [
    "### Fixed Inputs"
   ]
  },
  {
   "cell_type": "markdown",
   "metadata": {},
   "source": [
    "### Distributions of Priors"
   ]
  },
  {
   "cell_type": "markdown",
   "metadata": {},
   "source": [
    "### Trusted System States and their Distributions (Uncertainty) for Calibration"
   ]
  },
  {
   "cell_type": "markdown",
   "metadata": {},
   "source": [
    "## Methods"
   ]
  },
  {
   "cell_type": "markdown",
   "metadata": {},
   "source": [
    "### $\\pi$- Generates the random values for the parameters being tested"
   ]
  },
  {
   "cell_type": "code",
   "execution_count": null,
   "metadata": {},
   "outputs": [],
   "source": [
    "def π():\n",
    "    return 0"
   ]
  },
  {
   "cell_type": "markdown",
   "metadata": {},
   "source": [
    "### $\\pi_{prior}$- Calculates the probability that a set of parameter 'states' are pulled from their distributions"
   ]
  },
  {
   "cell_type": "code",
   "execution_count": null,
   "metadata": {},
   "outputs": [],
   "source": [
    "def π_prior():\n",
    "    return 0"
   ]
  },
  {
   "cell_type": "markdown",
   "metadata": {},
   "source": [
    "### $\\pi_{log liklihood}$- The sum of the log liklihood of each resulting system state matching the trusted system state"
   ]
  },
  {
   "cell_type": "code",
   "execution_count": null,
   "metadata": {},
   "outputs": [],
   "source": [
    "def π_logLikelihood():\n",
    "    return 0"
   ]
  },
  {
   "cell_type": "markdown",
   "metadata": {},
   "source": [
    "### MCMC"
   ]
  },
  {
   "cell_type": "code",
   "execution_count": null,
   "metadata": {},
   "outputs": [],
   "source": [
    "def MCMC():\n",
    "    return 0"
   ]
  },
  {
   "cell_type": "markdown",
   "metadata": {},
   "source": [
    "1. Set the parameters for the model, both fixed and pulling from distributions\n",
    "2. Run the model with the selected parameters\n",
    "3. Compare model results to the \"sensor\" feeds\n",
    "4. Calculate the acceptance ratio"
   ]
  },
  {
   "cell_type": "raw",
   "metadata": {},
   "source": [
    "for parameter in wn.parameters:\n",
    "    parameterProbaility = 1.0\n",
    "    if parameter.isFixed:\n",
    "        wn.setParaemter(parameter.value)\n",
    "    else:\n",
    "        value,probability = parameter.generateProposal()\n",
    "        wn.setParameter(value)\n",
    "        parameterProbability *= probability\n",
    "results = wn.runSImulation()\n",
    "reusltsProbability = 1.0\n",
    "for calibrator in calibrators:\n",
    "    comparableResult = extractResult(results,calibrator)\n",
    "    resultProbability = calibrator.distribution.rvs(comparableResult,calibrator.value,calibrator.std)\n",
    "    resultsProbability *= resultProbability\n",
    "calculateAlpha(resultsProbability,parameterProbability)"
   ]
  },
  {
   "cell_type": "markdown",
   "metadata": {},
   "source": [
    "# Try professional library"
   ]
  },
  {
   "cell_type": "code",
   "execution_count": null,
   "metadata": {},
   "outputs": [],
   "source": [
    "import arviz as az\n",
    "import matplotlib.pyplot as plt\n",
    "import numpy as np\n",
    "import pymc3 as pm"
   ]
  },
  {
   "cell_type": "code",
   "execution_count": null,
   "metadata": {},
   "outputs": [],
   "source": [
    "az.plot_posterior(np.random.randn(100000))"
   ]
  },
  {
   "cell_type": "code",
   "execution_count": null,
   "metadata": {},
   "outputs": [],
   "source": [
    "J = 8\n",
    "y = np.array([28.0, 8.0, -3.0, 7.0, -1.0, 1.0, 18.0, 12.0])\n",
    "sigma = np.array([15.0, 10.0, 16.0, 11.0, 9.0, 11.0, 10.0, 18.0])\n",
    "schools = np.array(\n",
    "    [\n",
    "        \"Choate\",\n",
    "        \"Deerfield\",\n",
    "        \"Phillips Andover\",\n",
    "        \"Phillips Exeter\",\n",
    "        \"Hotchkiss\",\n",
    "        \"Lawrenceville\",\n",
    "        \"St. Paul's\",\n",
    "        \"Mt. Hermon\",\n",
    "    ]\n",
    ")"
   ]
  },
  {
   "cell_type": "code",
   "execution_count": null,
   "metadata": {},
   "outputs": [],
   "source": [
    "with pm.Model() as centered_eight:\n",
    "    mu = pm.Normal(\"mu\", mu=0, sd=5)\n",
    "    tau = pm.HalfCauchy(\"tau\", beta=5)\n",
    "    theta = pm.Normal(\"theta\", mu=mu, sd=tau, shape=J)\n",
    "    obs = pm.Normal(\"obs\", mu=theta, sd=sigma, observed=y)\n",
    "\n",
    "    # This pattern is useful in PyMC3\n",
    "    prior = pm.sample_prior_predictive()\n",
    "    centered_eight_trace = pm.sample()\n",
    "    posterior_predictive = pm.sample_posterior_predictive(centered_eight_trace)"
   ]
  },
  {
   "cell_type": "code",
   "execution_count": null,
   "metadata": {},
   "outputs": [],
   "source": [
    "az.plot_autocorr(centered_eight_trace, var_names=[\"mu\", \"tau\"]);"
   ]
  },
  {
   "cell_type": "code",
   "execution_count": null,
   "metadata": {},
   "outputs": [],
   "source": [
    "from scipy.integrate import odeint\n",
    "\n",
    "# Definition of parameters\n",
    "a = 1.0\n",
    "b = 0.1\n",
    "c = 1.5\n",
    "d = 0.75\n",
    "\n",
    "# initial population of rabbits and foxes\n",
    "X0 = [10.0, 5.0]\n",
    "# size of data\n",
    "size = 100\n",
    "# time lapse\n",
    "time = 15\n",
    "t = np.linspace(0, time, size)\n",
    "\n",
    "# Lotka - Volterra equation\n",
    "def dX_dt(X, t, a, b, c, d):\n",
    "    \"\"\" Return the growth rate of fox and rabbit populations. \"\"\"\n",
    "\n",
    "    return np.array([a * X[0] - b * X[0] * X[1], -c * X[1] + d * b * X[0] * X[1]])\n",
    "\n",
    "# simulator function\n",
    "def competition_model(a, b):\n",
    "    return odeint(dX_dt, y0=X0, t=t, rtol=0.01, args=(a, b, c, d))"
   ]
  },
  {
   "cell_type": "code",
   "execution_count": null,
   "metadata": {},
   "outputs": [],
   "source": [
    "# function for generating noisy data to be used as observed data.\n",
    "def add_noise(a, b, c, d):\n",
    "    noise = np.random.normal(size=(size, 2))\n",
    "    simulated = competition_model(a, b) + noise\n",
    "    return simulated"
   ]
  },
  {
   "cell_type": "code",
   "execution_count": null,
   "metadata": {},
   "outputs": [],
   "source": [
    "\n",
    "# plotting observed data.\n",
    "observed = add_noise(a, b, c, d)\n",
    "_, ax = plt.subplots(figsize=(12, 4))\n",
    "ax.plot(observed[:, 0], \"x\", label=\"prey\")\n",
    "ax.plot(observed[:, 1], \"x\", label=\"predator\")\n",
    "ax.set_xlabel(\"time\")\n",
    "ax.set_ylabel(\"population\")\n",
    "ax.set_title(\"Observed data\")\n",
    "ax.legend();\n",
    "\n"
   ]
  },
  {
   "cell_type": "code",
   "execution_count": null,
   "metadata": {},
   "outputs": [],
   "source": [
    "with pm.Model() as model_lv:\n",
    "    a = pm.HalfNormal(\"a\", 1.)\n",
    "    b = pm.HalfNormal(\"b\", 1.)\n",
    "\n",
    "    sim = pm.Simulator(\"sim\", competition_model, params=(a, b),\n",
    "                       epsilon=10,\n",
    "                       observed=observed)\n",
    "\n",
    "    trace_lv = pm.sample_smc(kernel=\"ABC\", parallel=True)\n",
    "    idata_lv = az.from_pymc3(trace_lv)\n",
    "\n"
   ]
  },
  {
   "cell_type": "code",
   "execution_count": null,
   "metadata": {},
   "outputs": [],
   "source": [
    "pm.__version__"
   ]
  },
  {
   "cell_type": "markdown",
   "metadata": {},
   "source": [
    "# To Delete"
   ]
  },
  {
   "cell_type": "code",
   "execution_count": null,
   "metadata": {},
   "outputs": [],
   "source": [
    "# Set up the known network\n",
    "inp_file = 'networks/Net3.inp'\n",
    "wn_true = wntr.network.WaterNetworkModel(inp_file)\n",
    "waterNetwork = WaterNetworkHelper(wn_true)\n",
    "testResult = waterNetwork.runSimulation()"
   ]
  },
  {
   "cell_type": "code",
   "execution_count": null,
   "metadata": {},
   "outputs": [],
   "source": [
    "toCalibrate = [\"204\",\"225\",\"229\",\"173\"]\n",
    "listOfCalibrators = []\n",
    "listOfSensors = []\n",
    "calibratorPipes = []\n",
    "trueValues = {}\n",
    "pAddCalibrator = 0.05\n",
    "for i,row in waterNetwork.pipes.iterrows():\n",
    "    if i in toCalibrate:\n",
    "        actualRoughness = row[\"roughness\"]\n",
    "        dist = stats.norm(actualRoughness,30)\n",
    "        randomRoughness = dist.rvs()\n",
    "        calibrator = Calibrator(i,\"roughness\",stats.norm(randomRoughness,15))\n",
    "        trueValues[calibrator] = actualRoughness\n",
    "        listOfCalibrators.append(calibrator)\n",
    "        calibratorPipes.append(i)"
   ]
  },
  {
   "cell_type": "markdown",
   "metadata": {},
   "source": [
    "toCalibrate = [\"204\",\"225\",\"229\"]\n",
    "listOfCalibrators = []\n",
    "listOfSensors = []\n",
    "calibratorPipes = []\n",
    "trueValues = {}\n",
    "pAddCalibrator = 0.05\n",
    "for i,row in waterNetwork.pipes.iterrows():\n",
    "    rand = np.random.random()\n",
    "    if rand < pAddCalibrator:\n",
    "        actualRoughness = row[\"roughness\"]\n",
    "        dist = stats.norm(actualRoughness,15)\n",
    "        randomRoughness = dist.rvs()\n",
    "        calibrator = Calibrator(i,\"roughness\",stats.norm(randomRoughness,15))\n",
    "        trueValues[calibrator] = actualRoughness\n",
    "        listOfCalibrators.append(calibrator)\n",
    "        calibratorPipes.append(i)\n",
    "\n",
    "for sensorName,row in testResult.flowrate.iterrows():\n",
    "    sensorProperty = \"flowrate\"\n",
    "    sensorSTD = 0.001\n",
    "    sensorDict = {}\n",
    "    sensorDict[5.00] = row[5.00]\n",
    "    sensor = Sensor(sensorProperty,sensorName,sensorSTD,sensorDict)\n",
    "    if sensorName in calibratorPipes:\n",
    "        listOfSensors.append(sensor)"
   ]
  },
  {
   "cell_type": "markdown",
   "metadata": {},
   "source": [
    "trueValues = {calibrator1:199,calibrator2:199,calibrator3:140}"
   ]
  },
  {
   "cell_type": "code",
   "execution_count": null,
   "metadata": {},
   "outputs": [],
   "source": [
    "listOfSensors = []\n",
    "pAddSensor = 0.2\n",
    "for i,row in testResult.flowrate.iterrows():\n",
    "    sensorProperty = \"flowrate\"\n",
    "    sensorName = i\n",
    "    sensorSTD = 0.001\n",
    "    sensorDict = {}\n",
    "#     for time in testResult.pressure.columns:\n",
    "#         sensorDict[time] = row[time]\n",
    "    sensorDict[1.00] = row[1.00]\n",
    "    sensorDict[2.25] = row[2.25]\n",
    "    sensorDict[5.00] = row[5.00]\n",
    "    sensor = Sensor(sensorProperty,sensorName,sensorSTD,sensorDict)\n",
    "    rand = np.random.random()\n",
    "    if rand < pAddSensor:\n",
    "        listOfSensors.append(sensor)"
   ]
  },
  {
   "cell_type": "raw",
   "metadata": {},
   "source": [
    "# try a pressure sensor\n",
    "listOfSensors = []\n",
    "pAddSensor = 0.001\n",
    "for i,row in testResult.velocity.iterrows():\n",
    "    sensorProperty = \"velocity\"\n",
    "    sensorName = i\n",
    "    sensorSTD = 0.05\n",
    "    sensorDict = {}\n",
    "#     for time in testResult.pressure.columns:\n",
    "#         sensorDict[time] = row[time]\n",
    "    sensorDict[2.25] = row[2.25]\n",
    "    sensorDict[5.00] = row[5.00]\n",
    "    sensor = Sensor(sensorProperty,sensorName,sensorSTD,sensorDict)\n",
    "    rand = np.random.random()\n",
    "    if rand < pAddSensor:\n",
    "        listOfSensors.append(sensor)"
   ]
  },
  {
   "cell_type": "markdown",
   "metadata": {},
   "source": [
    "sensor1 = Sensor(\"pressure\",\"15\",2,{0.0:28.593653,0.25:28.646692})\n",
    "sensor2 = Sensor(\"pressure\",\"40\",1,{0.0:3.992880,0.25:4.042458})"
   ]
  },
  {
   "cell_type": "markdown",
   "metadata": {},
   "source": [
    "listOfSensors = [sensor1,sensor2]"
   ]
  },
  {
   "cell_type": "code",
   "execution_count": null,
   "metadata": {},
   "outputs": [],
   "source": [
    "iterations = []\n",
    "acceptanceRatios = []\n",
    "isAccepted = []"
   ]
  },
  {
   "cell_type": "code",
   "execution_count": null,
   "metadata": {},
   "outputs": [],
   "source": [
    "currentParameters = π(listOfCalibrators)\n",
    "for calibrator,proposedParameterValue in currentParameters.items():\n",
    "    calibrator.values.append(proposedParameterValue)\n",
    "    calibrator.setValue(waterNetwork,proposedParameterValue)\n",
    "currentModelResult = waterNetwork.runSimulation()"
   ]
  },
  {
   "cell_type": "code",
   "execution_count": null,
   "metadata": {},
   "outputs": [],
   "source": [
    "n = 10000"
   ]
  },
  {
   "cell_type": "code",
   "execution_count": null,
   "metadata": {},
   "outputs": [],
   "source": [
    "for i in track(range(0,n)):\n",
    "    iterations.append(i)\n",
    "    \n",
    "    # generate a set of proposed values as a starting point\n",
    "    proposedParameters = π_Transition(listOfCalibrators)\n",
    "    for calibrator,proposedParameterValue in proposedParameters.items():\n",
    "        calibrator.proposedValues.append(proposedParameterValue)\n",
    "        # udpate the model\n",
    "        calibrator.setValue(waterNetwork,proposedParameterValue)\n",
    "    \n",
    "    # run the model\n",
    "    try:\n",
    "        modelResult = waterNetwork.runSimulation()\n",
    "\n",
    "        # calculate the acceptance probabilities\n",
    "        α_1 = 0 #np.log(π_Prior(proposedParameters))\n",
    "        α_2 = π_Log_Liklihood(listOfSensors,modelResult)\n",
    "        α_3 = 0 #np.log(π_Prior({calibrator:calibrator.values[-1] for calibrator in listOfCalibrators}))\n",
    "        α_4 = π_Log_Liklihood(listOfSensors,currentModelResult)\n",
    "        α = np.exp(α_1 + α_2 - α_3 - α_4)\n",
    "        α = min(1.0,α)\n",
    "        acceptanceRatios.append(α)\n",
    "        accepted = False\n",
    "\n",
    "        # decide if we accept\n",
    "        if α == 1: # accept\n",
    "            setParameterValues(proposedParameters)\n",
    "            currentParameters = proposedParameters\n",
    "            currentModelResult = modelResult\n",
    "            accepted = True\n",
    "        else: # draw a random number and take the probability based on α\n",
    "            rand = np.random.random()\n",
    "            if rand < α: # accept\n",
    "                setParameterValues(proposedParameters)\n",
    "                currentParameters = proposedParameters\n",
    "                currentModelResult = modelResult\n",
    "                accepted = True\n",
    "            else:\n",
    "                setParameterValues(currentParameters)\n",
    "\n",
    "        # update our iteration\n",
    "        # update parameter histories\n",
    "        isAccepted.append(accepted)\n",
    "    except:\n",
    "        pass\n",
    "\n",
    "# generate the return data frame\n"
   ]
  },
  {
   "cell_type": "code",
   "execution_count": null,
   "metadata": {},
   "outputs": [],
   "source": [
    "for calibrator in listOfCalibrators:\n",
    "    print(calibrator.fitDistribution())\n",
    "    fig,(ax1,ax2,ax3) = plt.subplots(1,3,figsize=(22,7))\n",
    "    calibrator.plot(trueValues[calibrator],burnin=0.50,ax=ax1)\n",
    "    calibrator.plotRollingAverage(trueValues[calibrator],burnin=0.50,ax=ax2)\n",
    "    calibrator.plotRollingSTD(trueValues[calibrator],burnin=0.50,ax=ax3)"
   ]
  }
 ],
 "metadata": {
  "kernelspec": {
   "display_name": "Python 3.7.6 64-bit ('phd': conda)",
   "language": "python",
   "name": "python37664bitphdcondab24623704836426aa66db115e96068bb"
  },
  "language_info": {
   "codemirror_mode": {
    "name": "ipython",
    "version": 3
   },
   "file_extension": ".py",
   "mimetype": "text/x-python",
   "name": "python",
   "nbconvert_exporter": "python",
   "pygments_lexer": "ipython3",
   "version": "3.7.6"
  }
 },
 "nbformat": 4,
 "nbformat_minor": 4
}
