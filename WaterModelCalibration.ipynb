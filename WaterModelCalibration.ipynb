{
 "cells": [
  {
   "cell_type": "markdown",
   "metadata": {},
   "source": [
    "# Water Model Calibration"
   ]
  },
  {
   "cell_type": "code",
   "execution_count": 236,
   "metadata": {},
   "outputs": [],
   "source": [
    "import wntr\n",
    "import pandas as pd\n",
    "import numpy as np\n",
    "import matplotlib.pyplot as plt\n",
    "import seaborn as sns\n",
    "import scipy.stats as stats\n",
    "import scipy as sp\n",
    "import chaospy as cp\n",
    "from ipypb import track"
   ]
  },
  {
   "cell_type": "markdown",
   "metadata": {},
   "source": [
    "# Helper Methods"
   ]
  },
  {
   "cell_type": "code",
   "execution_count": 237,
   "metadata": {},
   "outputs": [],
   "source": [
    "def extractDataFrame(wn,objType=\"Pipe\"):\n",
    "    objsDict = {}\n",
    "    try:\n",
    "        objIter = wn.pipes()\n",
    "        if objType == \"Junction\":\n",
    "            objIter = wn.junctions()\n",
    "        elif objType == \"Tank\":\n",
    "            objIter = wn.tanks()\n",
    "        elif objType == \"Reservoir\":\n",
    "            objIter = wn.reservoirs()\n",
    "        for obj in objIter:\n",
    "            obj = obj[1]\n",
    "            objDict = obj.todict()\n",
    "            for k,v in objDict.items():\n",
    "                if k in objsDict.keys():\n",
    "                    objsDict[k].append(v)\n",
    "                else:\n",
    "                    objsDict[k] = [v]\n",
    "        objsDF = pd.DataFrame(objsDict)\n",
    "        return objsDF\n",
    "    except:\n",
    "        return objsDict"
   ]
  },
  {
   "cell_type": "code",
   "execution_count": 238,
   "metadata": {},
   "outputs": [],
   "source": [
    "class ResultHelper():\n",
    "    def __init__(self,results,convertResultsToHours=True):\n",
    "        self.results = results\n",
    "        \n",
    "        # programatically set nodes\n",
    "        for nodeKey in results.node.keys():\n",
    "            self.__dict__[nodeKey] = results.node[nodeKey].T\n",
    "        \n",
    "        # progrmatically set links\n",
    "        for linkKey in results.link.keys():\n",
    "            self.__dict__[linkKey] = results.link[linkKey].T\n",
    "        \n",
    "        if convertResultsToHours:\n",
    "            self.convertResultsToHours()\n",
    "            \n",
    "    def help(self):\n",
    "        return list(self.__dict__.keys())\n",
    "        \n",
    "    def convertResultsToHours(self):\n",
    "        for prop,value in self.__dict__.items():\n",
    "            if type(value) == pd.DataFrame:\n",
    "                value.columns = [float(seconds)/3600.0 for seconds in value.columns]\n",
    "                \n",
    "    def returnResult(self,resultType,resultLocationID,time):\n",
    "        if resultType in self.__dict__.keys():\n",
    "            resultDF = self.__dict__[resultType]\n",
    "            if resultLocationID in resultDF.index:\n",
    "                if time in resultDF.columns:\n",
    "                    return self.__dict__[resultType].loc[resultLocationID][time]\n",
    "                else:\n",
    "                    print(f\"{time} is not a valid time\")\n",
    "            else:\n",
    "                print(f\"{resultLocationID} is not a valid element in the network\")\n",
    "        else:\n",
    "            print(f\"{resultType} is not a valid property for ResultAnalyzer\")\n",
    "            return None"
   ]
  },
  {
   "cell_type": "code",
   "execution_count": 342,
   "metadata": {},
   "outputs": [],
   "source": [
    "class Sensor():\n",
    "    def __init__(self,sensorType,name,sensorSTD,dictOfPropertyValues):\n",
    "        self.sensorType = sensorType\n",
    "        self.name = name\n",
    "        self.sensorSTD = sensorSTD\n",
    "        self.dictOfPropertyValues = dictOfPropertyValues\n",
    "        self.dictOfPropertyModelEstimates = {k:[] for k in dictOfPropertyValues.keys()}\n",
    "        \n",
    "    def calculateProbability(self,resultHelper):\n",
    "        p = 1.0\n",
    "        for sensorObservationTime,sensorObservationValue in self.dictOfPropertyValues.items():\n",
    "            modelResult = resultHelper.returnResult(self.sensorType,self.name,sensorObservationTime)\n",
    "            self.dictOfPropertyModelEstimates[sensorObservationTime].append(modelResult)\n",
    "            distribution = stats.norm(sensorObservationValue,self.sensorSTD)\n",
    "            p *= distribution.pdf(modelResult)\n",
    "        return p\n",
    "    \n",
    "    def calculateProbability_Summed(self,resultHelper):\n",
    "        p = 0.0\n",
    "        for sensorObservationTime,sensorObservationValue in self.dictOfPropertyValues.items():\n",
    "            modelResult = resultHelper.returnResult(self.sensorType,self.name,sensorObservationTime)\n",
    "            self.dictOfPropertyModelEstimates[sensorObservationTime].append(modelResult)\n",
    "            distribution = stats.norm(modelResult,self.sensorSTD)\n",
    "            p += distribution.pdf(sensorObservationValue)\n",
    "        return p        \n",
    "    \n",
    "    def calculateProbability_Summed_Log(self,resultHelper):\n",
    "        p = 0.0\n",
    "        for sensorObservationTime,sensorObservationValue in self.dictOfPropertyValues.items():\n",
    "            modelResult = resultHelper.returnResult(self.sensorType,self.name,sensorObservationTime)\n",
    "            self.dictOfPropertyModelEstimates[sensorObservationTime].append(modelResult)\n",
    "            distribution = stats.norm(modelResult,self.sensorSTD)\n",
    "            p += np.log(distribution.pdf(sensorObservationValue))\n",
    "        return p       "
   ]
  },
  {
   "cell_type": "code",
   "execution_count": 240,
   "metadata": {},
   "outputs": [],
   "source": [
    "class WaterNetworkHelper():\n",
    "    def __init__(self,wn,name=\"Water Network\"):\n",
    "        self.wn = wn\n",
    "        self.updatePipes()\n",
    "        self.name = name\n",
    "        \n",
    "    def updatePipes(self):\n",
    "        self.pipes = extractDataFrame(self.wn).set_index(\"name\")\n",
    "        self.nodes = extractDataFrame(self.wn,\"Junction\").set_index(\"name\")\n",
    "        self.tanks = extractDataFrame(self.wn,\"Tank\").set_index(\"name\")\n",
    "        self.reservoirs = extractDataFrame(self.wn,\"Reservoir\").set_index(\"name\")\n",
    "        \n",
    "    def setPipeDiameter(self,pipeID,newDiameter):\n",
    "        pipe = self.wn.get_link(pipeID)\n",
    "        pipe.diameter = newDiameter\n",
    "        self.updatePipes()\n",
    "    \n",
    "    def setPipeRoughness(self,pipeID,newRoughness):\n",
    "        pipe = self.wn.get_link(pipeID)\n",
    "        pipe.roughness = newRoughness\n",
    "        self.updatePipes()\n",
    "    \n",
    "    def setPipeStatus(self,pipeID,newStatus):\n",
    "        pipe = self.wn.get_link(pipeID)\n",
    "        pipe.status = newStatus\n",
    "        self.updatePipes()\n",
    "            \n",
    "    def runSimulation(self):\n",
    "        sim = wntr.sim.EpanetSimulator(self.wn)\n",
    "        results = ResultHelper(sim.run_sim())\n",
    "        return results        \n",
    "    \n",
    "    def plotNetwork(self,figsize=(10,10),link_attribute=None,node_attribute=None):\n",
    "        fig,ax = plt.subplots(figsize=figsize)\n",
    "        wntr.graphics.plot_network(self.wn, title=self.name,ax=ax,node_attribute=node_attribute,link_attribute=link_attribute)"
   ]
  },
  {
   "cell_type": "code",
   "execution_count": 317,
   "metadata": {},
   "outputs": [],
   "source": [
    "class Calibrator():\n",
    "    def __init__(self,elementName,elementProperty,distribution):\n",
    "        self.elementName = elementName\n",
    "        self.elementProperty = elementProperty\n",
    "        self.prior = distribution # type of distribution\n",
    "        self.values = []\n",
    "        self.proposedValues = []\n",
    "        \n",
    "    def generateProposal(self):\n",
    "        return self.prior.rvs()\n",
    "    \n",
    "    def calculateProbability(self,value):\n",
    "        return self.prior.pdf(value)\n",
    "        \n",
    "    def setValue(self,waterNetworkHelper,newValue):\n",
    "        if self.elementProperty == \"diameter\":\n",
    "            waterNetworkHelper.setPipeDiameter(self.elementName,newValue)\n",
    "        elif self.elementProperty == \"roughness\":\n",
    "            waterNetworkHelper.setPipeRoughness(self.elementName,newValue)\n",
    "        elif self.elementProperty == \"status\":\n",
    "            waterNetworkHelper.setPipeStatus(self.elementName,newValue)\n",
    "            \n",
    "    def plot(self,trueValue):\n",
    "        columnName = f\"{self.elementName} {self.elementProperty}\"\n",
    "        calibratorDFToPlot = pd.DataFrame({columnName:self.values})\n",
    "        fig,ax = plt.subplots(figsize=(10,10))\n",
    "        calibratorDFToPlot.plot(kind=\"hist\",ax=ax,legend=False,density=True)\n",
    "        ax.axvline(trueValue,color=\"red\",ls=\"--\")\n",
    "        ax.set_title(f'{columnName}\\nCalibrated Mean: {calibratorDFToPlot[columnName].mean():.1f}, Calibrated Median: {calibratorDFToPlot[columnName].median():.1f}\\nTrue Value: {trueValue:.1f}\\nPrior Mean: {self.prior.mean():.1f}')\n",
    "        ax.set_xlabel(calibrator1.elementProperty)\n",
    "        \n",
    "        # add the prior distribution\n",
    "        priorEstimates = []\n",
    "        for i in range(0,10000):\n",
    "            priorEstimates.append(self.generateProposal())\n",
    "        priorEstimatesDF = pd.DataFrame({\"Prior\":priorEstimates})\n",
    "        priorEstimatesDF.plot(kind=\"hist\",ax=ax,color=\"orange\",alpha=0.1,label=\"Prior\",density=True)\n",
    "        return ax"
   ]
  },
  {
   "cell_type": "markdown",
   "metadata": {},
   "source": [
    "# Set up Base (True Model)"
   ]
  },
  {
   "cell_type": "code",
   "execution_count": 242,
   "metadata": {},
   "outputs": [
    {
     "data": {
      "text/plain": [
       "(<matplotlib.collections.PathCollection at 0x278c0390308>,\n",
       " <matplotlib.collections.LineCollection at 0x278c0390088>)"
      ]
     },
     "execution_count": 242,
     "metadata": {},
     "output_type": "execute_result"
    },
    {
     "data": {
      "image/png": "[encoded data removed]",
      "text/plain": [
       "<Figure size 432x288 with 1 Axes>"
      ]
     },
     "metadata": {},
     "output_type": "display_data"
    },
    {
     "data": {
      "image/png": "[encoded data removed]",
      "text/plain": [
       "<Figure size 432x288 with 2 Axes>"
      ]
     },
     "metadata": {},
     "output_type": "display_data"
    }
   ],
   "source": [
    "# Create a water network model\n",
    "inp_file = 'networks/Net3.inp'\n",
    "wn_true = wntr.network.WaterNetworkModel(inp_file)\n",
    "\n",
    "# Graph the network\n",
    "wntr.graphics.plot_network(wn_true, title=\"True Network\")\n",
    "\n",
    "# Simulate hydraulics\n",
    "sim_true = wntr.sim.EpanetSimulator(wn_true)\n",
    "results_true = sim_true.run_sim()\n",
    "\n",
    "# Plot results on the network\n",
    "pressure_at_5hr = results_true.node['pressure'].loc[5*3600, :]\n",
    "wntr.graphics.plot_network(wn_true, node_attribute=pressure_at_5hr, node_size=30, \n",
    "                        title='Pressure at 5 hours')"
   ]
  },
  {
   "cell_type": "markdown",
   "metadata": {},
   "source": [
    "# Set up Altered Model"
   ]
  },
  {
   "cell_type": "code",
   "execution_count": 243,
   "metadata": {},
   "outputs": [],
   "source": [
    "testNetwork = WaterNetworkHelper(wn_true)"
   ]
  },
  {
   "cell_type": "code",
   "execution_count": 244,
   "metadata": {},
   "outputs": [
    {
     "data": {
      "image/png": "[encoded data removed]",
      "text/plain": [
       "<Figure size 720x720 with 3 Axes>"
      ]
     },
     "metadata": {
      "needs_background": "light"
     },
     "output_type": "display_data"
    }
   ],
   "source": [
    "testNetwork.plotNetwork(link_attribute=\"roughness\",node_attribute=\"demand\")"
   ]
  },
  {
   "cell_type": "code",
   "execution_count": 245,
   "metadata": {},
   "outputs": [],
   "source": [
    "testSensor = Sensor(\"demand\",\"15\",0.01,{0.0:.04,0.25:0.038})"
   ]
  },
  {
   "cell_type": "code",
   "execution_count": 246,
   "metadata": {},
   "outputs": [],
   "source": [
    "testNetwork.setPipeDiameter(\"20\",4)"
   ]
  },
  {
   "cell_type": "code",
   "execution_count": 247,
   "metadata": {},
   "outputs": [
    {
     "data": {
      "text/html": [
       "<div>\n",
       "<style scoped>\n",
       "    .dataframe tbody tr th:only-of-type {\n",
       "        vertical-align: middle;\n",
       "    }\n",
       "\n",
       "    .dataframe tbody tr th {\n",
       "        vertical-align: top;\n",
       "    }\n",
       "\n",
       "    .dataframe thead th {\n",
       "        text-align: right;\n",
       "    }\n",
       "</style>\n",
       "<table border=\"1\" class=\"dataframe\">\n",
       "  <thead>\n",
       "    <tr style=\"text-align: right;\">\n",
       "      <th></th>\n",
       "      <th>bulk_rxn_coeff</th>\n",
       "      <th>cv</th>\n",
       "      <th>diameter</th>\n",
       "      <th>end_node</th>\n",
       "      <th>end_node_name</th>\n",
       "      <th>flow</th>\n",
       "      <th>initial_setting</th>\n",
       "      <th>initial_status</th>\n",
       "      <th>length</th>\n",
       "      <th>link_type</th>\n",
       "      <th>minor_loss</th>\n",
       "      <th>roughness</th>\n",
       "      <th>setting</th>\n",
       "      <th>start_node</th>\n",
       "      <th>start_node_name</th>\n",
       "      <th>status</th>\n",
       "      <th>tag</th>\n",
       "      <th>vertices</th>\n",
       "      <th>wall_rxn_coeff</th>\n",
       "    </tr>\n",
       "    <tr>\n",
       "      <th>name</th>\n",
       "      <th></th>\n",
       "      <th></th>\n",
       "      <th></th>\n",
       "      <th></th>\n",
       "      <th></th>\n",
       "      <th></th>\n",
       "      <th></th>\n",
       "      <th></th>\n",
       "      <th></th>\n",
       "      <th></th>\n",
       "      <th></th>\n",
       "      <th></th>\n",
       "      <th></th>\n",
       "      <th></th>\n",
       "      <th></th>\n",
       "      <th></th>\n",
       "      <th></th>\n",
       "      <th></th>\n",
       "      <th></th>\n",
       "    </tr>\n",
       "  </thead>\n",
       "  <tbody>\n",
       "    <tr>\n",
       "      <th>20</th>\n",
       "      <td>None</td>\n",
       "      <td>False</td>\n",
       "      <td>4.0000</td>\n",
       "      <td>20</td>\n",
       "      <td>20</td>\n",
       "      <td>None</td>\n",
       "      <td>None</td>\n",
       "      <td>1</td>\n",
       "      <td>30.1752</td>\n",
       "      <td>Pipe</td>\n",
       "      <td>0.0</td>\n",
       "      <td>199.0</td>\n",
       "      <td>None</td>\n",
       "      <td>3</td>\n",
       "      <td>3</td>\n",
       "      <td>1</td>\n",
       "      <td>None</td>\n",
       "      <td>[]</td>\n",
       "      <td>None</td>\n",
       "    </tr>\n",
       "    <tr>\n",
       "      <th>40</th>\n",
       "      <td>None</td>\n",
       "      <td>False</td>\n",
       "      <td>2.5146</td>\n",
       "      <td>40</td>\n",
       "      <td>40</td>\n",
       "      <td>None</td>\n",
       "      <td>None</td>\n",
       "      <td>1</td>\n",
       "      <td>30.1752</td>\n",
       "      <td>Pipe</td>\n",
       "      <td>0.0</td>\n",
       "      <td>199.0</td>\n",
       "      <td>None</td>\n",
       "      <td>1</td>\n",
       "      <td>1</td>\n",
       "      <td>1</td>\n",
       "      <td>None</td>\n",
       "      <td>[]</td>\n",
       "      <td>None</td>\n",
       "    </tr>\n",
       "    <tr>\n",
       "      <th>50</th>\n",
       "      <td>None</td>\n",
       "      <td>False</td>\n",
       "      <td>2.5146</td>\n",
       "      <td>50</td>\n",
       "      <td>50</td>\n",
       "      <td>None</td>\n",
       "      <td>None</td>\n",
       "      <td>1</td>\n",
       "      <td>30.1752</td>\n",
       "      <td>Pipe</td>\n",
       "      <td>0.0</td>\n",
       "      <td>199.0</td>\n",
       "      <td>None</td>\n",
       "      <td>2</td>\n",
       "      <td>2</td>\n",
       "      <td>1</td>\n",
       "      <td>None</td>\n",
       "      <td>[]</td>\n",
       "      <td>None</td>\n",
       "    </tr>\n",
       "    <tr>\n",
       "      <th>60</th>\n",
       "      <td>None</td>\n",
       "      <td>False</td>\n",
       "      <td>0.6096</td>\n",
       "      <td>60</td>\n",
       "      <td>60</td>\n",
       "      <td>None</td>\n",
       "      <td>None</td>\n",
       "      <td>1</td>\n",
       "      <td>375.2088</td>\n",
       "      <td>Pipe</td>\n",
       "      <td>0.0</td>\n",
       "      <td>140.0</td>\n",
       "      <td>None</td>\n",
       "      <td>River</td>\n",
       "      <td>River</td>\n",
       "      <td>1</td>\n",
       "      <td>None</td>\n",
       "      <td>[]</td>\n",
       "      <td>None</td>\n",
       "    </tr>\n",
       "    <tr>\n",
       "      <th>101</th>\n",
       "      <td>None</td>\n",
       "      <td>False</td>\n",
       "      <td>0.4572</td>\n",
       "      <td>101</td>\n",
       "      <td>101</td>\n",
       "      <td>None</td>\n",
       "      <td>None</td>\n",
       "      <td>1</td>\n",
       "      <td>4328.1600</td>\n",
       "      <td>Pipe</td>\n",
       "      <td>0.0</td>\n",
       "      <td>110.0</td>\n",
       "      <td>None</td>\n",
       "      <td>10</td>\n",
       "      <td>10</td>\n",
       "      <td>1</td>\n",
       "      <td>None</td>\n",
       "      <td>[]</td>\n",
       "      <td>None</td>\n",
       "    </tr>\n",
       "    <tr>\n",
       "      <th>...</th>\n",
       "      <td>...</td>\n",
       "      <td>...</td>\n",
       "      <td>...</td>\n",
       "      <td>...</td>\n",
       "      <td>...</td>\n",
       "      <td>...</td>\n",
       "      <td>...</td>\n",
       "      <td>...</td>\n",
       "      <td>...</td>\n",
       "      <td>...</td>\n",
       "      <td>...</td>\n",
       "      <td>...</td>\n",
       "      <td>...</td>\n",
       "      <td>...</td>\n",
       "      <td>...</td>\n",
       "      <td>...</td>\n",
       "      <td>...</td>\n",
       "      <td>...</td>\n",
       "      <td>...</td>\n",
       "    </tr>\n",
       "    <tr>\n",
       "      <th>323</th>\n",
       "      <td>None</td>\n",
       "      <td>False</td>\n",
       "      <td>0.3048</td>\n",
       "      <td>275</td>\n",
       "      <td>275</td>\n",
       "      <td>None</td>\n",
       "      <td>None</td>\n",
       "      <td>1</td>\n",
       "      <td>91.4400</td>\n",
       "      <td>Pipe</td>\n",
       "      <td>0.0</td>\n",
       "      <td>130.0</td>\n",
       "      <td>None</td>\n",
       "      <td>201</td>\n",
       "      <td>201</td>\n",
       "      <td>1</td>\n",
       "      <td>None</td>\n",
       "      <td>[]</td>\n",
       "      <td>None</td>\n",
       "    </tr>\n",
       "    <tr>\n",
       "      <th>325</th>\n",
       "      <td>None</td>\n",
       "      <td>False</td>\n",
       "      <td>0.2032</td>\n",
       "      <td>271</td>\n",
       "      <td>271</td>\n",
       "      <td>None</td>\n",
       "      <td>None</td>\n",
       "      <td>1</td>\n",
       "      <td>393.1920</td>\n",
       "      <td>Pipe</td>\n",
       "      <td>0.0</td>\n",
       "      <td>130.0</td>\n",
       "      <td>None</td>\n",
       "      <td>269</td>\n",
       "      <td>269</td>\n",
       "      <td>1</td>\n",
       "      <td>None</td>\n",
       "      <td>[]</td>\n",
       "      <td>None</td>\n",
       "    </tr>\n",
       "    <tr>\n",
       "      <th>329</th>\n",
       "      <td>None</td>\n",
       "      <td>False</td>\n",
       "      <td>0.7620</td>\n",
       "      <td>123</td>\n",
       "      <td>123</td>\n",
       "      <td>None</td>\n",
       "      <td>None</td>\n",
       "      <td>1</td>\n",
       "      <td>13868.4000</td>\n",
       "      <td>Pipe</td>\n",
       "      <td>0.0</td>\n",
       "      <td>140.0</td>\n",
       "      <td>None</td>\n",
       "      <td>61</td>\n",
       "      <td>61</td>\n",
       "      <td>1</td>\n",
       "      <td>None</td>\n",
       "      <td>[]</td>\n",
       "      <td>None</td>\n",
       "    </tr>\n",
       "    <tr>\n",
       "      <th>330</th>\n",
       "      <td>None</td>\n",
       "      <td>False</td>\n",
       "      <td>0.7620</td>\n",
       "      <td>601</td>\n",
       "      <td>601</td>\n",
       "      <td>None</td>\n",
       "      <td>None</td>\n",
       "      <td>0</td>\n",
       "      <td>0.3048</td>\n",
       "      <td>Pipe</td>\n",
       "      <td>0.0</td>\n",
       "      <td>140.0</td>\n",
       "      <td>None</td>\n",
       "      <td>60</td>\n",
       "      <td>60</td>\n",
       "      <td>0</td>\n",
       "      <td>None</td>\n",
       "      <td>[]</td>\n",
       "      <td>None</td>\n",
       "    </tr>\n",
       "    <tr>\n",
       "      <th>333</th>\n",
       "      <td>None</td>\n",
       "      <td>False</td>\n",
       "      <td>0.7620</td>\n",
       "      <td>61</td>\n",
       "      <td>61</td>\n",
       "      <td>None</td>\n",
       "      <td>None</td>\n",
       "      <td>1</td>\n",
       "      <td>0.3048</td>\n",
       "      <td>Pipe</td>\n",
       "      <td>0.0</td>\n",
       "      <td>140.0</td>\n",
       "      <td>None</td>\n",
       "      <td>601</td>\n",
       "      <td>601</td>\n",
       "      <td>1</td>\n",
       "      <td>None</td>\n",
       "      <td>[]</td>\n",
       "      <td>None</td>\n",
       "    </tr>\n",
       "  </tbody>\n",
       "</table>\n",
       "<p>117 rows × 19 columns</p>\n",
       "</div>"
      ],
      "text/plain": [
       "     bulk_rxn_coeff     cv  diameter end_node end_node_name  flow  \\\n",
       "name                                                                \n",
       "20             None  False    4.0000       20            20  None   \n",
       "40             None  False    2.5146       40            40  None   \n",
       "50             None  False    2.5146       50            50  None   \n",
       "60             None  False    0.6096       60            60  None   \n",
       "101            None  False    0.4572      101           101  None   \n",
       "...             ...    ...       ...      ...           ...   ...   \n",
       "323            None  False    0.3048      275           275  None   \n",
       "325            None  False    0.2032      271           271  None   \n",
       "329            None  False    0.7620      123           123  None   \n",
       "330            None  False    0.7620      601           601  None   \n",
       "333            None  False    0.7620       61            61  None   \n",
       "\n",
       "     initial_setting  initial_status      length link_type  minor_loss  \\\n",
       "name                                                                     \n",
       "20              None               1     30.1752      Pipe         0.0   \n",
       "40              None               1     30.1752      Pipe         0.0   \n",
       "50              None               1     30.1752      Pipe         0.0   \n",
       "60              None               1    375.2088      Pipe         0.0   \n",
       "101             None               1   4328.1600      Pipe         0.0   \n",
       "...              ...             ...         ...       ...         ...   \n",
       "323             None               1     91.4400      Pipe         0.0   \n",
       "325             None               1    393.1920      Pipe         0.0   \n",
       "329             None               1  13868.4000      Pipe         0.0   \n",
       "330             None               0      0.3048      Pipe         0.0   \n",
       "333             None               1      0.3048      Pipe         0.0   \n",
       "\n",
       "      roughness setting start_node start_node_name  status   tag vertices  \\\n",
       "name                                                                        \n",
       "20        199.0    None          3               3       1  None       []   \n",
       "40        199.0    None          1               1       1  None       []   \n",
       "50        199.0    None          2               2       1  None       []   \n",
       "60        140.0    None      River           River       1  None       []   \n",
       "101       110.0    None         10              10       1  None       []   \n",
       "...         ...     ...        ...             ...     ...   ...      ...   \n",
       "323       130.0    None        201             201       1  None       []   \n",
       "325       130.0    None        269             269       1  None       []   \n",
       "329       140.0    None         61              61       1  None       []   \n",
       "330       140.0    None         60              60       0  None       []   \n",
       "333       140.0    None        601             601       1  None       []   \n",
       "\n",
       "     wall_rxn_coeff  \n",
       "name                 \n",
       "20             None  \n",
       "40             None  \n",
       "50             None  \n",
       "60             None  \n",
       "101            None  \n",
       "...             ...  \n",
       "323            None  \n",
       "325            None  \n",
       "329            None  \n",
       "330            None  \n",
       "333            None  \n",
       "\n",
       "[117 rows x 19 columns]"
      ]
     },
     "execution_count": 247,
     "metadata": {},
     "output_type": "execute_result"
    }
   ],
   "source": [
    "testNetwork.pipes"
   ]
  },
  {
   "cell_type": "code",
   "execution_count": 248,
   "metadata": {},
   "outputs": [],
   "source": [
    "testResult = testNetwork.runSimulation()"
   ]
  },
  {
   "cell_type": "code",
   "execution_count": 249,
   "metadata": {},
   "outputs": [
    {
     "data": {
      "text/html": [
       "<div>\n",
       "<style scoped>\n",
       "    .dataframe tbody tr th:only-of-type {\n",
       "        vertical-align: middle;\n",
       "    }\n",
       "\n",
       "    .dataframe tbody tr th {\n",
       "        vertical-align: top;\n",
       "    }\n",
       "\n",
       "    .dataframe thead th {\n",
       "        text-align: right;\n",
       "    }\n",
       "</style>\n",
       "<table border=\"1\" class=\"dataframe\">\n",
       "  <thead>\n",
       "    <tr style=\"text-align: right;\">\n",
       "      <th></th>\n",
       "      <th>0.00</th>\n",
       "      <th>0.25</th>\n",
       "      <th>0.50</th>\n",
       "      <th>0.75</th>\n",
       "      <th>1.00</th>\n",
       "      <th>1.25</th>\n",
       "      <th>1.50</th>\n",
       "      <th>1.75</th>\n",
       "      <th>2.00</th>\n",
       "      <th>2.25</th>\n",
       "      <th>...</th>\n",
       "      <th>165.75</th>\n",
       "      <th>166.00</th>\n",
       "      <th>166.25</th>\n",
       "      <th>166.50</th>\n",
       "      <th>166.75</th>\n",
       "      <th>167.00</th>\n",
       "      <th>167.25</th>\n",
       "      <th>167.50</th>\n",
       "      <th>167.75</th>\n",
       "      <th>168.00</th>\n",
       "    </tr>\n",
       "    <tr>\n",
       "      <th>name</th>\n",
       "      <th></th>\n",
       "      <th></th>\n",
       "      <th></th>\n",
       "      <th></th>\n",
       "      <th></th>\n",
       "      <th></th>\n",
       "      <th></th>\n",
       "      <th></th>\n",
       "      <th></th>\n",
       "      <th></th>\n",
       "      <th></th>\n",
       "      <th></th>\n",
       "      <th></th>\n",
       "      <th></th>\n",
       "      <th></th>\n",
       "      <th></th>\n",
       "      <th></th>\n",
       "      <th></th>\n",
       "      <th></th>\n",
       "      <th></th>\n",
       "      <th></th>\n",
       "    </tr>\n",
       "  </thead>\n",
       "  <tbody>\n",
       "    <tr>\n",
       "      <th>20</th>\n",
       "      <td>-1.417195e-01</td>\n",
       "      <td>-1.402990e-01</td>\n",
       "      <td>-1.389211e-01</td>\n",
       "      <td>-1.375811e-01</td>\n",
       "      <td>-1.918836e-01</td>\n",
       "      <td>-1.908000e-01</td>\n",
       "      <td>-1.897421e-01</td>\n",
       "      <td>-1.887076e-01</td>\n",
       "      <td>-2.286319e-01</td>\n",
       "      <td>-2.280717e-01</td>\n",
       "      <td>...</td>\n",
       "      <td>-1.451487e-01</td>\n",
       "      <td>-1.090683e-01</td>\n",
       "      <td>-1.058429e-01</td>\n",
       "      <td>-1.027298e-01</td>\n",
       "      <td>-9.972593e-02</td>\n",
       "      <td>-5.917176e-02</td>\n",
       "      <td>-5.580604e-02</td>\n",
       "      <td>-5.255272e-02</td>\n",
       "      <td>-4.941132e-02</td>\n",
       "      <td>-1.403122e-01</td>\n",
       "    </tr>\n",
       "    <tr>\n",
       "      <th>40</th>\n",
       "      <td>-2.904171e-02</td>\n",
       "      <td>-2.808642e-02</td>\n",
       "      <td>-2.724869e-02</td>\n",
       "      <td>-2.651397e-02</td>\n",
       "      <td>-6.325308e-02</td>\n",
       "      <td>-6.183808e-02</td>\n",
       "      <td>-6.049300e-02</td>\n",
       "      <td>-5.921391e-02</td>\n",
       "      <td>-7.945831e-02</td>\n",
       "      <td>-7.845762e-02</td>\n",
       "      <td>...</td>\n",
       "      <td>-1.324341e-02</td>\n",
       "      <td>2.365630e-02</td>\n",
       "      <td>2.170186e-02</td>\n",
       "      <td>1.978687e-02</td>\n",
       "      <td>1.791636e-02</td>\n",
       "      <td>4.521635e-02</td>\n",
       "      <td>4.326295e-02</td>\n",
       "      <td>4.135005e-02</td>\n",
       "      <td>3.948253e-02</td>\n",
       "      <td>-1.513647e-02</td>\n",
       "    </tr>\n",
       "    <tr>\n",
       "      <th>50</th>\n",
       "      <td>2.077009e-02</td>\n",
       "      <td>1.873905e-02</td>\n",
       "      <td>1.686762e-02</td>\n",
       "      <td>1.513597e-02</td>\n",
       "      <td>1.999953e-02</td>\n",
       "      <td>1.823608e-02</td>\n",
       "      <td>1.656860e-02</td>\n",
       "      <td>1.499001e-02</td>\n",
       "      <td>-7.516096e-03</td>\n",
       "      <td>-8.094080e-03</td>\n",
       "      <td>...</td>\n",
       "      <td>6.486753e-03</td>\n",
       "      <td>1.758446e-02</td>\n",
       "      <td>1.647723e-02</td>\n",
       "      <td>1.544249e-02</td>\n",
       "      <td>1.447229e-02</td>\n",
       "      <td>2.952196e-02</td>\n",
       "      <td>2.817178e-02</td>\n",
       "      <td>2.689148e-02</td>\n",
       "      <td>2.567565e-02</td>\n",
       "      <td>9.665825e-03</td>\n",
       "    </tr>\n",
       "    <tr>\n",
       "      <th>60</th>\n",
       "      <td>8.301330e-01</td>\n",
       "      <td>8.297881e-01</td>\n",
       "      <td>8.294440e-01</td>\n",
       "      <td>8.291008e-01</td>\n",
       "      <td>8.240935e-01</td>\n",
       "      <td>8.235860e-01</td>\n",
       "      <td>8.230792e-01</td>\n",
       "      <td>8.225731e-01</td>\n",
       "      <td>8.184308e-01</td>\n",
       "      <td>8.177646e-01</td>\n",
       "      <td>...</td>\n",
       "      <td>8.311462e-01</td>\n",
       "      <td>8.325222e-01</td>\n",
       "      <td>8.323585e-01</td>\n",
       "      <td>8.321950e-01</td>\n",
       "      <td>8.320319e-01</td>\n",
       "      <td>8.334600e-01</td>\n",
       "      <td>8.333978e-01</td>\n",
       "      <td>8.333377e-01</td>\n",
       "      <td>8.332797e-01</td>\n",
       "      <td>8.259247e-01</td>\n",
       "    </tr>\n",
       "    <tr>\n",
       "      <th>101</th>\n",
       "      <td>6.176596e-09</td>\n",
       "      <td>6.040704e-09</td>\n",
       "      <td>5.903469e-09</td>\n",
       "      <td>5.904887e-09</td>\n",
       "      <td>2.167266e-01</td>\n",
       "      <td>2.164988e-01</td>\n",
       "      <td>2.162702e-01</td>\n",
       "      <td>2.160413e-01</td>\n",
       "      <td>2.101099e-01</td>\n",
       "      <td>2.097933e-01</td>\n",
       "      <td>...</td>\n",
       "      <td>4.855457e-09</td>\n",
       "      <td>5.173495e-09</td>\n",
       "      <td>5.324818e-09</td>\n",
       "      <td>5.173494e-09</td>\n",
       "      <td>5.326736e-09</td>\n",
       "      <td>6.176607e-09</td>\n",
       "      <td>6.307505e-09</td>\n",
       "      <td>6.308687e-09</td>\n",
       "      <td>6.307505e-09</td>\n",
       "      <td>5.474358e-09</td>\n",
       "    </tr>\n",
       "    <tr>\n",
       "      <th>...</th>\n",
       "      <td>...</td>\n",
       "      <td>...</td>\n",
       "      <td>...</td>\n",
       "      <td>...</td>\n",
       "      <td>...</td>\n",
       "      <td>...</td>\n",
       "      <td>...</td>\n",
       "      <td>...</td>\n",
       "      <td>...</td>\n",
       "      <td>...</td>\n",
       "      <td>...</td>\n",
       "      <td>...</td>\n",
       "      <td>...</td>\n",
       "      <td>...</td>\n",
       "      <td>...</td>\n",
       "      <td>...</td>\n",
       "      <td>...</td>\n",
       "      <td>...</td>\n",
       "      <td>...</td>\n",
       "      <td>...</td>\n",
       "      <td>...</td>\n",
       "    </tr>\n",
       "    <tr>\n",
       "      <th>329</th>\n",
       "      <td>8.301330e-01</td>\n",
       "      <td>8.297881e-01</td>\n",
       "      <td>8.294440e-01</td>\n",
       "      <td>8.291008e-01</td>\n",
       "      <td>8.240934e-01</td>\n",
       "      <td>8.235860e-01</td>\n",
       "      <td>8.230792e-01</td>\n",
       "      <td>8.225731e-01</td>\n",
       "      <td>8.184308e-01</td>\n",
       "      <td>8.177646e-01</td>\n",
       "      <td>...</td>\n",
       "      <td>8.311461e-01</td>\n",
       "      <td>8.325222e-01</td>\n",
       "      <td>8.323585e-01</td>\n",
       "      <td>8.321950e-01</td>\n",
       "      <td>8.320319e-01</td>\n",
       "      <td>8.334600e-01</td>\n",
       "      <td>8.333978e-01</td>\n",
       "      <td>8.333377e-01</td>\n",
       "      <td>8.332797e-01</td>\n",
       "      <td>8.259247e-01</td>\n",
       "    </tr>\n",
       "    <tr>\n",
       "      <th>330</th>\n",
       "      <td>0.000000e+00</td>\n",
       "      <td>0.000000e+00</td>\n",
       "      <td>0.000000e+00</td>\n",
       "      <td>0.000000e+00</td>\n",
       "      <td>0.000000e+00</td>\n",
       "      <td>0.000000e+00</td>\n",
       "      <td>0.000000e+00</td>\n",
       "      <td>0.000000e+00</td>\n",
       "      <td>0.000000e+00</td>\n",
       "      <td>0.000000e+00</td>\n",
       "      <td>...</td>\n",
       "      <td>0.000000e+00</td>\n",
       "      <td>0.000000e+00</td>\n",
       "      <td>0.000000e+00</td>\n",
       "      <td>0.000000e+00</td>\n",
       "      <td>0.000000e+00</td>\n",
       "      <td>0.000000e+00</td>\n",
       "      <td>0.000000e+00</td>\n",
       "      <td>0.000000e+00</td>\n",
       "      <td>0.000000e+00</td>\n",
       "      <td>0.000000e+00</td>\n",
       "    </tr>\n",
       "    <tr>\n",
       "      <th>333</th>\n",
       "      <td>-2.890559e-08</td>\n",
       "      <td>-2.961881e-08</td>\n",
       "      <td>-2.976975e-08</td>\n",
       "      <td>-2.980169e-08</td>\n",
       "      <td>-2.981023e-08</td>\n",
       "      <td>-2.981026e-08</td>\n",
       "      <td>-2.981027e-08</td>\n",
       "      <td>-2.981027e-08</td>\n",
       "      <td>-2.981027e-08</td>\n",
       "      <td>-2.981027e-08</td>\n",
       "      <td>...</td>\n",
       "      <td>-2.963528e-08</td>\n",
       "      <td>-2.979323e-08</td>\n",
       "      <td>-2.980666e-08</td>\n",
       "      <td>-2.980951e-08</td>\n",
       "      <td>-2.981011e-08</td>\n",
       "      <td>-2.981026e-08</td>\n",
       "      <td>-2.981027e-08</td>\n",
       "      <td>-2.981027e-08</td>\n",
       "      <td>-2.981027e-08</td>\n",
       "      <td>-2.981027e-08</td>\n",
       "    </tr>\n",
       "    <tr>\n",
       "      <th>10</th>\n",
       "      <td>0.000000e+00</td>\n",
       "      <td>0.000000e+00</td>\n",
       "      <td>0.000000e+00</td>\n",
       "      <td>0.000000e+00</td>\n",
       "      <td>2.167266e-01</td>\n",
       "      <td>2.164988e-01</td>\n",
       "      <td>2.162702e-01</td>\n",
       "      <td>2.160413e-01</td>\n",
       "      <td>2.101099e-01</td>\n",
       "      <td>2.097933e-01</td>\n",
       "      <td>...</td>\n",
       "      <td>0.000000e+00</td>\n",
       "      <td>0.000000e+00</td>\n",
       "      <td>0.000000e+00</td>\n",
       "      <td>0.000000e+00</td>\n",
       "      <td>0.000000e+00</td>\n",
       "      <td>0.000000e+00</td>\n",
       "      <td>0.000000e+00</td>\n",
       "      <td>0.000000e+00</td>\n",
       "      <td>0.000000e+00</td>\n",
       "      <td>0.000000e+00</td>\n",
       "    </tr>\n",
       "    <tr>\n",
       "      <th>335</th>\n",
       "      <td>8.301330e-01</td>\n",
       "      <td>8.297882e-01</td>\n",
       "      <td>8.294441e-01</td>\n",
       "      <td>8.291009e-01</td>\n",
       "      <td>8.240935e-01</td>\n",
       "      <td>8.235861e-01</td>\n",
       "      <td>8.230792e-01</td>\n",
       "      <td>8.225731e-01</td>\n",
       "      <td>8.184309e-01</td>\n",
       "      <td>8.177646e-01</td>\n",
       "      <td>...</td>\n",
       "      <td>8.311462e-01</td>\n",
       "      <td>8.325222e-01</td>\n",
       "      <td>8.323585e-01</td>\n",
       "      <td>8.321950e-01</td>\n",
       "      <td>8.320320e-01</td>\n",
       "      <td>8.334600e-01</td>\n",
       "      <td>8.333979e-01</td>\n",
       "      <td>8.333377e-01</td>\n",
       "      <td>8.332797e-01</td>\n",
       "      <td>8.259248e-01</td>\n",
       "    </tr>\n",
       "  </tbody>\n",
       "</table>\n",
       "<p>119 rows × 673 columns</p>\n",
       "</div>"
      ],
      "text/plain": [
       "            0.00          0.25          0.50          0.75          1.00    \\\n",
       "name                                                                         \n",
       "20   -1.417195e-01 -1.402990e-01 -1.389211e-01 -1.375811e-01 -1.918836e-01   \n",
       "40   -2.904171e-02 -2.808642e-02 -2.724869e-02 -2.651397e-02 -6.325308e-02   \n",
       "50    2.077009e-02  1.873905e-02  1.686762e-02  1.513597e-02  1.999953e-02   \n",
       "60    8.301330e-01  8.297881e-01  8.294440e-01  8.291008e-01  8.240935e-01   \n",
       "101   6.176596e-09  6.040704e-09  5.903469e-09  5.904887e-09  2.167266e-01   \n",
       "...            ...           ...           ...           ...           ...   \n",
       "329   8.301330e-01  8.297881e-01  8.294440e-01  8.291008e-01  8.240934e-01   \n",
       "330   0.000000e+00  0.000000e+00  0.000000e+00  0.000000e+00  0.000000e+00   \n",
       "333  -2.890559e-08 -2.961881e-08 -2.976975e-08 -2.980169e-08 -2.981023e-08   \n",
       "10    0.000000e+00  0.000000e+00  0.000000e+00  0.000000e+00  2.167266e-01   \n",
       "335   8.301330e-01  8.297882e-01  8.294441e-01  8.291009e-01  8.240935e-01   \n",
       "\n",
       "            1.25          1.50          1.75          2.00          2.25    \\\n",
       "name                                                                         \n",
       "20   -1.908000e-01 -1.897421e-01 -1.887076e-01 -2.286319e-01 -2.280717e-01   \n",
       "40   -6.183808e-02 -6.049300e-02 -5.921391e-02 -7.945831e-02 -7.845762e-02   \n",
       "50    1.823608e-02  1.656860e-02  1.499001e-02 -7.516096e-03 -8.094080e-03   \n",
       "60    8.235860e-01  8.230792e-01  8.225731e-01  8.184308e-01  8.177646e-01   \n",
       "101   2.164988e-01  2.162702e-01  2.160413e-01  2.101099e-01  2.097933e-01   \n",
       "...            ...           ...           ...           ...           ...   \n",
       "329   8.235860e-01  8.230792e-01  8.225731e-01  8.184308e-01  8.177646e-01   \n",
       "330   0.000000e+00  0.000000e+00  0.000000e+00  0.000000e+00  0.000000e+00   \n",
       "333  -2.981026e-08 -2.981027e-08 -2.981027e-08 -2.981027e-08 -2.981027e-08   \n",
       "10    2.164988e-01  2.162702e-01  2.160413e-01  2.101099e-01  2.097933e-01   \n",
       "335   8.235861e-01  8.230792e-01  8.225731e-01  8.184309e-01  8.177646e-01   \n",
       "\n",
       "      ...        165.75        166.00        166.25        166.50  \\\n",
       "name  ...                                                           \n",
       "20    ... -1.451487e-01 -1.090683e-01 -1.058429e-01 -1.027298e-01   \n",
       "40    ... -1.324341e-02  2.365630e-02  2.170186e-02  1.978687e-02   \n",
       "50    ...  6.486753e-03  1.758446e-02  1.647723e-02  1.544249e-02   \n",
       "60    ...  8.311462e-01  8.325222e-01  8.323585e-01  8.321950e-01   \n",
       "101   ...  4.855457e-09  5.173495e-09  5.324818e-09  5.173494e-09   \n",
       "...   ...           ...           ...           ...           ...   \n",
       "329   ...  8.311461e-01  8.325222e-01  8.323585e-01  8.321950e-01   \n",
       "330   ...  0.000000e+00  0.000000e+00  0.000000e+00  0.000000e+00   \n",
       "333   ... -2.963528e-08 -2.979323e-08 -2.980666e-08 -2.980951e-08   \n",
       "10    ...  0.000000e+00  0.000000e+00  0.000000e+00  0.000000e+00   \n",
       "335   ...  8.311462e-01  8.325222e-01  8.323585e-01  8.321950e-01   \n",
       "\n",
       "            166.75        167.00        167.25        167.50        167.75  \\\n",
       "name                                                                         \n",
       "20   -9.972593e-02 -5.917176e-02 -5.580604e-02 -5.255272e-02 -4.941132e-02   \n",
       "40    1.791636e-02  4.521635e-02  4.326295e-02  4.135005e-02  3.948253e-02   \n",
       "50    1.447229e-02  2.952196e-02  2.817178e-02  2.689148e-02  2.567565e-02   \n",
       "60    8.320319e-01  8.334600e-01  8.333978e-01  8.333377e-01  8.332797e-01   \n",
       "101   5.326736e-09  6.176607e-09  6.307505e-09  6.308687e-09  6.307505e-09   \n",
       "...            ...           ...           ...           ...           ...   \n",
       "329   8.320319e-01  8.334600e-01  8.333978e-01  8.333377e-01  8.332797e-01   \n",
       "330   0.000000e+00  0.000000e+00  0.000000e+00  0.000000e+00  0.000000e+00   \n",
       "333  -2.981011e-08 -2.981026e-08 -2.981027e-08 -2.981027e-08 -2.981027e-08   \n",
       "10    0.000000e+00  0.000000e+00  0.000000e+00  0.000000e+00  0.000000e+00   \n",
       "335   8.320320e-01  8.334600e-01  8.333979e-01  8.333377e-01  8.332797e-01   \n",
       "\n",
       "            168.00  \n",
       "name                \n",
       "20   -1.403122e-01  \n",
       "40   -1.513647e-02  \n",
       "50    9.665825e-03  \n",
       "60    8.259247e-01  \n",
       "101   5.474358e-09  \n",
       "...            ...  \n",
       "329   8.259247e-01  \n",
       "330   0.000000e+00  \n",
       "333  -2.981027e-08  \n",
       "10    0.000000e+00  \n",
       "335   8.259248e-01  \n",
       "\n",
       "[119 rows x 673 columns]"
      ]
     },
     "execution_count": 249,
     "metadata": {},
     "output_type": "execute_result"
    }
   ],
   "source": [
    "testResult.flowrate"
   ]
  },
  {
   "cell_type": "code",
   "execution_count": 250,
   "metadata": {},
   "outputs": [
    {
     "data": {
      "text/html": [
       "<div>\n",
       "<style scoped>\n",
       "    .dataframe tbody tr th:only-of-type {\n",
       "        vertical-align: middle;\n",
       "    }\n",
       "\n",
       "    .dataframe tbody tr th {\n",
       "        vertical-align: top;\n",
       "    }\n",
       "\n",
       "    .dataframe thead th {\n",
       "        text-align: right;\n",
       "    }\n",
       "</style>\n",
       "<table border=\"1\" class=\"dataframe\">\n",
       "  <thead>\n",
       "    <tr style=\"text-align: right;\">\n",
       "      <th></th>\n",
       "      <th>0.00</th>\n",
       "      <th>0.25</th>\n",
       "      <th>0.50</th>\n",
       "      <th>0.75</th>\n",
       "      <th>1.00</th>\n",
       "      <th>1.25</th>\n",
       "      <th>1.50</th>\n",
       "      <th>1.75</th>\n",
       "      <th>2.00</th>\n",
       "      <th>2.25</th>\n",
       "      <th>...</th>\n",
       "      <th>165.75</th>\n",
       "      <th>166.00</th>\n",
       "      <th>166.25</th>\n",
       "      <th>166.50</th>\n",
       "      <th>166.75</th>\n",
       "      <th>167.00</th>\n",
       "      <th>167.25</th>\n",
       "      <th>167.50</th>\n",
       "      <th>167.75</th>\n",
       "      <th>168.00</th>\n",
       "    </tr>\n",
       "    <tr>\n",
       "      <th>name</th>\n",
       "      <th></th>\n",
       "      <th></th>\n",
       "      <th></th>\n",
       "      <th></th>\n",
       "      <th></th>\n",
       "      <th></th>\n",
       "      <th></th>\n",
       "      <th></th>\n",
       "      <th></th>\n",
       "      <th></th>\n",
       "      <th></th>\n",
       "      <th></th>\n",
       "      <th></th>\n",
       "      <th></th>\n",
       "      <th></th>\n",
       "      <th></th>\n",
       "      <th></th>\n",
       "      <th></th>\n",
       "      <th></th>\n",
       "      <th></th>\n",
       "      <th></th>\n",
       "    </tr>\n",
       "  </thead>\n",
       "  <tbody>\n",
       "    <tr>\n",
       "      <th>10</th>\n",
       "      <td>-0.450075</td>\n",
       "      <td>-0.412128</td>\n",
       "      <td>-0.373861</td>\n",
       "      <td>-0.335356</td>\n",
       "      <td>28.253767</td>\n",
       "      <td>28.271534</td>\n",
       "      <td>28.289356</td>\n",
       "      <td>28.307182</td>\n",
       "      <td>28.764025</td>\n",
       "      <td>28.788130</td>\n",
       "      <td>...</td>\n",
       "      <td>0.907047</td>\n",
       "      <td>0.372047</td>\n",
       "      <td>0.362341</td>\n",
       "      <td>0.353657</td>\n",
       "      <td>0.345960</td>\n",
       "      <td>-0.651304</td>\n",
       "      <td>-0.679442</td>\n",
       "      <td>-0.706920</td>\n",
       "      <td>-0.733592</td>\n",
       "      <td>0.201611</td>\n",
       "    </tr>\n",
       "    <tr>\n",
       "      <th>15</th>\n",
       "      <td>28.593653</td>\n",
       "      <td>28.646692</td>\n",
       "      <td>28.699518</td>\n",
       "      <td>28.752102</td>\n",
       "      <td>28.885521</td>\n",
       "      <td>28.962921</td>\n",
       "      <td>29.040127</td>\n",
       "      <td>29.117123</td>\n",
       "      <td>29.999792</td>\n",
       "      <td>30.099110</td>\n",
       "      <td>...</td>\n",
       "      <td>38.713997</td>\n",
       "      <td>34.835175</td>\n",
       "      <td>34.861679</td>\n",
       "      <td>34.887856</td>\n",
       "      <td>34.913708</td>\n",
       "      <td>34.475533</td>\n",
       "      <td>34.484104</td>\n",
       "      <td>34.492184</td>\n",
       "      <td>34.499786</td>\n",
       "      <td>29.216715</td>\n",
       "    </tr>\n",
       "    <tr>\n",
       "      <th>20</th>\n",
       "      <td>8.839199</td>\n",
       "      <td>8.904191</td>\n",
       "      <td>8.968536</td>\n",
       "      <td>9.032244</td>\n",
       "      <td>9.095338</td>\n",
       "      <td>9.183337</td>\n",
       "      <td>9.270839</td>\n",
       "      <td>9.357852</td>\n",
       "      <td>9.444395</td>\n",
       "      <td>9.549245</td>\n",
       "      <td>...</td>\n",
       "      <td>9.110826</td>\n",
       "      <td>9.177393</td>\n",
       "      <td>9.227413</td>\n",
       "      <td>9.275949</td>\n",
       "      <td>9.323063</td>\n",
       "      <td>9.368795</td>\n",
       "      <td>9.395933</td>\n",
       "      <td>9.421527</td>\n",
       "      <td>9.445627</td>\n",
       "      <td>9.468287</td>\n",
       "    </tr>\n",
       "    <tr>\n",
       "      <th>35</th>\n",
       "      <td>40.612469</td>\n",
       "      <td>40.648396</td>\n",
       "      <td>40.684673</td>\n",
       "      <td>40.721203</td>\n",
       "      <td>41.515282</td>\n",
       "      <td>41.584343</td>\n",
       "      <td>41.653618</td>\n",
       "      <td>41.723015</td>\n",
       "      <td>42.429348</td>\n",
       "      <td>42.531429</td>\n",
       "      <td>...</td>\n",
       "      <td>41.672138</td>\n",
       "      <td>41.488880</td>\n",
       "      <td>41.471233</td>\n",
       "      <td>41.454845</td>\n",
       "      <td>41.439659</td>\n",
       "      <td>40.998650</td>\n",
       "      <td>40.961136</td>\n",
       "      <td>40.924675</td>\n",
       "      <td>40.889191</td>\n",
       "      <td>41.281265</td>\n",
       "    </tr>\n",
       "    <tr>\n",
       "      <th>40</th>\n",
       "      <td>3.992880</td>\n",
       "      <td>4.042458</td>\n",
       "      <td>4.090409</td>\n",
       "      <td>4.136927</td>\n",
       "      <td>4.182194</td>\n",
       "      <td>4.290178</td>\n",
       "      <td>4.395748</td>\n",
       "      <td>4.499026</td>\n",
       "      <td>4.600112</td>\n",
       "      <td>4.735765</td>\n",
       "      <td>...</td>\n",
       "      <td>5.229321</td>\n",
       "      <td>5.251928</td>\n",
       "      <td>5.211545</td>\n",
       "      <td>5.174496</td>\n",
       "      <td>5.140712</td>\n",
       "      <td>5.110128</td>\n",
       "      <td>5.032933</td>\n",
       "      <td>4.959072</td>\n",
       "      <td>4.888481</td>\n",
       "      <td>4.821076</td>\n",
       "    </tr>\n",
       "    <tr>\n",
       "      <th>...</th>\n",
       "      <td>...</td>\n",
       "      <td>...</td>\n",
       "      <td>...</td>\n",
       "      <td>...</td>\n",
       "      <td>...</td>\n",
       "      <td>...</td>\n",
       "      <td>...</td>\n",
       "      <td>...</td>\n",
       "      <td>...</td>\n",
       "      <td>...</td>\n",
       "      <td>...</td>\n",
       "      <td>...</td>\n",
       "      <td>...</td>\n",
       "      <td>...</td>\n",
       "      <td>...</td>\n",
       "      <td>...</td>\n",
       "      <td>...</td>\n",
       "      <td>...</td>\n",
       "      <td>...</td>\n",
       "      <td>...</td>\n",
       "      <td>...</td>\n",
       "    </tr>\n",
       "    <tr>\n",
       "      <th>River</th>\n",
       "      <td>0.000000</td>\n",
       "      <td>0.000000</td>\n",
       "      <td>0.000000</td>\n",
       "      <td>0.000000</td>\n",
       "      <td>0.000000</td>\n",
       "      <td>0.000000</td>\n",
       "      <td>0.000000</td>\n",
       "      <td>0.000000</td>\n",
       "      <td>0.000000</td>\n",
       "      <td>0.000000</td>\n",
       "      <td>...</td>\n",
       "      <td>0.000000</td>\n",
       "      <td>0.000000</td>\n",
       "      <td>0.000000</td>\n",
       "      <td>0.000000</td>\n",
       "      <td>0.000000</td>\n",
       "      <td>0.000000</td>\n",
       "      <td>0.000000</td>\n",
       "      <td>0.000000</td>\n",
       "      <td>0.000000</td>\n",
       "      <td>0.000000</td>\n",
       "    </tr>\n",
       "    <tr>\n",
       "      <th>Lake</th>\n",
       "      <td>0.000000</td>\n",
       "      <td>0.000000</td>\n",
       "      <td>0.000000</td>\n",
       "      <td>0.000000</td>\n",
       "      <td>0.000000</td>\n",
       "      <td>0.000000</td>\n",
       "      <td>0.000000</td>\n",
       "      <td>0.000000</td>\n",
       "      <td>0.000000</td>\n",
       "      <td>0.000000</td>\n",
       "      <td>...</td>\n",
       "      <td>0.000000</td>\n",
       "      <td>0.000000</td>\n",
       "      <td>0.000000</td>\n",
       "      <td>0.000000</td>\n",
       "      <td>0.000000</td>\n",
       "      <td>0.000000</td>\n",
       "      <td>0.000000</td>\n",
       "      <td>0.000000</td>\n",
       "      <td>0.000000</td>\n",
       "      <td>0.000000</td>\n",
       "    </tr>\n",
       "    <tr>\n",
       "      <th>1</th>\n",
       "      <td>3.992880</td>\n",
       "      <td>4.042458</td>\n",
       "      <td>4.090409</td>\n",
       "      <td>4.136927</td>\n",
       "      <td>4.182194</td>\n",
       "      <td>4.290178</td>\n",
       "      <td>4.395748</td>\n",
       "      <td>4.499021</td>\n",
       "      <td>4.600112</td>\n",
       "      <td>4.735765</td>\n",
       "      <td>...</td>\n",
       "      <td>5.229321</td>\n",
       "      <td>5.251928</td>\n",
       "      <td>5.211545</td>\n",
       "      <td>5.174496</td>\n",
       "      <td>5.140712</td>\n",
       "      <td>5.110128</td>\n",
       "      <td>5.032933</td>\n",
       "      <td>4.959076</td>\n",
       "      <td>4.888481</td>\n",
       "      <td>4.821076</td>\n",
       "    </tr>\n",
       "    <tr>\n",
       "      <th>2</th>\n",
       "      <td>7.162800</td>\n",
       "      <td>7.060322</td>\n",
       "      <td>6.967867</td>\n",
       "      <td>6.884650</td>\n",
       "      <td>6.809970</td>\n",
       "      <td>6.711297</td>\n",
       "      <td>6.621321</td>\n",
       "      <td>6.539577</td>\n",
       "      <td>6.465619</td>\n",
       "      <td>6.502700</td>\n",
       "      <td>...</td>\n",
       "      <td>7.943687</td>\n",
       "      <td>7.911684</td>\n",
       "      <td>7.824927</td>\n",
       "      <td>7.743629</td>\n",
       "      <td>7.667439</td>\n",
       "      <td>7.596038</td>\n",
       "      <td>7.450382</td>\n",
       "      <td>7.311386</td>\n",
       "      <td>7.178710</td>\n",
       "      <td>7.052030</td>\n",
       "    </tr>\n",
       "    <tr>\n",
       "      <th>3</th>\n",
       "      <td>8.839199</td>\n",
       "      <td>8.904191</td>\n",
       "      <td>8.968536</td>\n",
       "      <td>9.032244</td>\n",
       "      <td>9.095338</td>\n",
       "      <td>9.183337</td>\n",
       "      <td>9.270839</td>\n",
       "      <td>9.357852</td>\n",
       "      <td>9.444395</td>\n",
       "      <td>9.549245</td>\n",
       "      <td>...</td>\n",
       "      <td>9.110826</td>\n",
       "      <td>9.177393</td>\n",
       "      <td>9.227408</td>\n",
       "      <td>9.275949</td>\n",
       "      <td>9.323063</td>\n",
       "      <td>9.368795</td>\n",
       "      <td>9.395933</td>\n",
       "      <td>9.421527</td>\n",
       "      <td>9.445627</td>\n",
       "      <td>9.468287</td>\n",
       "    </tr>\n",
       "  </tbody>\n",
       "</table>\n",
       "<p>97 rows × 673 columns</p>\n",
       "</div>"
      ],
      "text/plain": [
       "          0.00       0.25       0.50       0.75       1.00       1.25    \\\n",
       "name                                                                      \n",
       "10     -0.450075  -0.412128  -0.373861  -0.335356  28.253767  28.271534   \n",
       "15     28.593653  28.646692  28.699518  28.752102  28.885521  28.962921   \n",
       "20      8.839199   8.904191   8.968536   9.032244   9.095338   9.183337   \n",
       "35     40.612469  40.648396  40.684673  40.721203  41.515282  41.584343   \n",
       "40      3.992880   4.042458   4.090409   4.136927   4.182194   4.290178   \n",
       "...          ...        ...        ...        ...        ...        ...   \n",
       "River   0.000000   0.000000   0.000000   0.000000   0.000000   0.000000   \n",
       "Lake    0.000000   0.000000   0.000000   0.000000   0.000000   0.000000   \n",
       "1       3.992880   4.042458   4.090409   4.136927   4.182194   4.290178   \n",
       "2       7.162800   7.060322   6.967867   6.884650   6.809970   6.711297   \n",
       "3       8.839199   8.904191   8.968536   9.032244   9.095338   9.183337   \n",
       "\n",
       "          1.50       1.75       2.00       2.25    ...     165.75     166.00  \\\n",
       "name                                               ...                         \n",
       "10     28.289356  28.307182  28.764025  28.788130  ...   0.907047   0.372047   \n",
       "15     29.040127  29.117123  29.999792  30.099110  ...  38.713997  34.835175   \n",
       "20      9.270839   9.357852   9.444395   9.549245  ...   9.110826   9.177393   \n",
       "35     41.653618  41.723015  42.429348  42.531429  ...  41.672138  41.488880   \n",
       "40      4.395748   4.499026   4.600112   4.735765  ...   5.229321   5.251928   \n",
       "...          ...        ...        ...        ...  ...        ...        ...   \n",
       "River   0.000000   0.000000   0.000000   0.000000  ...   0.000000   0.000000   \n",
       "Lake    0.000000   0.000000   0.000000   0.000000  ...   0.000000   0.000000   \n",
       "1       4.395748   4.499021   4.600112   4.735765  ...   5.229321   5.251928   \n",
       "2       6.621321   6.539577   6.465619   6.502700  ...   7.943687   7.911684   \n",
       "3       9.270839   9.357852   9.444395   9.549245  ...   9.110826   9.177393   \n",
       "\n",
       "          166.25     166.50     166.75     167.00     167.25     167.50  \\\n",
       "name                                                                      \n",
       "10      0.362341   0.353657   0.345960  -0.651304  -0.679442  -0.706920   \n",
       "15     34.861679  34.887856  34.913708  34.475533  34.484104  34.492184   \n",
       "20      9.227413   9.275949   9.323063   9.368795   9.395933   9.421527   \n",
       "35     41.471233  41.454845  41.439659  40.998650  40.961136  40.924675   \n",
       "40      5.211545   5.174496   5.140712   5.110128   5.032933   4.959072   \n",
       "...          ...        ...        ...        ...        ...        ...   \n",
       "River   0.000000   0.000000   0.000000   0.000000   0.000000   0.000000   \n",
       "Lake    0.000000   0.000000   0.000000   0.000000   0.000000   0.000000   \n",
       "1       5.211545   5.174496   5.140712   5.110128   5.032933   4.959076   \n",
       "2       7.824927   7.743629   7.667439   7.596038   7.450382   7.311386   \n",
       "3       9.227408   9.275949   9.323063   9.368795   9.395933   9.421527   \n",
       "\n",
       "          167.75     168.00  \n",
       "name                         \n",
       "10     -0.733592   0.201611  \n",
       "15     34.499786  29.216715  \n",
       "20      9.445627   9.468287  \n",
       "35     40.889191  41.281265  \n",
       "40      4.888481   4.821076  \n",
       "...          ...        ...  \n",
       "River   0.000000   0.000000  \n",
       "Lake    0.000000   0.000000  \n",
       "1       4.888481   4.821076  \n",
       "2       7.178710   7.052030  \n",
       "3       9.445627   9.468287  \n",
       "\n",
       "[97 rows x 673 columns]"
      ]
     },
     "execution_count": 250,
     "metadata": {},
     "output_type": "execute_result"
    }
   ],
   "source": [
    "testResult.pressure"
   ]
  },
  {
   "cell_type": "code",
   "execution_count": 251,
   "metadata": {},
   "outputs": [
    {
     "data": {
      "text/plain": [
       "1575.5015120581477"
      ]
     },
     "execution_count": 251,
     "metadata": {},
     "output_type": "execute_result"
    }
   ],
   "source": [
    "testSensor.calculateProbability(testResult)"
   ]
  },
  {
   "cell_type": "code",
   "execution_count": 252,
   "metadata": {},
   "outputs": [],
   "source": [
    "testCalibrator = Calibrator(\"20\",\"diameter\",stats.norm(6,2))"
   ]
  },
  {
   "cell_type": "markdown",
   "metadata": {},
   "source": [
    "# Setting Up"
   ]
  },
  {
   "cell_type": "code",
   "execution_count": 253,
   "metadata": {},
   "outputs": [],
   "source": [
    "\"\"\"\n",
    "This function generates the random numbers for the parameters being tested\n",
    "\"\"\"\n",
    "def π(listOfCalibrators):\n",
    "    estimatesDict = {}\n",
    "    for calibrator in listOfCalibrators:\n",
    "        rv = calibrator.generateProposal()\n",
    "        estimatesDict[calibrator] = rv\n",
    "    return estimatesDict     "
   ]
  },
  {
   "cell_type": "code",
   "execution_count": 254,
   "metadata": {},
   "outputs": [
    {
     "data": {
      "text/plain": [
       "{<__main__.Calibrator at 0x278b38d8608>: 5.854396914712878}"
      ]
     },
     "execution_count": 254,
     "metadata": {},
     "output_type": "execute_result"
    }
   ],
   "source": [
    "π([testCalibrator])"
   ]
  },
  {
   "cell_type": "code",
   "execution_count": 255,
   "metadata": {},
   "outputs": [],
   "source": [
    "\"\"\"\n",
    "This function calculates the probability that the parameters are \n",
    "pulled from their distribution\n",
    "\"\"\"\n",
    "def π_Prior(estimatesDict):\n",
    "    p = 1.0\n",
    "    for calibrator,parameterValue in estimatesDict.items():\n",
    "        pi = calibrator.calculateProbability(parameterValue)\n",
    "        p *= pi\n",
    "    return p"
   ]
  },
  {
   "cell_type": "code",
   "execution_count": 256,
   "metadata": {},
   "outputs": [
    {
     "data": {
      "text/plain": [
       "0.19723966545394447"
      ]
     },
     "execution_count": 256,
     "metadata": {},
     "output_type": "execute_result"
    }
   ],
   "source": [
    "π_Prior({testCalibrator:6.3})"
   ]
  },
  {
   "cell_type": "code",
   "execution_count": 257,
   "metadata": {},
   "outputs": [],
   "source": [
    "\"\"\"\n",
    "This function loops through a set of observations and calculates the\n",
    "log-liklihood of each, summed\n",
    "\"\"\"\n",
    "def π_Log_Liklihood(listOfSensors,modelResult):\n",
    "    logLiklihood = 0.0\n",
    "    for sensor in listOfSensors:\n",
    "        logLiklihood += sensor.calculateProbability_Summed_Log(modelResult)\n",
    "#     logLiklihood = np.log(logLiklihood)\n",
    "    return logLiklihood"
   ]
  },
  {
   "cell_type": "code",
   "execution_count": 285,
   "metadata": {},
   "outputs": [
    {
     "data": {
      "text/plain": [
       "51.604172670500816"
      ]
     },
     "execution_count": 285,
     "metadata": {},
     "output_type": "execute_result"
    }
   ],
   "source": [
    "π_Log_Liklihood(listOfSensors,currentModelResult)"
   ]
  },
  {
   "cell_type": "code",
   "execution_count": 258,
   "metadata": {},
   "outputs": [
    {
     "data": {
      "text/plain": [
       "-1.8971199848858813"
      ]
     },
     "execution_count": 258,
     "metadata": {},
     "output_type": "execute_result"
    }
   ],
   "source": [
    "np.log(.3) + np.log(.5)"
   ]
  },
  {
   "cell_type": "code",
   "execution_count": 259,
   "metadata": {},
   "outputs": [
    {
     "data": {
      "text/plain": [
       "-0.2231435513142097"
      ]
     },
     "execution_count": 259,
     "metadata": {},
     "output_type": "execute_result"
    }
   ],
   "source": [
    "np.log(.8)"
   ]
  },
  {
   "cell_type": "code",
   "execution_count": 260,
   "metadata": {},
   "outputs": [],
   "source": [
    "def MCMC():\n",
    "    return None"
   ]
  },
  {
   "cell_type": "code",
   "execution_count": 261,
   "metadata": {},
   "outputs": [],
   "source": [
    "def GA():\n",
    "    return None"
   ]
  },
  {
   "cell_type": "code",
   "execution_count": 262,
   "metadata": {},
   "outputs": [],
   "source": [
    "def setParameterValues(proposedParameters):\n",
    "    for calibrator,proposedParameterValue in proposedParameters.items():\n",
    "        calibrator.values.append(proposedParameterValue)"
   ]
  },
  {
   "cell_type": "markdown",
   "metadata": {},
   "source": [
    "# MCMC Step By Step"
   ]
  },
  {
   "cell_type": "code",
   "execution_count": 331,
   "metadata": {},
   "outputs": [],
   "source": [
    "# Set up the known network\n",
    "inp_file = 'networks/Net3.inp'\n",
    "wn_true = wntr.network.WaterNetworkModel(inp_file)\n",
    "waterNetwork = WaterNetworkHelper(wn_true)"
   ]
  },
  {
   "cell_type": "markdown",
   "metadata": {},
   "source": [
    "# Set the calibrators\n",
    "calibrator1 = Calibrator(\"20\",\"roughness\",stats.norm(190,20))\n",
    "calibrator2 = Calibrator(\"40\",\"roughness\",stats.norm(200,10))\n",
    "calibrator3 = Calibrator(\"333\",\"roughness\",stats.norm(130,20))"
   ]
  },
  {
   "cell_type": "markdown",
   "metadata": {},
   "source": [
    "listOfCalibrators = [calibrator1,calibrator2,calibrator3]"
   ]
  },
  {
   "cell_type": "code",
   "execution_count": 332,
   "metadata": {},
   "outputs": [],
   "source": [
    "listOfCalibrators = []\n",
    "trueValues = {}\n",
    "pAddCalibrator = 0.05\n",
    "for i,row in waterNetwork.pipes.iterrows():\n",
    "    rand = np.random.random()\n",
    "    if rand < pAddCalibrator:\n",
    "        actualRoughness = row[\"roughness\"]\n",
    "        dist = stats.norm(actualRoughness,15)\n",
    "        randomRoughness = dist.rvs()\n",
    "        calibrator = Calibrator(i,\"roughness\",stats.norm(randomRoughness,15))\n",
    "        trueValues[calibrator] = actualRoughness\n",
    "        listOfCalibrators.append(calibrator)"
   ]
  },
  {
   "cell_type": "markdown",
   "metadata": {},
   "source": [
    "trueValues = {calibrator1:199,calibrator2:199,calibrator3:140}"
   ]
  },
  {
   "cell_type": "code",
   "execution_count": 333,
   "metadata": {},
   "outputs": [],
   "source": [
    "listOfSensors = []\n",
    "pAddSensor = 0.2\n",
    "for i,row in testResult.flowrate.iterrows():\n",
    "    sensorProperty = \"flowrate\"\n",
    "    sensorName = i\n",
    "    sensorSTD = 0.001\n",
    "    sensorDict = {}\n",
    "#     for time in testResult.pressure.columns:\n",
    "#         sensorDict[time] = row[time]\n",
    "    sensorDict[5.00] = row[5.00]\n",
    "    sensor = Sensor(sensorProperty,sensorName,sensorSTD,sensorDict)\n",
    "    rand = np.random.random()\n",
    "    if rand < pAddSensor:\n",
    "        listOfSensors.append(sensor)"
   ]
  },
  {
   "cell_type": "markdown",
   "metadata": {},
   "source": [
    "sensor1 = Sensor(\"pressure\",\"15\",2,{0.0:28.593653,0.25:28.646692})\n",
    "sensor2 = Sensor(\"pressure\",\"40\",1,{0.0:3.992880,0.25:4.042458})"
   ]
  },
  {
   "cell_type": "markdown",
   "metadata": {},
   "source": [
    "listOfSensors = [sensor1,sensor2]"
   ]
  },
  {
   "cell_type": "code",
   "execution_count": 334,
   "metadata": {},
   "outputs": [],
   "source": [
    "iterations = []\n",
    "acceptanceRatios = []\n",
    "isAccepted = []"
   ]
  },
  {
   "cell_type": "code",
   "execution_count": 335,
   "metadata": {},
   "outputs": [],
   "source": [
    "currentParameters = π(listOfCalibrators)\n",
    "for calibrator,proposedParameterValue in currentParameters.items():\n",
    "    calibrator.values.append(proposedParameterValue)\n",
    "    calibrator.setValue(waterNetwork,proposedParameterValue)\n",
    "currentModelResult = waterNetwork.runSimulation()"
   ]
  },
  {
   "cell_type": "code",
   "execution_count": 336,
   "metadata": {},
   "outputs": [],
   "source": [
    "n = 1000"
   ]
  },
  {
   "cell_type": "code",
   "execution_count": 337,
   "metadata": {},
   "outputs": [
    {
     "data": {
      "text/plain": [
       "{<__main__.Calibrator at 0x278d853a348>: 116.76060454031204,\n",
       " <__main__.Calibrator at 0x278d853aec8>: 99.38817113528867,\n",
       " <__main__.Calibrator at 0x278b91135c8>: 78.44430507355361,\n",
       " <__main__.Calibrator at 0x278b9113f48>: 122.88000747354823,\n",
       " <__main__.Calibrator at 0x278b91cc608>: 119.0196135341666,\n",
       " <__main__.Calibrator at 0x278b9117448>: 159.74851574017922,\n",
       " <__main__.Calibrator at 0x278b9117a48>: 126.22900292566601,\n",
       " <__main__.Calibrator at 0x278b9113888>: 144.91189229077906,\n",
       " <__main__.Calibrator at 0x278b91aad48>: 100.27267143264834,\n",
       " <__main__.Calibrator at 0x278bab07dc8>: 138.82050091790455,\n",
       " <__main__.Calibrator at 0x278b9122648>: 140.2350697771816,\n",
       " <__main__.Calibrator at 0x278b9163548>: 119.1732862780244,\n",
       " <__main__.Calibrator at 0x278b911fb88>: 102.9841191145094,\n",
       " <__main__.Calibrator at 0x278b9145288>: 132.7435033733636,\n",
       " <__main__.Calibrator at 0x278b9140588>: 156.940112821735}"
      ]
     },
     "execution_count": 337,
     "metadata": {},
     "output_type": "execute_result"
    }
   ],
   "source": [
    "proposedParameters"
   ]
  },
  {
   "cell_type": "code",
   "execution_count": 338,
   "metadata": {},
   "outputs": [
    {
     "data": {
      "text/plain": [
       "78.493881073014"
      ]
     },
     "execution_count": 338,
     "metadata": {},
     "output_type": "execute_result"
    }
   ],
   "source": [
    "α_2"
   ]
  },
  {
   "cell_type": "code",
   "execution_count": 339,
   "metadata": {},
   "outputs": [
    {
     "data": {
      "text/plain": [
       "83.26456960383479"
      ]
     },
     "execution_count": 339,
     "metadata": {},
     "output_type": "execute_result"
    }
   ],
   "source": [
    "α_4"
   ]
  },
  {
   "cell_type": "code",
   "execution_count": 340,
   "metadata": {},
   "outputs": [
    {
     "data": {
      "text/plain": [
       "0.6164631885692604"
      ]
     },
     "execution_count": 340,
     "metadata": {},
     "output_type": "execute_result"
    }
   ],
   "source": [
    "np.random.random()"
   ]
  },
  {
   "cell_type": "code",
   "execution_count": 341,
   "metadata": {},
   "outputs": [
    {
     "data": {
      "text/html": [
       "<div><span class=\"Text-label\" style=\"display:inline-block; overflow:hidden; white-space:nowrap; text-overflow:ellipsis; min-width:0; max-width:15ex; vertical-align:middle; text-align:right\"></span>\n",
       "<progress style=\"width:60ex\" max=\"1000\" value=\"1000\" class=\"Progress-main\"/></progress>\n",
       "<span class=\"Progress-label\"><strong>100%</strong></span>\n",
       "<span class=\"Iteration-label\">1000/1000</span>\n",
       "<span class=\"Time-label\">[03:52<00:00, 0.23s/it]</span></div>"
      ],
      "text/plain": [
       "\u001b[A\u001b[2K\r",
       " [████████████████████████████████████████████████████████████] 1000/1000 [03:52<00:00, 0.23s/it]"
      ]
     },
     "metadata": {},
     "output_type": "display_data"
    }
   ],
   "source": [
    "for i in track(range(0,n)):\n",
    "    iterations.append(i)\n",
    "    \n",
    "    # generate a set of proposed values as a starting point\n",
    "    proposedParameters = π(listOfCalibrators)\n",
    "    for calibrator,proposedParameterValue in proposedParameters.items():\n",
    "        calibrator.proposedValues.append(proposedParameterValue)\n",
    "        # udpate the model\n",
    "        calibrator.setValue(waterNetwork,proposedParameterValue)\n",
    "    \n",
    "    # run the model\n",
    "    try:\n",
    "        modelResult = waterNetwork.runSimulation()\n",
    "\n",
    "        # calculate the acceptance probabilities\n",
    "        α_1 = np.log(π_Prior(proposedParameters))\n",
    "        α_2 = π_Log_Liklihood(listOfSensors,modelResult)\n",
    "        α_3 = np.log(π_Prior({calibrator:calibrator.values[-1] for calibrator in listOfCalibrators}))\n",
    "        α_4 = π_Log_Liklihood(listOfSensors,currentModelResult)\n",
    "        α = np.exp(α_1 + α_2 - α_3 - α_4)\n",
    "        α = min(1.0,α)\n",
    "        acceptanceRatios.append(α)\n",
    "        accepted = False\n",
    "\n",
    "        # decide if we accept\n",
    "        if α == 1: # accept\n",
    "            setParameterValues(proposedParameters)\n",
    "            currentParameters = proposedParameters\n",
    "            currentModelResult = modelResult\n",
    "            accepted = True\n",
    "        else: # draw a random number and take the probability based on α\n",
    "            rand = np.random.random()\n",
    "            if rand < α: # accept\n",
    "                setParameterValues(proposedParameters)\n",
    "                currentParameters = proposedParameters\n",
    "                currentModelResult = modelResult\n",
    "                accepted = True\n",
    "            else:\n",
    "                setParameterValues(currentParameters)\n",
    "\n",
    "        # update our iteration\n",
    "        # update parameter histories\n",
    "        isAccepted.append(accepted)\n",
    "    except:\n",
    "        pass\n",
    "\n",
    "# generate the return data frame\n"
   ]
  },
  {
   "cell_type": "code",
   "execution_count": 343,
   "metadata": {},
   "outputs": [
    {
     "data": {
      "image/png": "[encoded data removed]",
      "text/plain": [
       "<Figure size 1440x360 with 1 Axes>"
      ]
     },
     "metadata": {
      "needs_background": "light"
     },
     "output_type": "display_data"
    }
   ],
   "source": [
    "fig,ax = plt.subplots(figsize=(20,5))\n",
    "(testResult.flowrate[5.00] - currentModelResult.flowrate[5.00]).plot(ax=ax,kind=\"bar\")\n",
    "ax.set_title(f\"Actual Differences in Link Flow Rates\\nAcceptance Rate: {np.sum(isAccepted)/len(isAccepted)}\");"
   ]
  },
  {
   "cell_type": "code",
   "execution_count": 344,
   "metadata": {},
   "outputs": [
    {
     "data": {
      "image/png": "[encoded data removed]",
      "text/plain": [
       "<Figure size 720x720 with 1 Axes>"
      ]
     },
     "metadata": {
      "needs_background": "light"
     },
     "output_type": "display_data"
    },
    {
     "data": {
      "image/png": "[encoded data removed]",
      "text/plain": [
       "<Figure size 720x720 with 1 Axes>"
      ]
     },
     "metadata": {
      "needs_background": "light"
     },
     "output_type": "display_data"
    },
    {
     "data": {
      "image/png": "[encoded data removed]",
      "text/plain": [
       "<Figure size 720x720 with 1 Axes>"
      ]
     },
     "metadata": {
      "needs_background": "light"
     },
     "output_type": "display_data"
    }
   ],
   "source": [
    "for i in range(0,len(listOfCalibrators)):\n",
    "    listOfCalibrators[i].plot(trueValues[listOfCalibrators[i]])"
   ]
  },
  {
   "cell_type": "code",
   "execution_count": 39,
   "metadata": {},
   "outputs": [
    {
     "data": {
      "image/png": "[encoded data removed]",
      "text/plain": [
       "<Figure size 720x720 with 1 Axes>"
      ]
     },
     "metadata": {
      "needs_background": "light"
     },
     "output_type": "display_data"
    },
    {
     "data": {
      "image/png": "[encoded data removed]",
      "text/plain": [
       "<Figure size 720x720 with 1 Axes>"
      ]
     },
     "metadata": {
      "needs_background": "light"
     },
     "output_type": "display_data"
    },
    {
     "data": {
      "image/png": "[encoded data removed]",
      "text/plain": [
       "<Figure size 720x720 with 1 Axes>"
      ]
     },
     "metadata": {
      "needs_background": "light"
     },
     "output_type": "display_data"
    }
   ],
   "source": [
    "ax1 = calibrator1.plot(trueValues[calibrator1])\n",
    "ax2 = calibrator2.plot(trueValues[calibrator2])\n",
    "ax3 = calibrator3.plot(trueValues[calibrator3])"
   ]
  },
  {
   "cell_type": "code",
   "execution_count": 84,
   "metadata": {},
   "outputs": [
    {
     "data": {
      "text/plain": [
       "0.15"
      ]
     },
     "execution_count": 84,
     "metadata": {},
     "output_type": "execute_result"
    }
   ],
   "source": [
    "np.sum(isAccepted)/len(isAccepted)"
   ]
  },
  {
   "cell_type": "markdown",
   "metadata": {},
   "source": [
    "# Let's do this"
   ]
  },
  {
   "cell_type": "markdown",
   "metadata": {},
   "source": [
    "For simplicity, we are treating the only system states as flow rate, and the only parameters as pipe roughness"
   ]
  },
  {
   "cell_type": "markdown",
   "metadata": {},
   "source": [
    "## Inputs"
   ]
  },
  {
   "cell_type": "code",
   "execution_count": null,
   "metadata": {},
   "outputs": [],
   "source": [
    "class Parameter():\n",
    "    def __init__(self,pipeName,value,distribution=None,isFixed=True):\n",
    "        self.pipeName = pipeName\n",
    "        self.value = value\n",
    "        self.distribution = distribution\n",
    "        self.isFixed = isFixed\n",
    "        \n",
    "    def generateValue(self):\n",
    "        return 0\n",
    "    \n",
    "    def probabilityOfValue(self):\n",
    "        return 0"
   ]
  },
  {
   "cell_type": "code",
   "execution_count": null,
   "metadata": {},
   "outputs": [],
   "source": [
    "class Model():\n",
    "    def __init__(self,wn,listOfParameters):\n",
    "        self.wn = wn\n",
    "        self.listOfParameters = listOfParameters"
   ]
  },
  {
   "cell_type": "markdown",
   "metadata": {},
   "source": [
    "### Fixed Inputs"
   ]
  },
  {
   "cell_type": "markdown",
   "metadata": {},
   "source": [
    "### Distributions of Priors"
   ]
  },
  {
   "cell_type": "markdown",
   "metadata": {},
   "source": [
    "### Trusted System States and their Distributions (Uncertainty) for Calibration"
   ]
  },
  {
   "cell_type": "markdown",
   "metadata": {},
   "source": [
    "## Methods"
   ]
  },
  {
   "cell_type": "markdown",
   "metadata": {},
   "source": [
    "### $\\pi$- Generates the random values for the parameters being tested"
   ]
  },
  {
   "cell_type": "code",
   "execution_count": null,
   "metadata": {},
   "outputs": [],
   "source": [
    "def π():\n",
    "    return 0"
   ]
  },
  {
   "cell_type": "markdown",
   "metadata": {},
   "source": [
    "### $\\pi_{prior}$- Calculates the probability that a set of parameter 'states' are pulled from their distributions"
   ]
  },
  {
   "cell_type": "code",
   "execution_count": null,
   "metadata": {},
   "outputs": [],
   "source": [
    "def π_prior():\n",
    "    return 0"
   ]
  },
  {
   "cell_type": "markdown",
   "metadata": {},
   "source": [
    "### $\\pi_{log liklihood}$- The sum of the log liklihood of each resulting system state matching the trusted system state"
   ]
  },
  {
   "cell_type": "code",
   "execution_count": null,
   "metadata": {},
   "outputs": [],
   "source": [
    "def π_logLikelihood():\n",
    "    return 0"
   ]
  },
  {
   "cell_type": "markdown",
   "metadata": {},
   "source": [
    "### MCMC"
   ]
  },
  {
   "cell_type": "code",
   "execution_count": null,
   "metadata": {},
   "outputs": [],
   "source": [
    "def MCMC():\n",
    "    return 0"
   ]
  },
  {
   "cell_type": "markdown",
   "metadata": {},
   "source": [
    "1. Set the parameters for the model, both fixed and pulling from distributions\n",
    "2. Run the model with the selected parameters\n",
    "3. Compare model results to the \"sensor\" feeds\n",
    "4. Calculate the acceptance ratio"
   ]
  },
  {
   "cell_type": "raw",
   "metadata": {},
   "source": [
    "for parameter in wn.parameters:\n",
    "    parameterProbaility = 1.0\n",
    "    if parameter.isFixed:\n",
    "        wn.setParaemter(parameter.value)\n",
    "    else:\n",
    "        value,probability = parameter.generateProposal()\n",
    "        wn.setParameter(value)\n",
    "        parameterProbability *= probability\n",
    "results = wn.runSImulation()\n",
    "reusltsProbability = 1.0\n",
    "for calibrator in calibrators:\n",
    "    comparableResult = extractResult(results,calibrator)\n",
    "    resultProbability = calibrator.distribution.rvs(comparableResult,calibrator.value,calibrator.std)\n",
    "    resultsProbability *= resultProbability\n",
    "calculateAlpha(resultsProbability,parameterProbability)"
   ]
  },
  {
   "cell_type": "code",
   "execution_count": null,
   "metadata": {},
   "outputs": [],
   "source": []
  }
 ],
 "metadata": {
  "kernelspec": {
   "display_name": "Python 3.7.6 64-bit ('phd': conda)",
   "language": "python",
   "name": "python37664bitphdcondab24623704836426aa66db115e96068bb"
  },
  "language_info": {
   "codemirror_mode": {
    "name": "ipython",
    "version": 3
   },
   "file_extension": ".py",
   "mimetype": "text/x-python",
   "name": "python",
   "nbconvert_exporter": "python",
   "pygments_lexer": "ipython3",
   "version": "3.7.6"
  }
 },
 "nbformat": 4,
 "nbformat_minor": 4
}
