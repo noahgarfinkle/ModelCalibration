{
 "cells": [
  {
   "cell_type": "markdown",
   "metadata": {},
   "source": [
    "# Water Model Calibration"
   ]
  },
  {
   "cell_type": "code",
   "execution_count": 1,
   "metadata": {},
   "outputs": [],
   "source": [
    "import wntr\n",
    "import pandas as pd\n",
    "import numpy as np\n",
    "import matplotlib.pyplot as plt\n",
    "import seaborn as sns\n",
    "import scipy.stats as stats\n",
    "import scipy as sp\n",
    "import chaospy as cp\n",
    "from ipypb import track"
   ]
  },
  {
   "cell_type": "markdown",
   "metadata": {},
   "source": [
    "# Helper Methods"
   ]
  },
  {
   "cell_type": "code",
   "execution_count": 2,
   "metadata": {},
   "outputs": [],
   "source": [
    "def extractDataFrame(wn,objType=\"Pipe\"):\n",
    "    objsDict = {}\n",
    "    try:\n",
    "        objIter = wn.pipes()\n",
    "        if objType == \"Junction\":\n",
    "            objIter = wn.junctions()\n",
    "        elif objType == \"Tank\":\n",
    "            objIter = wn.tanks()\n",
    "        elif objType == \"Reservoir\":\n",
    "            objIter = wn.reservoirs()\n",
    "        for obj in objIter:\n",
    "            obj = obj[1]\n",
    "            objDict = obj.todict()\n",
    "            for k,v in objDict.items():\n",
    "                if k in objsDict.keys():\n",
    "                    objsDict[k].append(v)\n",
    "                else:\n",
    "                    objsDict[k] = [v]\n",
    "        objsDF = pd.DataFrame(objsDict)\n",
    "        return objsDF\n",
    "    except:\n",
    "        return objsDict"
   ]
  },
  {
   "cell_type": "code",
   "execution_count": 3,
   "metadata": {},
   "outputs": [],
   "source": [
    "class ResultHelper():\n",
    "    def __init__(self,results,convertResultsToHours=True):\n",
    "        self.results = results\n",
    "        \n",
    "        # programatically set nodes\n",
    "        for nodeKey in results.node.keys():\n",
    "            self.__dict__[nodeKey] = results.node[nodeKey].T\n",
    "        \n",
    "        # progrmatically set links\n",
    "        for linkKey in results.link.keys():\n",
    "            self.__dict__[linkKey] = results.link[linkKey].T\n",
    "        \n",
    "        if convertResultsToHours:\n",
    "            self.convertResultsToHours()\n",
    "            \n",
    "    def help(self):\n",
    "        return list(self.__dict__.keys())\n",
    "        \n",
    "    def convertResultsToHours(self):\n",
    "        for prop,value in self.__dict__.items():\n",
    "            if type(value) == pd.DataFrame:\n",
    "                value.columns = [float(seconds)/3600.0 for seconds in value.columns]\n",
    "                \n",
    "    def returnResult(self,resultType,resultLocationID,time):\n",
    "        if resultType in self.__dict__.keys():\n",
    "            resultDF = self.__dict__[resultType]\n",
    "            if resultLocationID in resultDF.index:\n",
    "                if time in resultDF.columns:\n",
    "                    return self.__dict__[resultType].loc[resultLocationID][time]\n",
    "                else:\n",
    "                    print(f\"{time} is not a valid time\")\n",
    "            else:\n",
    "                print(f\"{resultLocationID} is not a valid element in the network\")\n",
    "        else:\n",
    "            print(f\"{resultType} is not a valid property for ResultAnalyzer\")\n",
    "            return None"
   ]
  },
  {
   "cell_type": "code",
   "execution_count": 225,
   "metadata": {},
   "outputs": [],
   "source": [
    "class Sensor():\n",
    "    def __init__(self,sensorType,name,sensorSTD,dictOfPropertyValues):\n",
    "        self.sensorType = sensorType\n",
    "        self.name = name\n",
    "        self.sensorSTD = sensorSTD\n",
    "        self.dictOfPropertyValues = dictOfPropertyValues\n",
    "        \n",
    "    def calculateProbability(self,resultHelper):\n",
    "        p = 1.0\n",
    "        for sensorObservationTime,sensorObservationValue in self.dictOfPropertyValues.items():\n",
    "            distribution = stats.norm(sensorObservationValue,self.sensorSTD)\n",
    "            p *= distribution.pdf(resultHelper.returnResult(self.sensorType,self.name,sensorObservationTime))\n",
    "        return p\n",
    "    \n",
    "    def calculateProbability_Summed(self,resultHelper):\n",
    "        p = 0.0\n",
    "        for sensorObservationTime,sensorObservationValue in self.dictOfPropertyValues.items():\n",
    "            distribution = stats.norm(resultHelper.returnResult(self.sensorType,self.name,sensorObservationTime),self.sensorSTD)\n",
    "            p += distribution.pdf(sensorObservationValue)\n",
    "        return p        \n",
    "    \n",
    "    def calculateProbability_Summed_Log(self,resultHelper):\n",
    "        p = 0.0\n",
    "        for sensorObservationTime,sensorObservationValue in self.dictOfPropertyValues.items():\n",
    "            distribution = stats.norm(resultHelper.returnResult(self.sensorType,self.name,sensorObservationTime),self.sensorSTD)\n",
    "            p += np.log(distribution.pdf(sensorObservationValue))\n",
    "        return p       "
   ]
  },
  {
   "cell_type": "code",
   "execution_count": 5,
   "metadata": {},
   "outputs": [],
   "source": [
    "class WaterNetworkHelper():\n",
    "    def __init__(self,wn,name=\"Water Network\"):\n",
    "        self.wn = wn\n",
    "        self.updatePipes()\n",
    "        self.name = name\n",
    "        \n",
    "    def updatePipes(self):\n",
    "        self.pipes = extractDataFrame(self.wn).set_index(\"name\")\n",
    "        self.nodes = extractDataFrame(self.wn,\"Junction\").set_index(\"name\")\n",
    "        self.tanks = extractDataFrame(self.wn,\"Tank\").set_index(\"name\")\n",
    "        self.reservoirs = extractDataFrame(self.wn,\"Reservoir\").set_index(\"name\")\n",
    "        \n",
    "    def setPipeDiameter(self,pipeID,newDiameter):\n",
    "        pipe = self.wn.get_link(pipeID)\n",
    "        pipe.diameter = newDiameter\n",
    "        self.updatePipes()\n",
    "    \n",
    "    def setPipeRoughness(self,pipeID,newRoughness):\n",
    "        pipe = self.wn.get_link(pipeID)\n",
    "        pipe.roughness = newRoughness\n",
    "        self.updatePipes()\n",
    "    \n",
    "    def setPipeStatus(self,pipeID,newStatus):\n",
    "        pipe = self.wn.get_link(pipeID)\n",
    "        pipe.status = newStatus\n",
    "        self.updatePipes()\n",
    "            \n",
    "    def runSimulation(self):\n",
    "        sim = wntr.sim.EpanetSimulator(self.wn)\n",
    "        results = ResultHelper(sim.run_sim())\n",
    "        return results        \n",
    "    \n",
    "    def plotNetwork(self,figsize=(10,10),link_attribute=None,node_attribute=None):\n",
    "        fig,ax = plt.subplots(figsize=figsize)\n",
    "        wntr.graphics.plot_network(self.wn, title=self.name,ax=ax,node_attribute=node_attribute,link_attribute=link_attribute)"
   ]
  },
  {
   "cell_type": "code",
   "execution_count": 159,
   "metadata": {},
   "outputs": [],
   "source": [
    "class Calibrator():\n",
    "    def __init__(self,elementName,elementProperty,distribution):\n",
    "        self.elementName = elementName\n",
    "        self.elementProperty = elementProperty\n",
    "        self.prior = distribution # type of distribution\n",
    "        self.values = []\n",
    "        self.proposedValues = []\n",
    "        \n",
    "    def generateProposal(self):\n",
    "        return self.prior.rvs()\n",
    "    \n",
    "    def calculateProbability(self,value):\n",
    "        return self.prior.pdf(value)\n",
    "        \n",
    "    def setValue(self,waterNetworkHelper,newValue):\n",
    "        if self.elementProperty == \"diameter\":\n",
    "            waterNetworkHelper.setPipeDiameter(self.elementName,newValue)\n",
    "        elif self.elementProperty == \"roughness\":\n",
    "            waterNetworkHelper.setPipeRoughness(self.elementName,newValue)\n",
    "        elif self.elementProperty == \"status\":\n",
    "            waterNetworkHelper.setPipeStatus(self.elementName,newValue)\n",
    "            \n",
    "    def plot(self,trueValue):\n",
    "        columnName = f\"{self.elementName} {self.elementProperty}\"\n",
    "        calibratorDFToPlot = pd.DataFrame({columnName:self.values})\n",
    "        fig,ax = plt.subplots(figsize=(10,10))\n",
    "        calibratorDFToPlot.plot(kind=\"hist\",ax=ax,legend=False,density=True)\n",
    "        ax.axvline(trueValue,color=\"red\",ls=\"--\")\n",
    "        ax.set_title(f'{columnName}\\nCalibrated Mean: {calibratorDFToPlot[columnName].mean():.1f}, Calibrated Median: {calibratorDFToPlot[columnName].median():.1f}\\nTrue Value: {trueValue:.1f}\\nPrior Mean: {self.prior.mean():.1f}')\n",
    "        ax.set_xlabel(calibrator1.elementProperty)\n",
    "        \n",
    "        # add the prior distribution\n",
    "        priorEstimates = []\n",
    "        for i in range(0,10000):\n",
    "            priorEstimates.append(self.generateProposal())\n",
    "        priorEstimatesDF = pd.DataFrame({\"Prior\":priorEstimates})\n",
    "        priorEstimatesDF.plot(kind=\"hist\",ax=ax,color=\"orange\",alpha=0.2,label=\"Prior\",density=True)\n",
    "        return ax"
   ]
  },
  {
   "cell_type": "markdown",
   "metadata": {},
   "source": [
    "# Set up Base (True Model)"
   ]
  },
  {
   "cell_type": "code",
   "execution_count": 7,
   "metadata": {},
   "outputs": [
    {
     "data": {
      "text/plain": [
       "(<matplotlib.collections.PathCollection at 0x278fd704d08>,\n",
       " <matplotlib.collections.LineCollection at 0x278fd70e448>)"
      ]
     },
     "execution_count": 7,
     "metadata": {},
     "output_type": "execute_result"
    },
    {
     "data": {
      "image/png": "[encoded data removed]",
      "text/plain": [
       "<Figure size 432x288 with 1 Axes>"
      ]
     },
     "metadata": {},
     "output_type": "display_data"
    },
    {
     "data": {
      "image/png": "[encoded data removed]",
      "text/plain": [
       "<Figure size 432x288 with 2 Axes>"
      ]
     },
     "metadata": {},
     "output_type": "display_data"
    }
   ],
   "source": [
    "# Create a water network model\n",
    "inp_file = 'networks/Net3.inp'\n",
    "wn_true = wntr.network.WaterNetworkModel(inp_file)\n",
    "\n",
    "# Graph the network\n",
    "wntr.graphics.plot_network(wn_true, title=\"True Network\")\n",
    "\n",
    "# Simulate hydraulics\n",
    "sim_true = wntr.sim.EpanetSimulator(wn_true)\n",
    "results_true = sim_true.run_sim()\n",
    "\n",
    "# Plot results on the network\n",
    "pressure_at_5hr = results_true.node['pressure'].loc[5*3600, :]\n",
    "wntr.graphics.plot_network(wn_true, node_attribute=pressure_at_5hr, node_size=30, \n",
    "                        title='Pressure at 5 hours')"
   ]
  },
  {
   "cell_type": "markdown",
   "metadata": {},
   "source": [
    "# Set up Altered Model"
   ]
  },
  {
   "cell_type": "code",
   "execution_count": 160,
   "metadata": {},
   "outputs": [],
   "source": [
    "testNetwork = WaterNetworkHelper(wn_true)"
   ]
  },
  {
   "cell_type": "code",
   "execution_count": 161,
   "metadata": {},
   "outputs": [
    {
     "data": {
      "image/png": "[encoded data removed]",
      "text/plain": [
       "<Figure size 720x720 with 3 Axes>"
      ]
     },
     "metadata": {
      "needs_background": "light"
     },
     "output_type": "display_data"
    }
   ],
   "source": [
    "testNetwork.plotNetwork(link_attribute=\"roughness\",node_attribute=\"demand\")"
   ]
  },
  {
   "cell_type": "code",
   "execution_count": 162,
   "metadata": {},
   "outputs": [],
   "source": [
    "testSensor = Sensor(\"demand\",\"15\",0.01,{0.0:.04,0.25:0.038})"
   ]
  },
  {
   "cell_type": "code",
   "execution_count": 163,
   "metadata": {},
   "outputs": [],
   "source": [
    "testNetwork.setPipeDiameter(\"20\",4)"
   ]
  },
  {
   "cell_type": "code",
   "execution_count": 164,
   "metadata": {},
   "outputs": [
    {
     "data": {
      "text/html": [
       "<div>\n",
       "<style scoped>\n",
       "    .dataframe tbody tr th:only-of-type {\n",
       "        vertical-align: middle;\n",
       "    }\n",
       "\n",
       "    .dataframe tbody tr th {\n",
       "        vertical-align: top;\n",
       "    }\n",
       "\n",
       "    .dataframe thead th {\n",
       "        text-align: right;\n",
       "    }\n",
       "</style>\n",
       "<table border=\"1\" class=\"dataframe\">\n",
       "  <thead>\n",
       "    <tr style=\"text-align: right;\">\n",
       "      <th></th>\n",
       "      <th>bulk_rxn_coeff</th>\n",
       "      <th>cv</th>\n",
       "      <th>diameter</th>\n",
       "      <th>end_node</th>\n",
       "      <th>end_node_name</th>\n",
       "      <th>flow</th>\n",
       "      <th>initial_setting</th>\n",
       "      <th>initial_status</th>\n",
       "      <th>length</th>\n",
       "      <th>link_type</th>\n",
       "      <th>minor_loss</th>\n",
       "      <th>roughness</th>\n",
       "      <th>setting</th>\n",
       "      <th>start_node</th>\n",
       "      <th>start_node_name</th>\n",
       "      <th>status</th>\n",
       "      <th>tag</th>\n",
       "      <th>vertices</th>\n",
       "      <th>wall_rxn_coeff</th>\n",
       "    </tr>\n",
       "    <tr>\n",
       "      <th>name</th>\n",
       "      <th></th>\n",
       "      <th></th>\n",
       "      <th></th>\n",
       "      <th></th>\n",
       "      <th></th>\n",
       "      <th></th>\n",
       "      <th></th>\n",
       "      <th></th>\n",
       "      <th></th>\n",
       "      <th></th>\n",
       "      <th></th>\n",
       "      <th></th>\n",
       "      <th></th>\n",
       "      <th></th>\n",
       "      <th></th>\n",
       "      <th></th>\n",
       "      <th></th>\n",
       "      <th></th>\n",
       "      <th></th>\n",
       "    </tr>\n",
       "  </thead>\n",
       "  <tbody>\n",
       "    <tr>\n",
       "      <th>20</th>\n",
       "      <td>None</td>\n",
       "      <td>False</td>\n",
       "      <td>4.0000</td>\n",
       "      <td>20</td>\n",
       "      <td>20</td>\n",
       "      <td>None</td>\n",
       "      <td>None</td>\n",
       "      <td>1</td>\n",
       "      <td>30.1752</td>\n",
       "      <td>Pipe</td>\n",
       "      <td>0.0</td>\n",
       "      <td>209.743764</td>\n",
       "      <td>None</td>\n",
       "      <td>3</td>\n",
       "      <td>3</td>\n",
       "      <td>1</td>\n",
       "      <td>None</td>\n",
       "      <td>[]</td>\n",
       "      <td>None</td>\n",
       "    </tr>\n",
       "    <tr>\n",
       "      <th>40</th>\n",
       "      <td>None</td>\n",
       "      <td>False</td>\n",
       "      <td>2.5146</td>\n",
       "      <td>40</td>\n",
       "      <td>40</td>\n",
       "      <td>None</td>\n",
       "      <td>None</td>\n",
       "      <td>1</td>\n",
       "      <td>30.1752</td>\n",
       "      <td>Pipe</td>\n",
       "      <td>0.0</td>\n",
       "      <td>206.275886</td>\n",
       "      <td>None</td>\n",
       "      <td>1</td>\n",
       "      <td>1</td>\n",
       "      <td>1</td>\n",
       "      <td>None</td>\n",
       "      <td>[]</td>\n",
       "      <td>None</td>\n",
       "    </tr>\n",
       "    <tr>\n",
       "      <th>50</th>\n",
       "      <td>None</td>\n",
       "      <td>False</td>\n",
       "      <td>2.5146</td>\n",
       "      <td>50</td>\n",
       "      <td>50</td>\n",
       "      <td>None</td>\n",
       "      <td>None</td>\n",
       "      <td>1</td>\n",
       "      <td>30.1752</td>\n",
       "      <td>Pipe</td>\n",
       "      <td>0.0</td>\n",
       "      <td>199.000000</td>\n",
       "      <td>None</td>\n",
       "      <td>2</td>\n",
       "      <td>2</td>\n",
       "      <td>1</td>\n",
       "      <td>None</td>\n",
       "      <td>[]</td>\n",
       "      <td>None</td>\n",
       "    </tr>\n",
       "    <tr>\n",
       "      <th>60</th>\n",
       "      <td>None</td>\n",
       "      <td>False</td>\n",
       "      <td>0.6096</td>\n",
       "      <td>60</td>\n",
       "      <td>60</td>\n",
       "      <td>None</td>\n",
       "      <td>None</td>\n",
       "      <td>1</td>\n",
       "      <td>375.2088</td>\n",
       "      <td>Pipe</td>\n",
       "      <td>0.0</td>\n",
       "      <td>140.000000</td>\n",
       "      <td>None</td>\n",
       "      <td>River</td>\n",
       "      <td>River</td>\n",
       "      <td>1</td>\n",
       "      <td>None</td>\n",
       "      <td>[]</td>\n",
       "      <td>None</td>\n",
       "    </tr>\n",
       "    <tr>\n",
       "      <th>101</th>\n",
       "      <td>None</td>\n",
       "      <td>False</td>\n",
       "      <td>0.4572</td>\n",
       "      <td>101</td>\n",
       "      <td>101</td>\n",
       "      <td>None</td>\n",
       "      <td>None</td>\n",
       "      <td>1</td>\n",
       "      <td>4328.1600</td>\n",
       "      <td>Pipe</td>\n",
       "      <td>0.0</td>\n",
       "      <td>130.480914</td>\n",
       "      <td>None</td>\n",
       "      <td>10</td>\n",
       "      <td>10</td>\n",
       "      <td>1</td>\n",
       "      <td>None</td>\n",
       "      <td>[]</td>\n",
       "      <td>None</td>\n",
       "    </tr>\n",
       "    <tr>\n",
       "      <th>...</th>\n",
       "      <td>...</td>\n",
       "      <td>...</td>\n",
       "      <td>...</td>\n",
       "      <td>...</td>\n",
       "      <td>...</td>\n",
       "      <td>...</td>\n",
       "      <td>...</td>\n",
       "      <td>...</td>\n",
       "      <td>...</td>\n",
       "      <td>...</td>\n",
       "      <td>...</td>\n",
       "      <td>...</td>\n",
       "      <td>...</td>\n",
       "      <td>...</td>\n",
       "      <td>...</td>\n",
       "      <td>...</td>\n",
       "      <td>...</td>\n",
       "      <td>...</td>\n",
       "      <td>...</td>\n",
       "    </tr>\n",
       "    <tr>\n",
       "      <th>323</th>\n",
       "      <td>None</td>\n",
       "      <td>False</td>\n",
       "      <td>0.3048</td>\n",
       "      <td>275</td>\n",
       "      <td>275</td>\n",
       "      <td>None</td>\n",
       "      <td>None</td>\n",
       "      <td>1</td>\n",
       "      <td>91.4400</td>\n",
       "      <td>Pipe</td>\n",
       "      <td>0.0</td>\n",
       "      <td>130.000000</td>\n",
       "      <td>None</td>\n",
       "      <td>201</td>\n",
       "      <td>201</td>\n",
       "      <td>1</td>\n",
       "      <td>None</td>\n",
       "      <td>[]</td>\n",
       "      <td>None</td>\n",
       "    </tr>\n",
       "    <tr>\n",
       "      <th>325</th>\n",
       "      <td>None</td>\n",
       "      <td>False</td>\n",
       "      <td>0.2032</td>\n",
       "      <td>271</td>\n",
       "      <td>271</td>\n",
       "      <td>None</td>\n",
       "      <td>None</td>\n",
       "      <td>1</td>\n",
       "      <td>393.1920</td>\n",
       "      <td>Pipe</td>\n",
       "      <td>0.0</td>\n",
       "      <td>130.000000</td>\n",
       "      <td>None</td>\n",
       "      <td>269</td>\n",
       "      <td>269</td>\n",
       "      <td>1</td>\n",
       "      <td>None</td>\n",
       "      <td>[]</td>\n",
       "      <td>None</td>\n",
       "    </tr>\n",
       "    <tr>\n",
       "      <th>329</th>\n",
       "      <td>None</td>\n",
       "      <td>False</td>\n",
       "      <td>0.7620</td>\n",
       "      <td>123</td>\n",
       "      <td>123</td>\n",
       "      <td>None</td>\n",
       "      <td>None</td>\n",
       "      <td>1</td>\n",
       "      <td>13868.4000</td>\n",
       "      <td>Pipe</td>\n",
       "      <td>0.0</td>\n",
       "      <td>140.000000</td>\n",
       "      <td>None</td>\n",
       "      <td>61</td>\n",
       "      <td>61</td>\n",
       "      <td>1</td>\n",
       "      <td>None</td>\n",
       "      <td>[]</td>\n",
       "      <td>None</td>\n",
       "    </tr>\n",
       "    <tr>\n",
       "      <th>330</th>\n",
       "      <td>None</td>\n",
       "      <td>False</td>\n",
       "      <td>0.7620</td>\n",
       "      <td>601</td>\n",
       "      <td>601</td>\n",
       "      <td>None</td>\n",
       "      <td>None</td>\n",
       "      <td>0</td>\n",
       "      <td>0.3048</td>\n",
       "      <td>Pipe</td>\n",
       "      <td>0.0</td>\n",
       "      <td>146.258088</td>\n",
       "      <td>None</td>\n",
       "      <td>60</td>\n",
       "      <td>60</td>\n",
       "      <td>0</td>\n",
       "      <td>None</td>\n",
       "      <td>[]</td>\n",
       "      <td>None</td>\n",
       "    </tr>\n",
       "    <tr>\n",
       "      <th>333</th>\n",
       "      <td>None</td>\n",
       "      <td>False</td>\n",
       "      <td>0.7620</td>\n",
       "      <td>61</td>\n",
       "      <td>61</td>\n",
       "      <td>None</td>\n",
       "      <td>None</td>\n",
       "      <td>1</td>\n",
       "      <td>0.3048</td>\n",
       "      <td>Pipe</td>\n",
       "      <td>0.0</td>\n",
       "      <td>115.112047</td>\n",
       "      <td>None</td>\n",
       "      <td>601</td>\n",
       "      <td>601</td>\n",
       "      <td>1</td>\n",
       "      <td>None</td>\n",
       "      <td>[]</td>\n",
       "      <td>None</td>\n",
       "    </tr>\n",
       "  </tbody>\n",
       "</table>\n",
       "<p>117 rows × 19 columns</p>\n",
       "</div>"
      ],
      "text/plain": [
       "     bulk_rxn_coeff     cv  diameter end_node end_node_name  flow  \\\n",
       "name                                                                \n",
       "20             None  False    4.0000       20            20  None   \n",
       "40             None  False    2.5146       40            40  None   \n",
       "50             None  False    2.5146       50            50  None   \n",
       "60             None  False    0.6096       60            60  None   \n",
       "101            None  False    0.4572      101           101  None   \n",
       "...             ...    ...       ...      ...           ...   ...   \n",
       "323            None  False    0.3048      275           275  None   \n",
       "325            None  False    0.2032      271           271  None   \n",
       "329            None  False    0.7620      123           123  None   \n",
       "330            None  False    0.7620      601           601  None   \n",
       "333            None  False    0.7620       61            61  None   \n",
       "\n",
       "     initial_setting  initial_status      length link_type  minor_loss  \\\n",
       "name                                                                     \n",
       "20              None               1     30.1752      Pipe         0.0   \n",
       "40              None               1     30.1752      Pipe         0.0   \n",
       "50              None               1     30.1752      Pipe         0.0   \n",
       "60              None               1    375.2088      Pipe         0.0   \n",
       "101             None               1   4328.1600      Pipe         0.0   \n",
       "...              ...             ...         ...       ...         ...   \n",
       "323             None               1     91.4400      Pipe         0.0   \n",
       "325             None               1    393.1920      Pipe         0.0   \n",
       "329             None               1  13868.4000      Pipe         0.0   \n",
       "330             None               0      0.3048      Pipe         0.0   \n",
       "333             None               1      0.3048      Pipe         0.0   \n",
       "\n",
       "       roughness setting start_node start_node_name  status   tag vertices  \\\n",
       "name                                                                         \n",
       "20    209.743764    None          3               3       1  None       []   \n",
       "40    206.275886    None          1               1       1  None       []   \n",
       "50    199.000000    None          2               2       1  None       []   \n",
       "60    140.000000    None      River           River       1  None       []   \n",
       "101   130.480914    None         10              10       1  None       []   \n",
       "...          ...     ...        ...             ...     ...   ...      ...   \n",
       "323   130.000000    None        201             201       1  None       []   \n",
       "325   130.000000    None        269             269       1  None       []   \n",
       "329   140.000000    None         61              61       1  None       []   \n",
       "330   146.258088    None         60              60       0  None       []   \n",
       "333   115.112047    None        601             601       1  None       []   \n",
       "\n",
       "     wall_rxn_coeff  \n",
       "name                 \n",
       "20             None  \n",
       "40             None  \n",
       "50             None  \n",
       "60             None  \n",
       "101            None  \n",
       "...             ...  \n",
       "323            None  \n",
       "325            None  \n",
       "329            None  \n",
       "330            None  \n",
       "333            None  \n",
       "\n",
       "[117 rows x 19 columns]"
      ]
     },
     "execution_count": 164,
     "metadata": {},
     "output_type": "execute_result"
    }
   ],
   "source": [
    "testNetwork.pipes"
   ]
  },
  {
   "cell_type": "code",
   "execution_count": 165,
   "metadata": {},
   "outputs": [],
   "source": [
    "testResult = testNetwork.runSimulation()"
   ]
  },
  {
   "cell_type": "code",
   "execution_count": 166,
   "metadata": {},
   "outputs": [
    {
     "data": {
      "text/html": [
       "<div>\n",
       "<style scoped>\n",
       "    .dataframe tbody tr th:only-of-type {\n",
       "        vertical-align: middle;\n",
       "    }\n",
       "\n",
       "    .dataframe tbody tr th {\n",
       "        vertical-align: top;\n",
       "    }\n",
       "\n",
       "    .dataframe thead th {\n",
       "        text-align: right;\n",
       "    }\n",
       "</style>\n",
       "<table border=\"1\" class=\"dataframe\">\n",
       "  <thead>\n",
       "    <tr style=\"text-align: right;\">\n",
       "      <th></th>\n",
       "      <th>0.00</th>\n",
       "      <th>0.25</th>\n",
       "      <th>0.50</th>\n",
       "      <th>0.75</th>\n",
       "      <th>1.00</th>\n",
       "      <th>1.25</th>\n",
       "      <th>1.50</th>\n",
       "      <th>1.75</th>\n",
       "      <th>2.00</th>\n",
       "      <th>2.25</th>\n",
       "      <th>...</th>\n",
       "      <th>165.75</th>\n",
       "      <th>166.00</th>\n",
       "      <th>166.25</th>\n",
       "      <th>166.50</th>\n",
       "      <th>166.75</th>\n",
       "      <th>167.00</th>\n",
       "      <th>167.25</th>\n",
       "      <th>167.50</th>\n",
       "      <th>167.75</th>\n",
       "      <th>168.00</th>\n",
       "    </tr>\n",
       "    <tr>\n",
       "      <th>name</th>\n",
       "      <th></th>\n",
       "      <th></th>\n",
       "      <th></th>\n",
       "      <th></th>\n",
       "      <th></th>\n",
       "      <th></th>\n",
       "      <th></th>\n",
       "      <th></th>\n",
       "      <th></th>\n",
       "      <th></th>\n",
       "      <th></th>\n",
       "      <th></th>\n",
       "      <th></th>\n",
       "      <th></th>\n",
       "      <th></th>\n",
       "      <th></th>\n",
       "      <th></th>\n",
       "      <th></th>\n",
       "      <th></th>\n",
       "      <th></th>\n",
       "      <th></th>\n",
       "    </tr>\n",
       "  </thead>\n",
       "  <tbody>\n",
       "    <tr>\n",
       "      <th>20</th>\n",
       "      <td>-1.583641e-01</td>\n",
       "      <td>-1.562691e-01</td>\n",
       "      <td>-1.542116e-01</td>\n",
       "      <td>-1.521942e-01</td>\n",
       "      <td>-2.048723e-01</td>\n",
       "      <td>-2.038110e-01</td>\n",
       "      <td>-2.027687e-01</td>\n",
       "      <td>-2.017424e-01</td>\n",
       "      <td>-2.373299e-01</td>\n",
       "      <td>-2.367897e-01</td>\n",
       "      <td>...</td>\n",
       "      <td>-1.431689e-01</td>\n",
       "      <td>-1.094255e-01</td>\n",
       "      <td>-1.061551e-01</td>\n",
       "      <td>-1.029969e-01</td>\n",
       "      <td>-9.994936e-02</td>\n",
       "      <td>-6.154685e-02</td>\n",
       "      <td>-5.803375e-02</td>\n",
       "      <td>-5.463373e-02</td>\n",
       "      <td>-5.134512e-02</td>\n",
       "      <td>-1.411022e-01</td>\n",
       "    </tr>\n",
       "    <tr>\n",
       "      <th>40</th>\n",
       "      <td>-1.252307e-02</td>\n",
       "      <td>-1.240622e-02</td>\n",
       "      <td>-1.234497e-02</td>\n",
       "      <td>-1.233935e-02</td>\n",
       "      <td>-6.411626e-02</td>\n",
       "      <td>-6.255689e-02</td>\n",
       "      <td>-6.108671e-02</td>\n",
       "      <td>-5.970041e-02</td>\n",
       "      <td>-8.366261e-02</td>\n",
       "      <td>-8.240740e-02</td>\n",
       "      <td>...</td>\n",
       "      <td>-1.092457e-02</td>\n",
       "      <td>2.892208e-02</td>\n",
       "      <td>2.671977e-02</td>\n",
       "      <td>2.458411e-02</td>\n",
       "      <td>2.251767e-02</td>\n",
       "      <td>5.262487e-02</td>\n",
       "      <td>5.033952e-02</td>\n",
       "      <td>4.811289e-02</td>\n",
       "      <td>4.594649e-02</td>\n",
       "      <td>-1.054654e-02</td>\n",
       "    </tr>\n",
       "    <tr>\n",
       "      <th>50</th>\n",
       "      <td>2.415593e-02</td>\n",
       "      <td>2.227722e-02</td>\n",
       "      <td>2.048946e-02</td>\n",
       "      <td>1.879573e-02</td>\n",
       "      <td>2.231627e-02</td>\n",
       "      <td>2.048674e-02</td>\n",
       "      <td>1.876445e-02</td>\n",
       "      <td>1.714081e-02</td>\n",
       "      <td>-3.977043e-03</td>\n",
       "      <td>-4.740844e-03</td>\n",
       "      <td>...</td>\n",
       "      <td>6.996980e-03</td>\n",
       "      <td>1.752110e-02</td>\n",
       "      <td>1.661020e-02</td>\n",
       "      <td>1.574490e-02</td>\n",
       "      <td>1.492091e-02</td>\n",
       "      <td>2.933474e-02</td>\n",
       "      <td>2.816296e-02</td>\n",
       "      <td>2.704374e-02</td>\n",
       "      <td>2.597375e-02</td>\n",
       "      <td>1.128703e-02</td>\n",
       "    </tr>\n",
       "    <tr>\n",
       "      <th>60</th>\n",
       "      <td>8.268730e-01</td>\n",
       "      <td>8.265399e-01</td>\n",
       "      <td>8.262090e-01</td>\n",
       "      <td>8.258798e-01</td>\n",
       "      <td>8.205878e-01</td>\n",
       "      <td>8.200451e-01</td>\n",
       "      <td>8.195033e-01</td>\n",
       "      <td>8.189627e-01</td>\n",
       "      <td>8.150086e-01</td>\n",
       "      <td>8.143165e-01</td>\n",
       "      <td>...</td>\n",
       "      <td>8.263373e-01</td>\n",
       "      <td>8.276770e-01</td>\n",
       "      <td>8.275197e-01</td>\n",
       "      <td>8.273625e-01</td>\n",
       "      <td>8.272054e-01</td>\n",
       "      <td>8.286138e-01</td>\n",
       "      <td>8.285578e-01</td>\n",
       "      <td>8.285037e-01</td>\n",
       "      <td>8.284514e-01</td>\n",
       "      <td>8.205036e-01</td>\n",
       "    </tr>\n",
       "    <tr>\n",
       "      <th>101</th>\n",
       "      <td>6.316247e-09</td>\n",
       "      <td>6.316247e-09</td>\n",
       "      <td>6.316247e-09</td>\n",
       "      <td>6.316247e-09</td>\n",
       "      <td>2.317674e-01</td>\n",
       "      <td>2.315191e-01</td>\n",
       "      <td>2.312706e-01</td>\n",
       "      <td>2.310222e-01</td>\n",
       "      <td>2.228954e-01</td>\n",
       "      <td>2.225559e-01</td>\n",
       "      <td>...</td>\n",
       "      <td>4.932248e-09</td>\n",
       "      <td>5.356080e-09</td>\n",
       "      <td>5.562655e-09</td>\n",
       "      <td>5.559374e-09</td>\n",
       "      <td>5.562341e-09</td>\n",
       "      <td>6.669099e-09</td>\n",
       "      <td>6.838396e-09</td>\n",
       "      <td>6.838356e-09</td>\n",
       "      <td>6.668767e-09</td>\n",
       "      <td>5.759227e-09</td>\n",
       "    </tr>\n",
       "    <tr>\n",
       "      <th>...</th>\n",
       "      <td>...</td>\n",
       "      <td>...</td>\n",
       "      <td>...</td>\n",
       "      <td>...</td>\n",
       "      <td>...</td>\n",
       "      <td>...</td>\n",
       "      <td>...</td>\n",
       "      <td>...</td>\n",
       "      <td>...</td>\n",
       "      <td>...</td>\n",
       "      <td>...</td>\n",
       "      <td>...</td>\n",
       "      <td>...</td>\n",
       "      <td>...</td>\n",
       "      <td>...</td>\n",
       "      <td>...</td>\n",
       "      <td>...</td>\n",
       "      <td>...</td>\n",
       "      <td>...</td>\n",
       "      <td>...</td>\n",
       "      <td>...</td>\n",
       "    </tr>\n",
       "    <tr>\n",
       "      <th>329</th>\n",
       "      <td>8.268730e-01</td>\n",
       "      <td>8.265399e-01</td>\n",
       "      <td>8.262090e-01</td>\n",
       "      <td>8.258797e-01</td>\n",
       "      <td>8.205878e-01</td>\n",
       "      <td>8.200451e-01</td>\n",
       "      <td>8.195032e-01</td>\n",
       "      <td>8.189626e-01</td>\n",
       "      <td>8.150086e-01</td>\n",
       "      <td>8.143165e-01</td>\n",
       "      <td>...</td>\n",
       "      <td>8.263373e-01</td>\n",
       "      <td>8.276770e-01</td>\n",
       "      <td>8.275197e-01</td>\n",
       "      <td>8.273625e-01</td>\n",
       "      <td>8.272054e-01</td>\n",
       "      <td>8.286138e-01</td>\n",
       "      <td>8.285577e-01</td>\n",
       "      <td>8.285036e-01</td>\n",
       "      <td>8.284513e-01</td>\n",
       "      <td>8.205035e-01</td>\n",
       "    </tr>\n",
       "    <tr>\n",
       "      <th>330</th>\n",
       "      <td>0.000000e+00</td>\n",
       "      <td>0.000000e+00</td>\n",
       "      <td>0.000000e+00</td>\n",
       "      <td>0.000000e+00</td>\n",
       "      <td>0.000000e+00</td>\n",
       "      <td>0.000000e+00</td>\n",
       "      <td>0.000000e+00</td>\n",
       "      <td>0.000000e+00</td>\n",
       "      <td>0.000000e+00</td>\n",
       "      <td>0.000000e+00</td>\n",
       "      <td>...</td>\n",
       "      <td>0.000000e+00</td>\n",
       "      <td>0.000000e+00</td>\n",
       "      <td>0.000000e+00</td>\n",
       "      <td>0.000000e+00</td>\n",
       "      <td>0.000000e+00</td>\n",
       "      <td>0.000000e+00</td>\n",
       "      <td>0.000000e+00</td>\n",
       "      <td>0.000000e+00</td>\n",
       "      <td>0.000000e+00</td>\n",
       "      <td>0.000000e+00</td>\n",
       "    </tr>\n",
       "    <tr>\n",
       "      <th>333</th>\n",
       "      <td>-2.939615e-08</td>\n",
       "      <td>-2.972263e-08</td>\n",
       "      <td>-2.979172e-08</td>\n",
       "      <td>-2.980635e-08</td>\n",
       "      <td>-2.981026e-08</td>\n",
       "      <td>-2.981027e-08</td>\n",
       "      <td>-2.981027e-08</td>\n",
       "      <td>-2.981027e-08</td>\n",
       "      <td>-2.981027e-08</td>\n",
       "      <td>-2.981027e-08</td>\n",
       "      <td>...</td>\n",
       "      <td>-2.980244e-08</td>\n",
       "      <td>-2.980951e-08</td>\n",
       "      <td>-2.981011e-08</td>\n",
       "      <td>-2.981024e-08</td>\n",
       "      <td>-2.981026e-08</td>\n",
       "      <td>-2.981027e-08</td>\n",
       "      <td>-2.981027e-08</td>\n",
       "      <td>-2.981027e-08</td>\n",
       "      <td>-2.981027e-08</td>\n",
       "      <td>-2.981027e-08</td>\n",
       "    </tr>\n",
       "    <tr>\n",
       "      <th>10</th>\n",
       "      <td>0.000000e+00</td>\n",
       "      <td>0.000000e+00</td>\n",
       "      <td>0.000000e+00</td>\n",
       "      <td>0.000000e+00</td>\n",
       "      <td>2.317674e-01</td>\n",
       "      <td>2.315191e-01</td>\n",
       "      <td>2.312706e-01</td>\n",
       "      <td>2.310222e-01</td>\n",
       "      <td>2.228954e-01</td>\n",
       "      <td>2.225559e-01</td>\n",
       "      <td>...</td>\n",
       "      <td>0.000000e+00</td>\n",
       "      <td>0.000000e+00</td>\n",
       "      <td>0.000000e+00</td>\n",
       "      <td>0.000000e+00</td>\n",
       "      <td>0.000000e+00</td>\n",
       "      <td>0.000000e+00</td>\n",
       "      <td>0.000000e+00</td>\n",
       "      <td>0.000000e+00</td>\n",
       "      <td>0.000000e+00</td>\n",
       "      <td>0.000000e+00</td>\n",
       "    </tr>\n",
       "    <tr>\n",
       "      <th>335</th>\n",
       "      <td>8.268731e-01</td>\n",
       "      <td>8.265400e-01</td>\n",
       "      <td>8.262090e-01</td>\n",
       "      <td>8.258798e-01</td>\n",
       "      <td>8.205878e-01</td>\n",
       "      <td>8.200451e-01</td>\n",
       "      <td>8.195033e-01</td>\n",
       "      <td>8.189627e-01</td>\n",
       "      <td>8.150086e-01</td>\n",
       "      <td>8.143165e-01</td>\n",
       "      <td>...</td>\n",
       "      <td>8.263373e-01</td>\n",
       "      <td>8.276770e-01</td>\n",
       "      <td>8.275198e-01</td>\n",
       "      <td>8.273625e-01</td>\n",
       "      <td>8.272054e-01</td>\n",
       "      <td>8.286138e-01</td>\n",
       "      <td>8.285578e-01</td>\n",
       "      <td>8.285037e-01</td>\n",
       "      <td>8.284514e-01</td>\n",
       "      <td>8.205036e-01</td>\n",
       "    </tr>\n",
       "  </tbody>\n",
       "</table>\n",
       "<p>119 rows × 673 columns</p>\n",
       "</div>"
      ],
      "text/plain": [
       "            0.00          0.25          0.50          0.75          1.00    \\\n",
       "name                                                                         \n",
       "20   -1.583641e-01 -1.562691e-01 -1.542116e-01 -1.521942e-01 -2.048723e-01   \n",
       "40   -1.252307e-02 -1.240622e-02 -1.234497e-02 -1.233935e-02 -6.411626e-02   \n",
       "50    2.415593e-02  2.227722e-02  2.048946e-02  1.879573e-02  2.231627e-02   \n",
       "60    8.268730e-01  8.265399e-01  8.262090e-01  8.258798e-01  8.205878e-01   \n",
       "101   6.316247e-09  6.316247e-09  6.316247e-09  6.316247e-09  2.317674e-01   \n",
       "...            ...           ...           ...           ...           ...   \n",
       "329   8.268730e-01  8.265399e-01  8.262090e-01  8.258797e-01  8.205878e-01   \n",
       "330   0.000000e+00  0.000000e+00  0.000000e+00  0.000000e+00  0.000000e+00   \n",
       "333  -2.939615e-08 -2.972263e-08 -2.979172e-08 -2.980635e-08 -2.981026e-08   \n",
       "10    0.000000e+00  0.000000e+00  0.000000e+00  0.000000e+00  2.317674e-01   \n",
       "335   8.268731e-01  8.265400e-01  8.262090e-01  8.258798e-01  8.205878e-01   \n",
       "\n",
       "            1.25          1.50          1.75          2.00          2.25    \\\n",
       "name                                                                         \n",
       "20   -2.038110e-01 -2.027687e-01 -2.017424e-01 -2.373299e-01 -2.367897e-01   \n",
       "40   -6.255689e-02 -6.108671e-02 -5.970041e-02 -8.366261e-02 -8.240740e-02   \n",
       "50    2.048674e-02  1.876445e-02  1.714081e-02 -3.977043e-03 -4.740844e-03   \n",
       "60    8.200451e-01  8.195033e-01  8.189627e-01  8.150086e-01  8.143165e-01   \n",
       "101   2.315191e-01  2.312706e-01  2.310222e-01  2.228954e-01  2.225559e-01   \n",
       "...            ...           ...           ...           ...           ...   \n",
       "329   8.200451e-01  8.195032e-01  8.189626e-01  8.150086e-01  8.143165e-01   \n",
       "330   0.000000e+00  0.000000e+00  0.000000e+00  0.000000e+00  0.000000e+00   \n",
       "333  -2.981027e-08 -2.981027e-08 -2.981027e-08 -2.981027e-08 -2.981027e-08   \n",
       "10    2.315191e-01  2.312706e-01  2.310222e-01  2.228954e-01  2.225559e-01   \n",
       "335   8.200451e-01  8.195033e-01  8.189627e-01  8.150086e-01  8.143165e-01   \n",
       "\n",
       "      ...        165.75        166.00        166.25        166.50  \\\n",
       "name  ...                                                           \n",
       "20    ... -1.431689e-01 -1.094255e-01 -1.061551e-01 -1.029969e-01   \n",
       "40    ... -1.092457e-02  2.892208e-02  2.671977e-02  2.458411e-02   \n",
       "50    ...  6.996980e-03  1.752110e-02  1.661020e-02  1.574490e-02   \n",
       "60    ...  8.263373e-01  8.276770e-01  8.275197e-01  8.273625e-01   \n",
       "101   ...  4.932248e-09  5.356080e-09  5.562655e-09  5.559374e-09   \n",
       "...   ...           ...           ...           ...           ...   \n",
       "329   ...  8.263373e-01  8.276770e-01  8.275197e-01  8.273625e-01   \n",
       "330   ...  0.000000e+00  0.000000e+00  0.000000e+00  0.000000e+00   \n",
       "333   ... -2.980244e-08 -2.980951e-08 -2.981011e-08 -2.981024e-08   \n",
       "10    ...  0.000000e+00  0.000000e+00  0.000000e+00  0.000000e+00   \n",
       "335   ...  8.263373e-01  8.276770e-01  8.275198e-01  8.273625e-01   \n",
       "\n",
       "            166.75        167.00        167.25        167.50        167.75  \\\n",
       "name                                                                         \n",
       "20   -9.994936e-02 -6.154685e-02 -5.803375e-02 -5.463373e-02 -5.134512e-02   \n",
       "40    2.251767e-02  5.262487e-02  5.033952e-02  4.811289e-02  4.594649e-02   \n",
       "50    1.492091e-02  2.933474e-02  2.816296e-02  2.704374e-02  2.597375e-02   \n",
       "60    8.272054e-01  8.286138e-01  8.285578e-01  8.285037e-01  8.284514e-01   \n",
       "101   5.562341e-09  6.669099e-09  6.838396e-09  6.838356e-09  6.668767e-09   \n",
       "...            ...           ...           ...           ...           ...   \n",
       "329   8.272054e-01  8.286138e-01  8.285577e-01  8.285036e-01  8.284513e-01   \n",
       "330   0.000000e+00  0.000000e+00  0.000000e+00  0.000000e+00  0.000000e+00   \n",
       "333  -2.981026e-08 -2.981027e-08 -2.981027e-08 -2.981027e-08 -2.981027e-08   \n",
       "10    0.000000e+00  0.000000e+00  0.000000e+00  0.000000e+00  0.000000e+00   \n",
       "335   8.272054e-01  8.286138e-01  8.285578e-01  8.285037e-01  8.284514e-01   \n",
       "\n",
       "            168.00  \n",
       "name                \n",
       "20   -1.411022e-01  \n",
       "40   -1.054654e-02  \n",
       "50    1.128703e-02  \n",
       "60    8.205036e-01  \n",
       "101   5.759227e-09  \n",
       "...            ...  \n",
       "329   8.205035e-01  \n",
       "330   0.000000e+00  \n",
       "333  -2.981027e-08  \n",
       "10    0.000000e+00  \n",
       "335   8.205036e-01  \n",
       "\n",
       "[119 rows x 673 columns]"
      ]
     },
     "execution_count": 166,
     "metadata": {},
     "output_type": "execute_result"
    }
   ],
   "source": [
    "testResult.flowrate"
   ]
  },
  {
   "cell_type": "code",
   "execution_count": 167,
   "metadata": {},
   "outputs": [
    {
     "data": {
      "text/html": [
       "<div>\n",
       "<style scoped>\n",
       "    .dataframe tbody tr th:only-of-type {\n",
       "        vertical-align: middle;\n",
       "    }\n",
       "\n",
       "    .dataframe tbody tr th {\n",
       "        vertical-align: top;\n",
       "    }\n",
       "\n",
       "    .dataframe thead th {\n",
       "        text-align: right;\n",
       "    }\n",
       "</style>\n",
       "<table border=\"1\" class=\"dataframe\">\n",
       "  <thead>\n",
       "    <tr style=\"text-align: right;\">\n",
       "      <th></th>\n",
       "      <th>0.00</th>\n",
       "      <th>0.25</th>\n",
       "      <th>0.50</th>\n",
       "      <th>0.75</th>\n",
       "      <th>1.00</th>\n",
       "      <th>1.25</th>\n",
       "      <th>1.50</th>\n",
       "      <th>1.75</th>\n",
       "      <th>2.00</th>\n",
       "      <th>2.25</th>\n",
       "      <th>...</th>\n",
       "      <th>165.75</th>\n",
       "      <th>166.00</th>\n",
       "      <th>166.25</th>\n",
       "      <th>166.50</th>\n",
       "      <th>166.75</th>\n",
       "      <th>167.00</th>\n",
       "      <th>167.25</th>\n",
       "      <th>167.50</th>\n",
       "      <th>167.75</th>\n",
       "      <th>168.00</th>\n",
       "    </tr>\n",
       "    <tr>\n",
       "      <th>name</th>\n",
       "      <th></th>\n",
       "      <th></th>\n",
       "      <th></th>\n",
       "      <th></th>\n",
       "      <th></th>\n",
       "      <th></th>\n",
       "      <th></th>\n",
       "      <th></th>\n",
       "      <th></th>\n",
       "      <th></th>\n",
       "      <th></th>\n",
       "      <th></th>\n",
       "      <th></th>\n",
       "      <th></th>\n",
       "      <th></th>\n",
       "      <th></th>\n",
       "      <th></th>\n",
       "      <th></th>\n",
       "      <th></th>\n",
       "      <th></th>\n",
       "      <th></th>\n",
       "    </tr>\n",
       "  </thead>\n",
       "  <tbody>\n",
       "    <tr>\n",
       "      <th>10</th>\n",
       "      <td>-0.916195</td>\n",
       "      <td>-0.890671</td>\n",
       "      <td>-0.865036</td>\n",
       "      <td>-0.839209</td>\n",
       "      <td>27.048702</td>\n",
       "      <td>27.069105</td>\n",
       "      <td>27.089499</td>\n",
       "      <td>27.109873</td>\n",
       "      <td>27.767080</td>\n",
       "      <td>27.794140</td>\n",
       "      <td>...</td>\n",
       "      <td>0.828070</td>\n",
       "      <td>0.160367</td>\n",
       "      <td>0.144880</td>\n",
       "      <td>0.130657</td>\n",
       "      <td>0.117667</td>\n",
       "      <td>-1.142586</td>\n",
       "      <td>-1.177565</td>\n",
       "      <td>-1.211731</td>\n",
       "      <td>-1.245101</td>\n",
       "      <td>-0.129415</td>\n",
       "    </tr>\n",
       "    <tr>\n",
       "      <th>15</th>\n",
       "      <td>27.270945</td>\n",
       "      <td>27.322859</td>\n",
       "      <td>27.374304</td>\n",
       "      <td>27.425335</td>\n",
       "      <td>27.621698</td>\n",
       "      <td>27.704725</td>\n",
       "      <td>27.787508</td>\n",
       "      <td>27.870024</td>\n",
       "      <td>28.746063</td>\n",
       "      <td>28.849775</td>\n",
       "      <td>...</td>\n",
       "      <td>38.808918</td>\n",
       "      <td>34.597050</td>\n",
       "      <td>34.619137</td>\n",
       "      <td>34.640972</td>\n",
       "      <td>34.662575</td>\n",
       "      <td>34.199169</td>\n",
       "      <td>34.202545</td>\n",
       "      <td>34.205502</td>\n",
       "      <td>34.208065</td>\n",
       "      <td>28.233997</td>\n",
       "    </tr>\n",
       "    <tr>\n",
       "      <th>20</th>\n",
       "      <td>8.839199</td>\n",
       "      <td>8.911828</td>\n",
       "      <td>8.983494</td>\n",
       "      <td>9.054214</td>\n",
       "      <td>9.124010</td>\n",
       "      <td>9.217963</td>\n",
       "      <td>9.311431</td>\n",
       "      <td>9.404421</td>\n",
       "      <td>9.496941</td>\n",
       "      <td>9.605781</td>\n",
       "      <td>...</td>\n",
       "      <td>9.598628</td>\n",
       "      <td>9.664284</td>\n",
       "      <td>9.714467</td>\n",
       "      <td>9.763152</td>\n",
       "      <td>9.810387</td>\n",
       "      <td>9.856221</td>\n",
       "      <td>9.884448</td>\n",
       "      <td>9.911059</td>\n",
       "      <td>9.936118</td>\n",
       "      <td>9.959666</td>\n",
       "    </tr>\n",
       "    <tr>\n",
       "      <th>35</th>\n",
       "      <td>40.424046</td>\n",
       "      <td>40.444744</td>\n",
       "      <td>40.465561</td>\n",
       "      <td>40.486588</td>\n",
       "      <td>41.244438</td>\n",
       "      <td>41.319126</td>\n",
       "      <td>41.393822</td>\n",
       "      <td>41.468430</td>\n",
       "      <td>42.161541</td>\n",
       "      <td>42.269123</td>\n",
       "      <td>...</td>\n",
       "      <td>41.674347</td>\n",
       "      <td>41.485638</td>\n",
       "      <td>41.460629</td>\n",
       "      <td>41.437065</td>\n",
       "      <td>41.414928</td>\n",
       "      <td>40.955738</td>\n",
       "      <td>40.908260</td>\n",
       "      <td>40.862022</td>\n",
       "      <td>40.817017</td>\n",
       "      <td>41.181400</td>\n",
       "    </tr>\n",
       "    <tr>\n",
       "      <th>40</th>\n",
       "      <td>3.992880</td>\n",
       "      <td>4.014260</td>\n",
       "      <td>4.035440</td>\n",
       "      <td>4.056513</td>\n",
       "      <td>4.077581</td>\n",
       "      <td>4.187040</td>\n",
       "      <td>4.293838</td>\n",
       "      <td>4.398125</td>\n",
       "      <td>4.500049</td>\n",
       "      <td>4.642878</td>\n",
       "      <td>...</td>\n",
       "      <td>5.254035</td>\n",
       "      <td>5.272686</td>\n",
       "      <td>5.223307</td>\n",
       "      <td>5.177691</td>\n",
       "      <td>5.135722</td>\n",
       "      <td>5.097277</td>\n",
       "      <td>5.007437</td>\n",
       "      <td>4.921497</td>\n",
       "      <td>4.839358</td>\n",
       "      <td>4.760921</td>\n",
       "    </tr>\n",
       "    <tr>\n",
       "      <th>...</th>\n",
       "      <td>...</td>\n",
       "      <td>...</td>\n",
       "      <td>...</td>\n",
       "      <td>...</td>\n",
       "      <td>...</td>\n",
       "      <td>...</td>\n",
       "      <td>...</td>\n",
       "      <td>...</td>\n",
       "      <td>...</td>\n",
       "      <td>...</td>\n",
       "      <td>...</td>\n",
       "      <td>...</td>\n",
       "      <td>...</td>\n",
       "      <td>...</td>\n",
       "      <td>...</td>\n",
       "      <td>...</td>\n",
       "      <td>...</td>\n",
       "      <td>...</td>\n",
       "      <td>...</td>\n",
       "      <td>...</td>\n",
       "      <td>...</td>\n",
       "    </tr>\n",
       "    <tr>\n",
       "      <th>River</th>\n",
       "      <td>0.000000</td>\n",
       "      <td>0.000000</td>\n",
       "      <td>0.000000</td>\n",
       "      <td>0.000000</td>\n",
       "      <td>0.000000</td>\n",
       "      <td>0.000000</td>\n",
       "      <td>0.000000</td>\n",
       "      <td>0.000000</td>\n",
       "      <td>0.000000</td>\n",
       "      <td>0.000000</td>\n",
       "      <td>...</td>\n",
       "      <td>0.000000</td>\n",
       "      <td>0.000000</td>\n",
       "      <td>0.000000</td>\n",
       "      <td>0.000000</td>\n",
       "      <td>0.000000</td>\n",
       "      <td>0.000000</td>\n",
       "      <td>0.000000</td>\n",
       "      <td>0.000000</td>\n",
       "      <td>0.000000</td>\n",
       "      <td>0.000000</td>\n",
       "    </tr>\n",
       "    <tr>\n",
       "      <th>Lake</th>\n",
       "      <td>0.000000</td>\n",
       "      <td>0.000000</td>\n",
       "      <td>0.000000</td>\n",
       "      <td>0.000000</td>\n",
       "      <td>0.000000</td>\n",
       "      <td>0.000000</td>\n",
       "      <td>0.000000</td>\n",
       "      <td>0.000000</td>\n",
       "      <td>0.000000</td>\n",
       "      <td>0.000000</td>\n",
       "      <td>...</td>\n",
       "      <td>0.000000</td>\n",
       "      <td>0.000000</td>\n",
       "      <td>0.000000</td>\n",
       "      <td>0.000000</td>\n",
       "      <td>0.000000</td>\n",
       "      <td>0.000000</td>\n",
       "      <td>0.000000</td>\n",
       "      <td>0.000000</td>\n",
       "      <td>0.000000</td>\n",
       "      <td>0.000000</td>\n",
       "    </tr>\n",
       "    <tr>\n",
       "      <th>1</th>\n",
       "      <td>3.992880</td>\n",
       "      <td>4.014260</td>\n",
       "      <td>4.035440</td>\n",
       "      <td>4.056513</td>\n",
       "      <td>4.077581</td>\n",
       "      <td>4.187040</td>\n",
       "      <td>4.293838</td>\n",
       "      <td>4.398125</td>\n",
       "      <td>4.500044</td>\n",
       "      <td>4.642873</td>\n",
       "      <td>...</td>\n",
       "      <td>5.254035</td>\n",
       "      <td>5.272686</td>\n",
       "      <td>5.223307</td>\n",
       "      <td>5.177691</td>\n",
       "      <td>5.135722</td>\n",
       "      <td>5.097282</td>\n",
       "      <td>5.007437</td>\n",
       "      <td>4.921497</td>\n",
       "      <td>4.839358</td>\n",
       "      <td>4.760921</td>\n",
       "    </tr>\n",
       "    <tr>\n",
       "      <th>2</th>\n",
       "      <td>7.162800</td>\n",
       "      <td>7.043621</td>\n",
       "      <td>6.933707</td>\n",
       "      <td>6.832615</td>\n",
       "      <td>6.739881</td>\n",
       "      <td>6.629776</td>\n",
       "      <td>6.528699</td>\n",
       "      <td>6.436118</td>\n",
       "      <td>6.351552</td>\n",
       "      <td>6.371174</td>\n",
       "      <td>...</td>\n",
       "      <td>7.875347</td>\n",
       "      <td>7.840828</td>\n",
       "      <td>7.754382</td>\n",
       "      <td>7.672429</td>\n",
       "      <td>7.594745</td>\n",
       "      <td>7.521132</td>\n",
       "      <td>7.376396</td>\n",
       "      <td>7.237446</td>\n",
       "      <td>7.104017</td>\n",
       "      <td>6.975867</td>\n",
       "    </tr>\n",
       "    <tr>\n",
       "      <th>3</th>\n",
       "      <td>8.839199</td>\n",
       "      <td>8.911828</td>\n",
       "      <td>8.983489</td>\n",
       "      <td>9.054214</td>\n",
       "      <td>9.124010</td>\n",
       "      <td>9.217963</td>\n",
       "      <td>9.311431</td>\n",
       "      <td>9.404421</td>\n",
       "      <td>9.496941</td>\n",
       "      <td>9.605781</td>\n",
       "      <td>...</td>\n",
       "      <td>9.598628</td>\n",
       "      <td>9.664284</td>\n",
       "      <td>9.714467</td>\n",
       "      <td>9.763152</td>\n",
       "      <td>9.810387</td>\n",
       "      <td>9.856221</td>\n",
       "      <td>9.884448</td>\n",
       "      <td>9.911059</td>\n",
       "      <td>9.936118</td>\n",
       "      <td>9.959661</td>\n",
       "    </tr>\n",
       "  </tbody>\n",
       "</table>\n",
       "<p>97 rows × 673 columns</p>\n",
       "</div>"
      ],
      "text/plain": [
       "          0.00       0.25       0.50       0.75       1.00       1.25    \\\n",
       "name                                                                      \n",
       "10     -0.916195  -0.890671  -0.865036  -0.839209  27.048702  27.069105   \n",
       "15     27.270945  27.322859  27.374304  27.425335  27.621698  27.704725   \n",
       "20      8.839199   8.911828   8.983494   9.054214   9.124010   9.217963   \n",
       "35     40.424046  40.444744  40.465561  40.486588  41.244438  41.319126   \n",
       "40      3.992880   4.014260   4.035440   4.056513   4.077581   4.187040   \n",
       "...          ...        ...        ...        ...        ...        ...   \n",
       "River   0.000000   0.000000   0.000000   0.000000   0.000000   0.000000   \n",
       "Lake    0.000000   0.000000   0.000000   0.000000   0.000000   0.000000   \n",
       "1       3.992880   4.014260   4.035440   4.056513   4.077581   4.187040   \n",
       "2       7.162800   7.043621   6.933707   6.832615   6.739881   6.629776   \n",
       "3       8.839199   8.911828   8.983489   9.054214   9.124010   9.217963   \n",
       "\n",
       "          1.50       1.75       2.00       2.25    ...     165.75     166.00  \\\n",
       "name                                               ...                         \n",
       "10     27.089499  27.109873  27.767080  27.794140  ...   0.828070   0.160367   \n",
       "15     27.787508  27.870024  28.746063  28.849775  ...  38.808918  34.597050   \n",
       "20      9.311431   9.404421   9.496941   9.605781  ...   9.598628   9.664284   \n",
       "35     41.393822  41.468430  42.161541  42.269123  ...  41.674347  41.485638   \n",
       "40      4.293838   4.398125   4.500049   4.642878  ...   5.254035   5.272686   \n",
       "...          ...        ...        ...        ...  ...        ...        ...   \n",
       "River   0.000000   0.000000   0.000000   0.000000  ...   0.000000   0.000000   \n",
       "Lake    0.000000   0.000000   0.000000   0.000000  ...   0.000000   0.000000   \n",
       "1       4.293838   4.398125   4.500044   4.642873  ...   5.254035   5.272686   \n",
       "2       6.528699   6.436118   6.351552   6.371174  ...   7.875347   7.840828   \n",
       "3       9.311431   9.404421   9.496941   9.605781  ...   9.598628   9.664284   \n",
       "\n",
       "          166.25     166.50     166.75     167.00     167.25     167.50  \\\n",
       "name                                                                      \n",
       "10      0.144880   0.130657   0.117667  -1.142586  -1.177565  -1.211731   \n",
       "15     34.619137  34.640972  34.662575  34.199169  34.202545  34.205502   \n",
       "20      9.714467   9.763152   9.810387   9.856221   9.884448   9.911059   \n",
       "35     41.460629  41.437065  41.414928  40.955738  40.908260  40.862022   \n",
       "40      5.223307   5.177691   5.135722   5.097277   5.007437   4.921497   \n",
       "...          ...        ...        ...        ...        ...        ...   \n",
       "River   0.000000   0.000000   0.000000   0.000000   0.000000   0.000000   \n",
       "Lake    0.000000   0.000000   0.000000   0.000000   0.000000   0.000000   \n",
       "1       5.223307   5.177691   5.135722   5.097282   5.007437   4.921497   \n",
       "2       7.754382   7.672429   7.594745   7.521132   7.376396   7.237446   \n",
       "3       9.714467   9.763152   9.810387   9.856221   9.884448   9.911059   \n",
       "\n",
       "          167.75     168.00  \n",
       "name                         \n",
       "10     -1.245101  -0.129415  \n",
       "15     34.208065  28.233997  \n",
       "20      9.936118   9.959666  \n",
       "35     40.817017  41.181400  \n",
       "40      4.839358   4.760921  \n",
       "...          ...        ...  \n",
       "River   0.000000   0.000000  \n",
       "Lake    0.000000   0.000000  \n",
       "1       4.839358   4.760921  \n",
       "2       7.104017   6.975867  \n",
       "3       9.936118   9.959661  \n",
       "\n",
       "[97 rows x 673 columns]"
      ]
     },
     "execution_count": 167,
     "metadata": {},
     "output_type": "execute_result"
    }
   ],
   "source": [
    "testResult.pressure"
   ]
  },
  {
   "cell_type": "code",
   "execution_count": 168,
   "metadata": {},
   "outputs": [
    {
     "data": {
      "text/plain": [
       "1575.5015120581477"
      ]
     },
     "execution_count": 168,
     "metadata": {},
     "output_type": "execute_result"
    }
   ],
   "source": [
    "testSensor.calculateProbability(testResult)"
   ]
  },
  {
   "cell_type": "code",
   "execution_count": 169,
   "metadata": {},
   "outputs": [],
   "source": [
    "testCalibrator = Calibrator(\"20\",\"diameter\",stats.norm(6,2))"
   ]
  },
  {
   "cell_type": "markdown",
   "metadata": {},
   "source": [
    "# Setting Up"
   ]
  },
  {
   "cell_type": "code",
   "execution_count": 170,
   "metadata": {},
   "outputs": [],
   "source": [
    "\"\"\"\n",
    "This function generates the random numbers for the parameters being tested\n",
    "\"\"\"\n",
    "def π(listOfCalibrators):\n",
    "    estimatesDict = {}\n",
    "    for calibrator in listOfCalibrators:\n",
    "        rv = calibrator.generateProposal()\n",
    "        estimatesDict[calibrator] = rv\n",
    "    return estimatesDict     "
   ]
  },
  {
   "cell_type": "code",
   "execution_count": 171,
   "metadata": {},
   "outputs": [
    {
     "data": {
      "text/plain": [
       "{<__main__.Calibrator at 0x2789791adc8>: 2.3796869585446028}"
      ]
     },
     "execution_count": 171,
     "metadata": {},
     "output_type": "execute_result"
    }
   ],
   "source": [
    "π([testCalibrator])"
   ]
  },
  {
   "cell_type": "code",
   "execution_count": 172,
   "metadata": {},
   "outputs": [],
   "source": [
    "\"\"\"\n",
    "This function calculates the probability that the parameters are \n",
    "pulled from their distribution\n",
    "\"\"\"\n",
    "def π_Prior(estimatesDict):\n",
    "    p = 1.0\n",
    "    for calibrator,parameterValue in estimatesDict.items():\n",
    "        pi = calibrator.calculateProbability(parameterValue)\n",
    "        p *= pi\n",
    "    return p"
   ]
  },
  {
   "cell_type": "code",
   "execution_count": 173,
   "metadata": {},
   "outputs": [
    {
     "data": {
      "text/plain": [
       "0.19723966545394447"
      ]
     },
     "execution_count": 173,
     "metadata": {},
     "output_type": "execute_result"
    }
   ],
   "source": [
    "π_Prior({testCalibrator:6.3})"
   ]
  },
  {
   "cell_type": "code",
   "execution_count": 174,
   "metadata": {},
   "outputs": [],
   "source": [
    "\"\"\"\n",
    "This function loops through a set of observations and calculates the\n",
    "log-liklihood of each, summed\n",
    "\"\"\"\n",
    "def π_Log_Liklihood(listOfSensors,modelResult):\n",
    "    logLiklihood = 0.0\n",
    "    for sensor in listOfSensors:\n",
    "        logLiklihood += sensor.calculateProbability_Summed_Log(modelResult)\n",
    "#     logLiklihood = np.log(logLiklihood)\n",
    "    return logLiklihood"
   ]
  },
  {
   "cell_type": "code",
   "execution_count": 222,
   "metadata": {},
   "outputs": [
    {
     "data": {
      "text/plain": [
       "-1.8971199848858813"
      ]
     },
     "execution_count": 222,
     "metadata": {},
     "output_type": "execute_result"
    }
   ],
   "source": [
    "np.log(.3) + np.log(.5)"
   ]
  },
  {
   "cell_type": "code",
   "execution_count": 223,
   "metadata": {},
   "outputs": [
    {
     "data": {
      "text/plain": [
       "-0.2231435513142097"
      ]
     },
     "execution_count": 223,
     "metadata": {},
     "output_type": "execute_result"
    }
   ],
   "source": [
    "np.log(.8)"
   ]
  },
  {
   "cell_type": "code",
   "execution_count": 175,
   "metadata": {},
   "outputs": [],
   "source": [
    "def MCMC():\n",
    "    return None"
   ]
  },
  {
   "cell_type": "code",
   "execution_count": 176,
   "metadata": {},
   "outputs": [],
   "source": [
    "def GA():\n",
    "    return None"
   ]
  },
  {
   "cell_type": "code",
   "execution_count": 177,
   "metadata": {},
   "outputs": [],
   "source": [
    "def setParameterValues(proposedParameters):\n",
    "    for calibrator,proposedParameterValue in proposedParameters.items():\n",
    "        calibrator.values.append(proposedParameterValue)"
   ]
  },
  {
   "cell_type": "markdown",
   "metadata": {},
   "source": [
    "# MCMC Step By Step"
   ]
  },
  {
   "cell_type": "code",
   "execution_count": 226,
   "metadata": {},
   "outputs": [],
   "source": [
    "# Set up the known network\n",
    "inp_file = 'networks/Net3.inp'\n",
    "wn_true = wntr.network.WaterNetworkModel(inp_file)\n",
    "waterNetwork = WaterNetworkHelper(wn_true)"
   ]
  },
  {
   "cell_type": "markdown",
   "metadata": {},
   "source": [
    "# Set the calibrators\n",
    "calibrator1 = Calibrator(\"20\",\"roughness\",stats.norm(190,20))\n",
    "calibrator2 = Calibrator(\"40\",\"roughness\",stats.norm(200,10))\n",
    "calibrator3 = Calibrator(\"333\",\"roughness\",stats.norm(130,20))"
   ]
  },
  {
   "cell_type": "markdown",
   "metadata": {},
   "source": [
    "listOfCalibrators = [calibrator1,calibrator2,calibrator3]"
   ]
  },
  {
   "cell_type": "code",
   "execution_count": 227,
   "metadata": {},
   "outputs": [],
   "source": [
    "listOfCalibrators = []\n",
    "trueValues = {}\n",
    "pAddCalibrator = 0.05\n",
    "for i,row in waterNetwork.pipes.iterrows():\n",
    "    rand = np.random.random()\n",
    "    if rand < pAddCalibrator:\n",
    "        actualRoughness = row[\"roughness\"]\n",
    "        dist = stats.norm(actualRoughness,15)\n",
    "        randomRoughness = dist.rvs()\n",
    "        calibrator = Calibrator(i,\"roughness\",stats.norm(randomRoughness,15))\n",
    "        trueValues[calibrator] = actualRoughness\n",
    "        listOfCalibrators.append(calibrator)"
   ]
  },
  {
   "cell_type": "markdown",
   "metadata": {},
   "source": [
    "trueValues = {calibrator1:199,calibrator2:199,calibrator3:140}"
   ]
  },
  {
   "cell_type": "code",
   "execution_count": 228,
   "metadata": {},
   "outputs": [],
   "source": [
    "listOfSensors = []\n",
    "pAddSensor = 0.1\n",
    "for i,row in testResult.flowrate.iterrows():\n",
    "    sensorProperty = \"flowrate\"\n",
    "    sensorName = i\n",
    "    sensorSTD = 0.01\n",
    "    sensorDict = {}\n",
    "#     for time in testResult.pressure.columns:\n",
    "#         sensorDict[time] = row[time]\n",
    "    sensorDict[5.00] = row[5.00]\n",
    "    sensor = Sensor(sensorProperty,sensorName,sensorSTD,sensorDict)\n",
    "    rand = np.random.random()\n",
    "    if rand < pAddSensor:\n",
    "        listOfSensors.append(sensor)"
   ]
  },
  {
   "cell_type": "markdown",
   "metadata": {},
   "source": [
    "sensor1 = Sensor(\"pressure\",\"15\",2,{0.0:28.593653,0.25:28.646692})\n",
    "sensor2 = Sensor(\"pressure\",\"40\",1,{0.0:3.992880,0.25:4.042458})"
   ]
  },
  {
   "cell_type": "markdown",
   "metadata": {},
   "source": [
    "listOfSensors = [sensor1,sensor2]"
   ]
  },
  {
   "cell_type": "code",
   "execution_count": 229,
   "metadata": {},
   "outputs": [],
   "source": [
    "iterations = []\n",
    "acceptanceRatios = []\n",
    "isAccepted = []"
   ]
  },
  {
   "cell_type": "code",
   "execution_count": 230,
   "metadata": {},
   "outputs": [],
   "source": [
    "currentParameters = π(listOfCalibrators)\n",
    "for calibrator,proposedParameterValue in currentParameters.items():\n",
    "    calibrator.values.append(proposedParameterValue)\n",
    "    calibrator.setValue(waterNetwork,proposedParameterValue)\n",
    "currentModelResult = waterNetwork.runSimulation()"
   ]
  },
  {
   "cell_type": "code",
   "execution_count": 231,
   "metadata": {},
   "outputs": [],
   "source": [
    "n = 100"
   ]
  },
  {
   "cell_type": "code",
   "execution_count": 232,
   "metadata": {},
   "outputs": [
    {
     "data": {
      "text/plain": [
       "{<__main__.Calibrator at 0x278af964448>: 144.51821591013953,\n",
       " <__main__.Calibrator at 0x278af964c48>: 137.54035825044244,\n",
       " <__main__.Calibrator at 0x27898478a48>: 134.78573145333834,\n",
       " <__main__.Calibrator at 0x278984680c8>: 171.78228955087937,\n",
       " <__main__.Calibrator at 0x27898468f08>: 134.29065107637354,\n",
       " <__main__.Calibrator at 0x27898d79208>: 166.4494176760833,\n",
       " <__main__.Calibrator at 0x278b39b4fc8>: 156.56316804846605}"
      ]
     },
     "execution_count": 232,
     "metadata": {},
     "output_type": "execute_result"
    }
   ],
   "source": [
    "proposedParameters"
   ]
  },
  {
   "cell_type": "code",
   "execution_count": 233,
   "metadata": {},
   "outputs": [
    {
     "data": {
      "text/html": [
       "<div><span class=\"Text-label\" style=\"display:inline-block; overflow:hidden; white-space:nowrap; text-overflow:ellipsis; min-width:0; max-width:15ex; vertical-align:middle; text-align:right\"></span>\n",
       "<progress style=\"width:60ex\" max=\"100\" value=\"100\" class=\"Progress-main\"/></progress>\n",
       "<span class=\"Progress-label\"><strong>100%</strong></span>\n",
       "<span class=\"Iteration-label\">100/100</span>\n",
       "<span class=\"Time-label\">[00:29<00:00, 0.29s/it]</span></div>"
      ],
      "text/plain": [
       "\u001b[A\u001b[2K\r",
       " [████████████████████████████████████████████████████████████] 100/100 [00:29<00:00, 0.29s/it]"
      ]
     },
     "metadata": {},
     "output_type": "display_data"
    }
   ],
   "source": [
    "for i in track(range(0,n)):\n",
    "    iterations.append(i)\n",
    "    \n",
    "    # generate a set of proposed values as a starting point\n",
    "    proposedParameters = π(listOfCalibrators)\n",
    "    for calibrator,proposedParameterValue in proposedParameters.items():\n",
    "        calibrator.proposedValues.append(proposedParameterValue)\n",
    "        # udpate the model\n",
    "        calibrator.setValue(waterNetwork,proposedParameterValue)\n",
    "    \n",
    "    # run the model\n",
    "    try:\n",
    "        modelResult = waterNetwork.runSimulation()\n",
    "\n",
    "        # calculate the acceptance probabilities\n",
    "        α_1 = np.log(π_Prior(proposedParameters))\n",
    "        α_2 = π_Log_Liklihood(listOfSensors,modelResult)\n",
    "        α_3 = np.log(π_Prior({calibrator:calibrator.values[-1] for calibrator in listOfCalibrators}))\n",
    "        α_4 = π_Log_Liklihood(listOfSensors,currentModelResult)\n",
    "        α = np.exp(α_1 + α_2 - α_3 - α_4)\n",
    "        α = min(1.0,α)\n",
    "        acceptanceRatios.append(α)\n",
    "        accepted = False\n",
    "\n",
    "        # decide if we accept\n",
    "        if α == 1: # accept\n",
    "            setParameterValues(proposedParameters)\n",
    "            currentParameters = proposedParameters\n",
    "            currentModelResult = modelResult\n",
    "            accepted = True\n",
    "        else: # draw a random number and take the probability based on α\n",
    "            rand = np.random.random()\n",
    "            if rand < α: # accept\n",
    "                setParameterValues(proposedParameters)\n",
    "                currentParameters = proposedParameters\n",
    "                currentModelResult = modelResult\n",
    "                accepted = True\n",
    "            else:\n",
    "                setParameterValues(currentParameters)\n",
    "\n",
    "        # update our iteration\n",
    "        # update parameter histories\n",
    "        isAccepted.append(accepted)\n",
    "    except:\n",
    "        pass\n",
    "\n",
    "# generate the return data frame\n"
   ]
  },
  {
   "cell_type": "code",
   "execution_count": 234,
   "metadata": {},
   "outputs": [
    {
     "data": {
      "image/png": "[encoded data removed]",
      "text/plain": [
       "<Figure size 1440x360 with 1 Axes>"
      ]
     },
     "metadata": {
      "needs_background": "light"
     },
     "output_type": "display_data"
    }
   ],
   "source": [
    "fig,ax = plt.subplots(figsize=(20,5))\n",
    "(testResult.flowrate[5.00] - currentModelResult.flowrate[5.00]).plot(ax=ax,kind=\"bar\")\n",
    "ax.set_title(f\"Actual Differences in Link Flow Rates\\nAcceptance Rate: {np.sum(isAccepted)/len(isAccepted)}\");"
   ]
  },
  {
   "cell_type": "code",
   "execution_count": 235,
   "metadata": {},
   "outputs": [
    {
     "data": {
      "image/png": "[encoded data removed]",
      "text/plain": [
       "<Figure size 720x720 with 1 Axes>"
      ]
     },
     "metadata": {
      "needs_background": "light"
     },
     "output_type": "display_data"
    },
    {
     "data": {
      "image/png": "[encoded data removed]",
      "text/plain": [
       "<Figure size 720x720 with 1 Axes>"
      ]
     },
     "metadata": {
      "needs_background": "light"
     },
     "output_type": "display_data"
    },
    {
     "data": {
      "image/png": "[encoded data removed]",
      "text/plain": [
       "<Figure size 720x720 with 1 Axes>"
      ]
     },
     "metadata": {
      "needs_background": "light"
     },
     "output_type": "display_data"
    },
    {
     "data": {
      "image/png": "[encoded data removed]",
      "text/plain": [
       "<Figure size 720x720 with 1 Axes>"
      ]
     },
     "metadata": {
      "needs_background": "light"
     },
     "output_type": "display_data"
    },
    {
     "data": {
      "image/png": "[encoded data removed]",
      "text/plain": [
       "<Figure size 720x720 with 1 Axes>"
      ]
     },
     "metadata": {
      "needs_background": "light"
     },
     "output_type": "display_data"
    },
    {
     "data": {
      "image/png": "[encoded data removed]",
      "text/plain": [
       "<Figure size 720x720 with 1 Axes>"
      ]
     },
     "metadata": {
      "needs_background": "light"
     },
     "output_type": "display_data"
    },
    {
     "data": {
      "image/png": "[encoded data removed]",
      "text/plain": [
       "<Figure size 720x720 with 1 Axes>"
      ]
     },
     "metadata": {
      "needs_background": "light"
     },
     "output_type": "display_data"
    },
    {
     "data": {
      "image/png": "[encoded data removed]",
      "text/plain": [
       "<Figure size 720x720 with 1 Axes>"
      ]
     },
     "metadata": {
      "needs_background": "light"
     },
     "output_type": "display_data"
    }
   ],
   "source": [
    "for i in range(0,len(listOfCalibrators)):\n",
    "    listOfCalibrators[i].plot(trueValues[listOfCalibrators[i]])"
   ]
  },
  {
   "cell_type": "code",
   "execution_count": 39,
   "metadata": {},
   "outputs": [
    {
     "data": {
      "image/png": "[encoded data removed]",
      "text/plain": [
       "<Figure size 720x720 with 1 Axes>"
      ]
     },
     "metadata": {
      "needs_background": "light"
     },
     "output_type": "display_data"
    },
    {
     "data": {
      "image/png": "[encoded data removed]",
      "text/plain": [
       "<Figure size 720x720 with 1 Axes>"
      ]
     },
     "metadata": {
      "needs_background": "light"
     },
     "output_type": "display_data"
    },
    {
     "data": {
      "image/png": "[encoded data removed]",
      "text/plain": [
       "<Figure size 720x720 with 1 Axes>"
      ]
     },
     "metadata": {
      "needs_background": "light"
     },
     "output_type": "display_data"
    }
   ],
   "source": [
    "ax1 = calibrator1.plot(trueValues[calibrator1])\n",
    "ax2 = calibrator2.plot(trueValues[calibrator2])\n",
    "ax3 = calibrator3.plot(trueValues[calibrator3])"
   ]
  },
  {
   "cell_type": "code",
   "execution_count": 84,
   "metadata": {},
   "outputs": [
    {
     "data": {
      "text/plain": [
       "0.15"
      ]
     },
     "execution_count": 84,
     "metadata": {},
     "output_type": "execute_result"
    }
   ],
   "source": [
    "np.sum(isAccepted)/len(isAccepted)"
   ]
  },
  {
   "cell_type": "markdown",
   "metadata": {},
   "source": [
    "# Let's do this"
   ]
  },
  {
   "cell_type": "markdown",
   "metadata": {},
   "source": [
    "For simplicity, we are treating the only system states as flow rate, and the only parameters as pipe roughness"
   ]
  },
  {
   "cell_type": "markdown",
   "metadata": {},
   "source": [
    "## Inputs"
   ]
  },
  {
   "cell_type": "code",
   "execution_count": null,
   "metadata": {},
   "outputs": [],
   "source": [
    "class Parameter():\n",
    "    def __init__(self,pipeName,value,distribution=None,isFixed=True):\n",
    "        self.pipeName = pipeName\n",
    "        self.value = value\n",
    "        self.distribution = distribution\n",
    "        self.isFixed = isFixed\n",
    "        \n",
    "    def generateValue(self):\n",
    "        return 0\n",
    "    \n",
    "    def probabilityOfValue(self):\n",
    "        return 0"
   ]
  },
  {
   "cell_type": "code",
   "execution_count": null,
   "metadata": {},
   "outputs": [],
   "source": [
    "class Model():\n",
    "    def __init__(self,wn,listOfParameters):\n",
    "        self.wn = wn\n",
    "        self.listOfParameters = listOfParameters"
   ]
  },
  {
   "cell_type": "markdown",
   "metadata": {},
   "source": [
    "### Fixed Inputs"
   ]
  },
  {
   "cell_type": "markdown",
   "metadata": {},
   "source": [
    "### Distributions of Priors"
   ]
  },
  {
   "cell_type": "markdown",
   "metadata": {},
   "source": [
    "### Trusted System States and their Distributions (Uncertainty) for Calibration"
   ]
  },
  {
   "cell_type": "markdown",
   "metadata": {},
   "source": [
    "## Methods"
   ]
  },
  {
   "cell_type": "markdown",
   "metadata": {},
   "source": [
    "### $\\pi$- Generates the random values for the parameters being tested"
   ]
  },
  {
   "cell_type": "code",
   "execution_count": null,
   "metadata": {},
   "outputs": [],
   "source": [
    "def π():\n",
    "    return 0"
   ]
  },
  {
   "cell_type": "markdown",
   "metadata": {},
   "source": [
    "### $\\pi_{prior}$- Calculates the probability that a set of parameter 'states' are pulled from their distributions"
   ]
  },
  {
   "cell_type": "code",
   "execution_count": null,
   "metadata": {},
   "outputs": [],
   "source": [
    "def π_prior():\n",
    "    return 0"
   ]
  },
  {
   "cell_type": "markdown",
   "metadata": {},
   "source": [
    "### $\\pi_{log liklihood}$- The sum of the log liklihood of each resulting system state matching the trusted system state"
   ]
  },
  {
   "cell_type": "code",
   "execution_count": null,
   "metadata": {},
   "outputs": [],
   "source": [
    "def π_logLikelihood():\n",
    "    return 0"
   ]
  },
  {
   "cell_type": "markdown",
   "metadata": {},
   "source": [
    "### MCMC"
   ]
  },
  {
   "cell_type": "code",
   "execution_count": null,
   "metadata": {},
   "outputs": [],
   "source": [
    "def MCMC():\n",
    "    return 0"
   ]
  },
  {
   "cell_type": "markdown",
   "metadata": {},
   "source": [
    "1. Set the parameters for the model, both fixed and pulling from distributions\n",
    "2. Run the model with the selected parameters\n",
    "3. Compare model results to the \"sensor\" feeds\n",
    "4. Calculate the acceptance ratio"
   ]
  },
  {
   "cell_type": "raw",
   "metadata": {},
   "source": [
    "for parameter in wn.parameters:\n",
    "    parameterProbaility = 1.0\n",
    "    if parameter.isFixed:\n",
    "        wn.setParaemter(parameter.value)\n",
    "    else:\n",
    "        value,probability = parameter.generateProposal()\n",
    "        wn.setParameter(value)\n",
    "        parameterProbability *= probability\n",
    "results = wn.runSImulation()\n",
    "reusltsProbability = 1.0\n",
    "for calibrator in calibrators:\n",
    "    comparableResult = extractResult(results,calibrator)\n",
    "    resultProbability = calibrator.distribution.rvs(comparableResult,calibrator.value,calibrator.std)\n",
    "    resultsProbability *= resultProbability\n",
    "calculateAlpha(resultsProbability,parameterProbability)"
   ]
  },
  {
   "cell_type": "code",
   "execution_count": null,
   "metadata": {},
   "outputs": [],
   "source": []
  }
 ],
 "metadata": {
  "kernelspec": {
   "display_name": "Python 3.7.6 64-bit ('phd': conda)",
   "language": "python",
   "name": "python37664bitphdcondab24623704836426aa66db115e96068bb"
  },
  "language_info": {
   "codemirror_mode": {
    "name": "ipython",
    "version": 3
   },
   "file_extension": ".py",
   "mimetype": "text/x-python",
   "name": "python",
   "nbconvert_exporter": "python",
   "pygments_lexer": "ipython3",
   "version": "3.7.6"
  }
 },
 "nbformat": 4,
 "nbformat_minor": 4
}
